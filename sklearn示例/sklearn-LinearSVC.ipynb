{
 "cells": [
  {
   "cell_type": "code",
   "execution_count": 1,
   "metadata": {
    "collapsed": true
   },
   "outputs": [],
   "source": [
    "# 绘图模块\n",
    "import numpy as np\n",
    "from matplotlib import pyplot as plt\n",
    "from matplotlib.colors import ListedColormap\n",
    "%matplotlib inline\n",
    "def predict(x, w, b):\n",
    "        return np.dot(clf.coef_, x) + clf.intercept_\n",
    "def plot_decsion_plane(x, w, b):\n",
    "    # 画决策面\n",
    "    colors = ['red', 'blue']\n",
    "    cmap = ListedColormap(colors[:len(np.unique(y))])\n",
    "    x1_min, x1_max = x[:, 0].min() - 1, x[:, 0].max() + 1\n",
    "    x2_min, x2_max = x[:, 1].min() - 1, x[:, 1].max() + 1\n",
    "    xx1, xx2 = np.meshgrid(np.arange(x1_min, x1_max, 0.02),np.arange(x2_min, x2_max, 0.02))\n",
    "    Z = predict(np.array([xx1.ravel(), xx2.ravel()]), w, b)\n",
    "    Z = Z.reshape(xx1.shape)\n",
    "    plt.contourf(xx1, xx2, Z, alpha=0.4, cmap=cmap)\n",
    "    plt.xlim(xx1.min(), xx1.max())\n",
    "    plt.ylim(xx2.min(), xx2.max())\n",
    "\n",
    "    # 画样本点\n",
    "    markers = ('x', 'o')\n",
    "    for idx, ci in enumerate(np.unique(y)):\n",
    "        plt.scatter(x=x[y == ci, 0], y=x[y == ci, 1], alpha=0.8, c=np.atleast_2d(cmap(idx)), \n",
    "                    marker=markers[idx], label=ci)\n",
    "\n",
    "    # 画图例\n",
    "    plt.legend(loc='upper left')\n",
    "    plt.show()"
   ]
  },
  {
   "cell_type": "code",
   "execution_count": 2,
   "metadata": {
    "collapsed": true
   },
   "outputs": [],
   "source": [
    "# 定义训练数据\n",
    "X = np.array([[3,3],\n",
    "              [4,3],\n",
    "              [1,1]])\n",
    "y = np.array([1, 1, -1])"
   ]
  },
  {
   "cell_type": "code",
   "execution_count": 3,
   "metadata": {},
   "outputs": [
    {
     "data": {
      "text/plain": [
       "LinearSVC(C=1.0, class_weight=None, dual=True, fit_intercept=True,\n",
       "     intercept_scaling=2, loss='hinge', max_iter=1000, multi_class='ovr',\n",
       "     penalty='l2', random_state=0, tol=0.0001, verbose=0)"
      ]
     },
     "execution_count": 3,
     "metadata": {},
     "output_type": "execute_result"
    }
   ],
   "source": [
    "# Liblinear使用正则化项penalty的求解\n",
    "from sklearn.svm import LinearSVC\n",
    "# 实例化模型，最优解存在但截距b的值不唯一，可以通过intercept_scaling调节\n",
    "clf = LinearSVC(random_state=0, fit_intercept=True, intercept_scaling=2, penalty='l2', loss='hinge', dual=True)\n",
    "# 训练模型\n",
    "clf.fit(X, y)"
   ]
  },
  {
   "cell_type": "code",
   "execution_count": 4,
   "metadata": {},
   "outputs": [
    {
     "name": "stdout",
     "output_type": "stream",
     "text": [
      "w= [[ 0.49997201  0.49997201]]\n",
      "b= [-1.99994401]\n"
     ]
    }
   ],
   "source": [
    "# 打印系数矩阵\n",
    "print(\"w=\", clf.coef_)\n",
    "# 打印截距\n",
    "print(\"b=\", clf.intercept_)"
   ]
  },
  {
   "cell_type": "code",
   "execution_count": 5,
   "metadata": {},
   "outputs": [
    {
     "data": {
      "image/png": "[encoded data removed]",
      "text/plain": [
       "<matplotlib.figure.Figure at 0x5ba2dd8>"
      ]
     },
     "metadata": {},
     "output_type": "display_data"
    }
   ],
   "source": [
    "# 画决策面\n",
    "plot_decsion_plane(X, clf.coef_, clf.intercept_)"
   ]
  },
  {
   "cell_type": "code",
   "execution_count": 6,
   "metadata": {},
   "outputs": [
    {
     "name": "stdout",
     "output_type": "stream",
     "text": [
      "iter  633\n",
      "w= [ 0.50190251  0.50188436]\n",
      "b= -2.01\n"
     ]
    }
   ],
   "source": [
    "# 验证线性支持向量机对偶形式的约束最小化问题等价于带有L2罚项的合页损失无约束最小化问题\n",
    "learning_rate = 0.01\n",
    "max_iter = 1000\n",
    "C = 1\n",
    "# 权值初始值\n",
    "w = np.array([0, 0])\n",
    "# 偏置初始值\n",
    "b = 0\n",
    "\n",
    "# 训练过程\n",
    "iter_cnt = 0\n",
    "for j in range(1, max_iter+1):\n",
    "    # 计算误差向量\n",
    "    ei_li = []\n",
    "    for i in range(X.shape[0]):\n",
    "        ei = 1 - y[i] * (np.dot(w, X[i, :]) + b)\n",
    "        ei_li.append(ei)\n",
    "\n",
    "    # 取出误差最大项\n",
    "    max_e = max(ei_li)\n",
    "    max_e_index = ei_li.index(max_e)\n",
    "\n",
    "    # 最大误差项<=0 退出\n",
    "    if max_e <= 0:\n",
    "        break\n",
    "\n",
    "    # 更新参数\n",
    "    w = (1-learning_rate) * w + learning_rate * C * y[max_e_index] * X[max_e_index, :]\n",
    "    b = b + learning_rate * C * y[max_e_index]\n",
    "    \n",
    "    iter_cnt += 1\n",
    "\n",
    "print(\"iter \", iter_cnt)\n",
    "print(\"w=\", w)\n",
    "print(\"b=\", b)\n"
   ]
  },
  {
   "cell_type": "code",
   "execution_count": 7,
   "metadata": {},
   "outputs": [
    {
     "data": {
      "image/png": "[encoded data removed]",
      "text/plain": [
       "<matplotlib.figure.Figure at 0x87c6fd0>"
      ]
     },
     "metadata": {},
     "output_type": "display_data"
    }
   ],
   "source": [
    "plot_decsion_plane(X, w, b)"
   ]
  }
 ],
 "metadata": {
  "anaconda-cloud": {},
  "kernelspec": {
   "display_name": "Python 3",
   "language": "python",
   "name": "python3"
  },
  "language_info": {
   "codemirror_mode": {
    "name": "ipython",
    "version": 3
   },
   "file_extension": ".py",
   "mimetype": "text/x-python",
   "name": "python",
   "nbconvert_exporter": "python",
   "pygments_lexer": "ipython3",
   "version": "3.4.3"
  }
 },
 "nbformat": 4,
 "nbformat_minor": 1
}
