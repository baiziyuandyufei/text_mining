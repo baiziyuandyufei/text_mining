{
 "cells": [
  {
   "cell_type": "code",
   "execution_count": 1,
   "metadata": {
    "collapsed": false,
    "scrolled": true
   },
   "outputs": [
    {
     "name": "stdout",
     "output_type": "stream",
     "text": [
      "Help on function load_files in module sklearn.datasets.base:\n",
      "\n",
      "load_files(container_path, description=None, categories=None, load_content=True, shuffle=True, encoding=None, decode_error='strict', random_state=0)\n",
      "    Load text files with categories as subfolder names.\n",
      "    \n",
      "    Individual samples are assumed to be files stored a two levels folder\n",
      "    structure such as the following:\n",
      "    \n",
      "        container_folder/\n",
      "            category_1_folder/\n",
      "                file_1.txt\n",
      "                file_2.txt\n",
      "                ...\n",
      "                file_42.txt\n",
      "            category_2_folder/\n",
      "                file_43.txt\n",
      "                file_44.txt\n",
      "                ...\n",
      "    \n",
      "    The folder names are used as supervised signal label names. The individual\n",
      "    file names are not important.\n",
      "    \n",
      "    This function does not try to extract features into a numpy array or scipy\n",
      "    sparse matrix. In addition, if load_content is false it does not try to\n",
      "    load the files in memory.\n",
      "    \n",
      "    To use text files in a scikit-learn classification or clustering algorithm,\n",
      "    you will need to use the `sklearn.feature_extraction.text` module to build\n",
      "    a feature extraction transformer that suits your problem.\n",
      "    \n",
      "    If you set load_content=True, you should also specify the encoding of the\n",
      "    text using the 'encoding' parameter. For many modern text files, 'utf-8'\n",
      "    will be the correct encoding. If you leave encoding equal to None, then the\n",
      "    content will be made of bytes instead of Unicode, and you will not be able\n",
      "    to use most functions in `sklearn.feature_extraction.text`.\n",
      "    \n",
      "    Similar feature extractors should be built for other kind of unstructured\n",
      "    data input such as images, audio, video, ...\n",
      "    \n",
      "    Read more in the :ref:`User Guide <datasets>`.\n",
      "    \n",
      "    Parameters\n",
      "    ----------\n",
      "    container_path : string or unicode\n",
      "        Path to the main folder holding one subfolder per category\n",
      "    \n",
      "    description : string or unicode, optional (default=None)\n",
      "        A paragraph describing the characteristic of the dataset: its source,\n",
      "        reference, etc.\n",
      "    \n",
      "    categories : A collection of strings or None, optional (default=None)\n",
      "        If None (default), load all the categories. If not None, list of\n",
      "        category names to load (other categories ignored).\n",
      "    \n",
      "    load_content : boolean, optional (default=True)\n",
      "        Whether to load or not the content of the different files. If true a\n",
      "        'data' attribute containing the text information is present in the data\n",
      "        structure returned. If not, a filenames attribute gives the path to the\n",
      "        files.\n",
      "    \n",
      "    shuffle : bool, optional (default=True)\n",
      "        Whether or not to shuffle the data: might be important for models that\n",
      "        make the assumption that the samples are independent and identically\n",
      "        distributed (i.i.d.), such as stochastic gradient descent.\n",
      "    \n",
      "    encoding : string or None (default is None)\n",
      "        If None, do not try to decode the content of the files (e.g. for images\n",
      "        or other non-text content). If not None, encoding to use to decode text\n",
      "        files to Unicode if load_content is True.\n",
      "    \n",
      "    decode_error : {'strict', 'ignore', 'replace'}, optional\n",
      "        Instruction on what to do if a byte sequence is given to analyze that\n",
      "        contains characters not of the given `encoding`. Passed as keyword\n",
      "        argument 'errors' to bytes.decode.\n",
      "    \n",
      "    random_state : int, RandomState instance or None (default=0)\n",
      "        Determines random number generation for dataset shuffling. Pass an int\n",
      "        for reproducible output across multiple function calls.\n",
      "        See :term:`Glossary <random_state>`.\n",
      "    \n",
      "    Returns\n",
      "    -------\n",
      "    data : Bunch\n",
      "        Dictionary-like object, the interesting attributes are: either\n",
      "        data, the raw text data to learn, or 'filenames', the files\n",
      "        holding it, 'target', the classification labels (integer index),\n",
      "        'target_names', the meaning of the labels, and 'DESCR', the full\n",
      "        description of the dataset.\n",
      "\n"
     ]
    }
   ],
   "source": [
    "from sklearn.datasets import load_files\n",
    "help(load_files)"
   ]
  },
  {
   "cell_type": "code",
   "execution_count": 2,
   "metadata": {
    "collapsed": true
   },
   "outputs": [],
   "source": [
    "# 加载数据\n",
    "data = load_files(container_path=\"../data/news\",  # 分类语料根目录\n",
    "                      categories=['Agriculture', 'Communication', 'Education',  \n",
    "                                  'Electronics', 'Medical', 'Sports'],  # 需要加载的类目名称列表\n",
    "                      encoding=\"gbk\", decode_error=\"ignore\")  # 文件编码"
   ]
  },
  {
   "cell_type": "code",
   "execution_count": 3,
   "metadata": {
    "collapsed": false
   },
   "outputs": [
    {
     "name": "stdout",
     "output_type": "stream",
     "text": [
      "第1篇文本\n",
      "8\t中国选手再夺加拿大杯游泳赛,枚奖牌,新华社渥太华,月,日电,记者廖振云,历时,天,的,年加拿大杯国际游泳赛,日在温哥华结束,中国队派出,名女选手参赛,共获,枚金牌,枚银牌和,枚铜牌,取得自,年参加这项赛事以来的最好成,绩,在,日进行的颁奖式上,中国选手林莉被评为本届,杯赛唯一的女子,最佳运动员,同时被授予,得分最高,者,奖,她在这次比赛中共获得两枚金牌,在,日的女子组比赛中,中国选手共获得,枚金牌,和,枚银牌,岁的林莉和,岁的阎明分别夺得,米个人混合泳金牌和银牌,林莉还以,分,秒,的,成绩刷新了这个项目的赛会纪录,岁的孙春莅以,秒,的成绩夺得,米自由泳的金牌,岁的李洁,以,分,秒,的成绩获得,米仰泳的金牌,中国,队还以,分,秒,的成绩获,米混合泳接力,赛的第一名,并打破了这个项目的赛会纪录,这次杯赛是,日开始的,参加比赛的除中国选手外,还有瑞典,澳大利亚,美国,英国,新西兰及东道主加,拿大等国的好手,完\n",
      "<class 'str'>\n"
     ]
    }
   ],
   "source": [
    "# 打印文本数据\n",
    "for text_ser, text in enumerate(data.data[:1]):\n",
    "    print(\"第%d篇文本\" % (text_ser+1))\n",
    "    print(text)\n",
    "    print(type(text))"
   ]
  },
  {
   "cell_type": "code",
   "execution_count": 4,
   "metadata": {
    "collapsed": false
   },
   "outputs": [
    {
     "data": {
      "text/plain": [
       "array(['../data/news/Sports/61.txt',\n",
       "       '../data/news/Agriculture/C32-Agriculture0893.txt',\n",
       "       '../data/news/Agriculture/C32-Agriculture0919.txt', ...,\n",
       "       '../data/news/Sports/128.txt',\n",
       "       '../data/news/Agriculture/C32-Agriculture1120.txt',\n",
       "       '../data/news/Agriculture/C32-Agriculture1370.txt'], dtype='<U50')"
      ]
     },
     "execution_count": 4,
     "metadata": {},
     "output_type": "execute_result"
    }
   ],
   "source": [
    "# 加载到内存中文件的路径名称列表\n",
    "data.filenames"
   ]
  },
  {
   "cell_type": "code",
   "execution_count": 5,
   "metadata": {
    "collapsed": false
   },
   "outputs": [
    {
     "data": {
      "text/plain": [
       "array([5, 0, 0, ..., 5, 0, 0])"
      ]
     },
     "execution_count": 5,
     "metadata": {},
     "output_type": "execute_result"
    }
   ],
   "source": [
    "# 加载到内存中文件的类别序号label\n",
    "data.target"
   ]
  },
  {
   "cell_type": "code",
   "execution_count": 6,
   "metadata": {
    "collapsed": false
   },
   "outputs": [
    {
     "data": {
      "text/plain": [
       "['Agriculture',\n",
       " 'Communication',\n",
       " 'Education',\n",
       " 'Electronics',\n",
       " 'Medical',\n",
       " 'Sports']"
      ]
     },
     "execution_count": 6,
     "metadata": {},
     "output_type": "execute_result"
    }
   ],
   "source": [
    "# 每个类别label对应的类别名称列表\n",
    "data.target_names"
   ]
  },
  {
   "cell_type": "code",
   "execution_count": 7,
   "metadata": {
    "collapsed": true
   },
   "outputs": [],
   "source": [
    "# 加载数据\n",
    "data = load_files(container_path=\"../data/news\",  # 分类语料根目录\n",
    "                      categories=['Agriculture', 'Communication', 'Education',  \n",
    "                                  'Electronics', 'Medical', 'Sports'])  # 需要加载的类目名称列表"
   ]
  },
  {
   "cell_type": "code",
   "execution_count": 8,
   "metadata": {
    "collapsed": false
   },
   "outputs": [
    {
     "name": "stdout",
     "output_type": "stream",
     "text": [
      "<class 'bytes'>\n"
     ]
    }
   ],
   "source": [
    "# 打印文本数据\n",
    "print(type(data.data[0]))"
   ]
  },
  {
   "cell_type": "code",
   "execution_count": 9,
   "metadata": {
    "collapsed": false
   },
   "outputs": [
    {
     "data": {
      "text/plain": [
       "b'8\\t\\xd6\\xd0\\xb9\\xfa\\xd1\\xa1\\xca\\xd6\\xd4\\xd9\\xb6\\xe1\\xbc\\xd3\\xc4\\xc3\\xb4\\xf3\\xb1\\xad\\xd3\\xce\\xd3\\xbe\\xc8\\xfc,\\xc3\\xb6\\xbd\\xb1\\xc5\\xc6,\\xd0\\xc2\\xbb\\xaa\\xc9\\xe7\\xe4\\xd7\\xcc\\xab\\xbb\\xaa,\\xd4\\xc2,\\xc8\\xd5\\xb5\\xe7,\\xbc\\xc7\\xd5\\xdf\\xc1\\xce\\xd5\\xf1\\xd4\\xc6,\\xc0\\xfa\\xca\\xb1,\\xcc\\xec,\\xb5\\xc4,\\xc4\\xea\\xbc\\xd3\\xc4\\xc3\\xb4\\xf3\\xb1\\xad\\xb9\\xfa\\xbc\\xca\\xd3\\xce\\xd3\\xbe\\xc8\\xfc,\\xc8\\xd5\\xd4\\xda\\xce\\xc2\\xb8\\xe7\\xbb\\xaa\\xbd\\xe1\\xca\\xf8,\\xd6\\xd0\\xb9\\xfa\\xb6\\xd3\\xc5\\xc9\\xb3\\xf6,\\xc3\\xfb\\xc5\\xae\\xd1\\xa1\\xca\\xd6\\xb2\\xce\\xc8\\xfc,\\xb9\\xb2\\xbb\\xf1,\\xc3\\xb6\\xbd\\xf0\\xc5\\xc6,\\xc3\\xb6\\xd2\\xf8\\xc5\\xc6\\xba\\xcd,\\xc3\\xb6\\xcd\\xad\\xc5\\xc6,\\xc8\\xa1\\xb5\\xc3\\xd7\\xd4,\\xc4\\xea\\xb2\\xce\\xbc\\xd3\\xd5\\xe2\\xcf\\xee\\xc8\\xfc\\xca\\xc2\\xd2\\xd4\\xc0\\xb4\\xb5\\xc4\\xd7\\xee\\xba\\xc3\\xb3\\xc9,\\xbc\\xa8,\\xd4\\xda,\\xc8\\xd5\\xbd\\xf8\\xd0\\xd0\\xb5\\xc4\\xb0\\xe4\\xbd\\xb1\\xca\\xbd\\xc9\\xcf,\\xd6\\xd0\\xb9\\xfa\\xd1\\xa1\\xca\\xd6\\xc1\\xd6\\xc0\\xf2\\xb1\\xbb\\xc6\\xc0\\xce\\xaa\\xb1\\xbe\\xbd\\xec,\\xb1\\xad\\xc8\\xfc\\xce\\xa8\\xd2\\xbb\\xb5\\xc4\\xc5\\xae\\xd7\\xd3,\\xd7\\xee\\xbc\\xd1\\xd4\\xcb\\xb6\\xaf\\xd4\\xb1,\\xcd\\xac\\xca\\xb1\\xb1\\xbb\\xca\\xda\\xd3\\xe8,\\xb5\\xc3\\xb7\\xd6\\xd7\\xee\\xb8\\xdf,\\xd5\\xdf,\\xbd\\xb1,\\xcb\\xfd\\xd4\\xda\\xd5\\xe2\\xb4\\xce\\xb1\\xc8\\xc8\\xfc\\xd6\\xd0\\xb9\\xb2\\xbb\\xf1\\xb5\\xc3\\xc1\\xbd\\xc3\\xb6\\xbd\\xf0\\xc5\\xc6,\\xd4\\xda,\\xc8\\xd5\\xb5\\xc4\\xc5\\xae\\xd7\\xd3\\xd7\\xe9\\xb1\\xc8\\xc8\\xfc\\xd6\\xd0,\\xd6\\xd0\\xb9\\xfa\\xd1\\xa1\\xca\\xd6\\xb9\\xb2\\xbb\\xf1\\xb5\\xc3,\\xc3\\xb6\\xbd\\xf0\\xc5\\xc6,\\xba\\xcd,\\xc3\\xb6\\xd2\\xf8\\xc5\\xc6,\\xcb\\xea\\xb5\\xc4\\xc1\\xd6\\xc0\\xf2\\xba\\xcd,\\xcb\\xea\\xb5\\xc4\\xd1\\xd6\\xc3\\xf7\\xb7\\xd6\\xb1\\xf0\\xb6\\xe1\\xb5\\xc3,\\xc3\\xd7\\xb8\\xf6\\xc8\\xcb\\xbb\\xec\\xba\\xcf\\xd3\\xbe\\xbd\\xf0\\xc5\\xc6\\xba\\xcd\\xd2\\xf8\\xc5\\xc6,\\xc1\\xd6\\xc0\\xf2\\xbb\\xb9\\xd2\\xd4,\\xb7\\xd6,\\xc3\\xeb,\\xb5\\xc4,\\xb3\\xc9\\xbc\\xa8\\xcb\\xa2\\xd0\\xc2\\xc1\\xcb\\xd5\\xe2\\xb8\\xf6\\xcf\\xee\\xc4\\xbf\\xb5\\xc4\\xc8\\xfc\\xbb\\xe1\\xbc\\xcd\\xc2\\xbc,\\xcb\\xea\\xb5\\xc4\\xcb\\xef\\xb4\\xba\\xdd\\xb0\\xd2\\xd4,\\xc3\\xeb,\\xb5\\xc4\\xb3\\xc9\\xbc\\xa8\\xb6\\xe1\\xb5\\xc3,\\xc3\\xd7\\xd7\\xd4\\xd3\\xc9\\xd3\\xbe\\xb5\\xc4\\xbd\\xf0\\xc5\\xc6,\\xcb\\xea\\xb5\\xc4\\xc0\\xee\\xbd\\xe0,\\xd2\\xd4,\\xb7\\xd6,\\xc3\\xeb,\\xb5\\xc4\\xb3\\xc9\\xbc\\xa8\\xbb\\xf1\\xb5\\xc3,\\xc3\\xd7\\xd1\\xf6\\xd3\\xbe\\xb5\\xc4\\xbd\\xf0\\xc5\\xc6,\\xd6\\xd0\\xb9\\xfa,\\xb6\\xd3\\xbb\\xb9\\xd2\\xd4,\\xb7\\xd6,\\xc3\\xeb,\\xb5\\xc4\\xb3\\xc9\\xbc\\xa8\\xbb\\xf1,\\xc3\\xd7\\xbb\\xec\\xba\\xcf\\xd3\\xbe\\xbd\\xd3\\xc1\\xa6,\\xc8\\xfc\\xb5\\xc4\\xb5\\xda\\xd2\\xbb\\xc3\\xfb,\\xb2\\xa2\\xb4\\xf2\\xc6\\xc6\\xc1\\xcb\\xd5\\xe2\\xb8\\xf6\\xcf\\xee\\xc4\\xbf\\xb5\\xc4\\xc8\\xfc\\xbb\\xe1\\xbc\\xcd\\xc2\\xbc,\\xd5\\xe2\\xb4\\xce\\xb1\\xad\\xc8\\xfc\\xca\\xc7,\\xc8\\xd5\\xbf\\xaa\\xca\\xbc\\xb5\\xc4,\\xb2\\xce\\xbc\\xd3\\xb1\\xc8\\xc8\\xfc\\xb5\\xc4\\xb3\\xfd\\xd6\\xd0\\xb9\\xfa\\xd1\\xa1\\xca\\xd6\\xcd\\xe2,\\xbb\\xb9\\xd3\\xd0\\xc8\\xf0\\xb5\\xe4,\\xb0\\xc4\\xb4\\xf3\\xc0\\xfb\\xd1\\xc7,\\xc3\\xc0\\xb9\\xfa,\\xd3\\xa2\\xb9\\xfa,\\xd0\\xc2\\xce\\xf7\\xc0\\xbc\\xbc\\xb0\\xb6\\xab\\xb5\\xc0\\xd6\\xf7\\xbc\\xd3,\\xc4\\xc3\\xb4\\xf3\\xb5\\xc8\\xb9\\xfa\\xb5\\xc4\\xba\\xc3\\xca\\xd6,\\xcd\\xea'"
      ]
     },
     "execution_count": 9,
     "metadata": {},
     "output_type": "execute_result"
    }
   ],
   "source": [
    "# 显示字节流\n",
    "data.data[0]"
   ]
  },
  {
   "cell_type": "code",
   "execution_count": 10,
   "metadata": {
    "collapsed": false
   },
   "outputs": [
    {
     "data": {
      "text/plain": [
       "'8\\t中国选手再夺加拿大杯游泳赛,枚奖牌,新华社渥太华,月,日电,记者廖振云,历时,天,的,年加拿大杯国际游泳赛,日在温哥华结束,中国队派出,名女选手参赛,共获,枚金牌,枚银牌和,枚铜牌,取得自,年参加这项赛事以来的最好成,绩,在,日进行的颁奖式上,中国选手林莉被评为本届,杯赛唯一的女子,最佳运动员,同时被授予,得分最高,者,奖,她在这次比赛中共获得两枚金牌,在,日的女子组比赛中,中国选手共获得,枚金牌,和,枚银牌,岁的林莉和,岁的阎明分别夺得,米个人混合泳金牌和银牌,林莉还以,分,秒,的,成绩刷新了这个项目的赛会纪录,岁的孙春莅以,秒,的成绩夺得,米自由泳的金牌,岁的李洁,以,分,秒,的成绩获得,米仰泳的金牌,中国,队还以,分,秒,的成绩获,米混合泳接力,赛的第一名,并打破了这个项目的赛会纪录,这次杯赛是,日开始的,参加比赛的除中国选手外,还有瑞典,澳大利亚,美国,英国,新西兰及东道主加,拿大等国的好手,完'"
      ]
     },
     "execution_count": 10,
     "metadata": {},
     "output_type": "execute_result"
    }
   ],
   "source": [
    "# 解码为unicode字符串后再输出\n",
    "data.data[0].decode('gbk', 'ignore')"
   ]
  }
 ],
 "metadata": {
  "anaconda-cloud": {},
  "kernelspec": {
   "display_name": "Python [default]",
   "language": "python",
   "name": "python3"
  },
  "language_info": {
   "codemirror_mode": {
    "name": "ipython",
    "version": 3
   },
   "file_extension": ".py",
   "mimetype": "text/x-python",
   "name": "python",
   "nbconvert_exporter": "python",
   "pygments_lexer": "ipython3",
   "version": "3.5.2"
  }
 },
 "nbformat": 4,
 "nbformat_minor": 2
}
