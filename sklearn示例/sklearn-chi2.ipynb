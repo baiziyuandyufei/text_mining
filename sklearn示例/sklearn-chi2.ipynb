{
 "cells": [
  {
   "cell_type": "code",
   "execution_count": 1,
   "metadata": {},
   "outputs": [
    {
     "name": "stdout",
     "output_type": "stream",
     "text": [
      "Help on function chi2 in module sklearn.feature_selection.univariate_selection:\n",
      "\n",
      "chi2(X, y)\n",
      "    Compute chi-squared stats between each non-negative feature and class.\n",
      "    \n",
      "    This score can be used to select the n_features features with the\n",
      "    highest values for the test chi-squared statistic from X, which must\n",
      "    contain only non-negative features such as booleans or frequencies\n",
      "    (e.g., term counts in document classification), relative to the classes.\n",
      "    \n",
      "    Recall that the chi-square test measures dependence between stochastic\n",
      "    variables, so using this function \"weeds out\" the features that are the\n",
      "    most likely to be independent of class and therefore irrelevant for\n",
      "    classification.\n",
      "    \n",
      "    Read more in the :ref:`User Guide <univariate_feature_selection>`.\n",
      "    \n",
      "    Parameters\n",
      "    ----------\n",
      "    X : {array-like, sparse matrix}, shape = (n_samples, n_features_in)\n",
      "        Sample vectors.\n",
      "    \n",
      "    y : array-like, shape = (n_samples,)\n",
      "        Target vector (class labels).\n",
      "    \n",
      "    Returns\n",
      "    -------\n",
      "    chi2 : array, shape = (n_features,)\n",
      "        chi2 statistics of each feature.\n",
      "    pval : array, shape = (n_features,)\n",
      "        p-values of each feature.\n",
      "    \n",
      "    Notes\n",
      "    -----\n",
      "    Complexity of this algorithm is O(n_classes * n_features).\n",
      "    \n",
      "    See also\n",
      "    --------\n",
      "    f_classif: ANOVA F-value between label/feature for classification tasks.\n",
      "    f_regression: F-value between label/feature for regression tasks.\n",
      "\n"
     ]
    }
   ],
   "source": [
    "from sklearn.feature_selection import chi2\n",
    "help(chi2)"
   ]
  },
  {
   "cell_type": "code",
   "execution_count": 2,
   "metadata": {},
   "outputs": [],
   "source": [
    "texts = ['Chinese Bejing Chinese',\n",
    "         'Chinese Chinese Shanghai',\n",
    "         'Chinese Macao',\n",
    "         'Tokyo Japan Chinese']\n",
    "y = [1, 1, 1, 0]"
   ]
  },
  {
   "cell_type": "code",
   "execution_count": 3,
   "metadata": {},
   "outputs": [
    {
     "name": "stdout",
     "output_type": "stream",
     "text": [
      "['bejing', 'chinese', 'japan', 'macao', 'shanghai', 'tokyo']\n",
      "[[1 1 0 0 0 0]\n",
      " [0 1 0 0 1 0]\n",
      " [0 1 0 1 0 0]\n",
      " [0 1 1 0 0 1]]\n",
      "[1, 1, 1, 0]\n"
     ]
    }
   ],
   "source": [
    "# one-hot表示法\n",
    "from sklearn.feature_extraction.text import CountVectorizer\n",
    "cv = CountVectorizer(binary=True)\n",
    "cv_fit = cv.fit_transform(texts)\n",
    "print(cv.get_feature_names())\n",
    "cv_matrix = cv_fit.toarray()\n",
    "print(cv_matrix)\n",
    "print(y)"
   ]
  },
  {
   "cell_type": "code",
   "execution_count": 4,
   "metadata": {},
   "outputs": [
    {
     "data": {
      "text/plain": [
       "(array([0.33333333, 0.        , 3.        , 0.33333333, 0.33333333,\n",
       "        3.        ]),\n",
       " array([0.56370286, 1.        , 0.08326452, 0.56370286, 0.56370286,\n",
       "        0.08326452]))"
      ]
     },
     "execution_count": 4,
     "metadata": {},
     "output_type": "execute_result"
    }
   ],
   "source": [
    "chi2(cv_matrix, y)"
   ]
  }
 ],
 "metadata": {
  "kernelspec": {
   "display_name": "Python 3",
   "language": "python",
   "name": "python3"
  },
  "language_info": {
   "codemirror_mode": {
    "name": "ipython",
    "version": 3
   },
   "file_extension": ".py",
   "mimetype": "text/x-python",
   "name": "python",
   "nbconvert_exporter": "python",
   "pygments_lexer": "ipython3",
   "version": "3.7.0"
  }
 },
 "nbformat": 4,
 "nbformat_minor": 2
}
