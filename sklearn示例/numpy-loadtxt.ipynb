{
 "cells": [
  {
   "cell_type": "code",
   "execution_count": 1,
   "metadata": {},
   "outputs": [],
   "source": [
    "import numpy as np\n",
    "# help(np.loadtxt)"
   ]
  },
  {
   "cell_type": "code",
   "execution_count": 2,
   "metadata": {},
   "outputs": [
    {
     "data": {
      "text/plain": [
       "(1500, 2)"
      ]
     },
     "execution_count": 2,
     "metadata": {},
     "output_type": "execute_result"
    }
   ],
   "source": [
    "# 加载数据\n",
    "data = np.loadtxt('../data/阅读小说与性别关系.txt',  # 文件名\n",
    "delimiter='\\t',  # 属性值之间的分隔符\n",
    "skiprows=1,   # 第1行为标题行，忽略不读\n",
    "dtype=int,  # 属性值类型\n",
    "encoding='utf-8')  # 文件编码\n",
    "data.shape"
   ]
  },
  {
   "cell_type": "code",
   "execution_count": 4,
   "metadata": {},
   "outputs": [
    {
     "name": "stdout",
     "output_type": "stream",
     "text": [
      "(1500, 2)\n",
      "[['1' '1']\n",
      " ['1' '1']]\n"
     ]
    }
   ],
   "source": [
    "input_file_name = '../data/阅读小说与性别关系.txt'\n",
    "data = np.loadtxt(input_file_name,  # 文件名\n",
    "delimiter='\\t',  # 属性值之间的分隔符\n",
    "dtype=str,  # 各字段类型\n",
    "skiprows = 1,\n",
    "comments= None,  # 注释开始的字符标识（注意一般设置为None，即不用）\n",
    "usecols=(0,1),  # 需要加载的列，列号索引从0开始\n",
    "encoding='utf-8')  # 文件编码\n",
    "\n",
    "print(data.shape)\n",
    "print(data[:2,:])"
   ]
  }
 ],
 "metadata": {
  "kernelspec": {
   "display_name": "Python 3",
   "language": "python",
   "name": "python3"
  },
  "language_info": {
   "codemirror_mode": {
    "name": "ipython",
    "version": 3
   },
   "file_extension": ".py",
   "mimetype": "text/x-python",
   "name": "python",
   "nbconvert_exporter": "python",
   "pygments_lexer": "ipython3",
   "version": "3.7.0"
  }
 },
 "nbformat": 4,
 "nbformat_minor": 2
}
