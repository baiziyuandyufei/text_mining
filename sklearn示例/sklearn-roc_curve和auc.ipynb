{
 "cells": [
  {
   "cell_type": "code",
   "execution_count": 1,
   "metadata": {
    "collapsed": false
   },
   "outputs": [
    {
     "name": "stdout",
     "output_type": "stream",
     "text": [
      "tpr= [0.  0.2 0.4 0.4 0.6 0.6 0.8 0.8 1. ]\n",
      "fpr= [0.  0.  0.  0.2 0.2 0.8 0.8 1.  1. ]\n",
      "thresholds= [1.95 0.95 0.93 0.89 0.87 0.76 0.53 0.43 0.25]\n"
     ]
    },
    {
     "data": {
      "text/plain": [
       "<Figure size 640x480 with 1 Axes>"
      ]
     },
     "metadata": {},
     "output_type": "display_data"
    }
   ],
   "source": [
    "import numpy as np\n",
    "from sklearn.metrics import roc_curve,auc\n",
    "import matplotlib.pyplot as plt\n",
    "\n",
    "# 实际类别只能取{0,1}或{1,-1}\n",
    "y = np.array([1,0,1,0,0,0,1,0,1,1])\n",
    "# 对应预测为正（即1）的得分。注意：得分相同的实例只保留一个\n",
    "scores = np.array([0.25,0.43,0.53,0.76,0.85,0.86,0.87,0.89,0.93,0.95])\n",
    "# pos_label 假定为正类的类别标记，这里是1\n",
    "fpr, tpr, thresholds = roc_curve(y_true = y, y_score = scores, pos_label=1)\n",
    "print(\"tpr=\", tpr)\n",
    "print(\"fpr=\", fpr)\n",
    "print(\"thresholds=\", thresholds)\n",
    "# 计算auc值\n",
    "roc_auc = auc(fpr, tpr)\n",
    "\n",
    "plt.figure()\n",
    "lw = 2\n",
    "plt.plot(fpr, tpr, color='darkorange',lw=lw, label='ROC curve (area = %.2f)' % roc_auc)\n",
    "plt.plot([0, 1], [0, 1], color='navy', lw=lw, linestyle='--')\n",
    "plt.xlim([0.0, 1.05])\n",
    "plt.ylim([0.0, 1.05])\n",
    "plt.xlabel('False Positive Rate')\n",
    "plt.ylabel('True Positive Rate')\n",
    "plt.title('Receiver operating characteristic example')\n",
    "plt.legend(loc=\"lower right\")\n",
    "plt.show()"
   ]
  }
 ],
 "metadata": {
  "anaconda-cloud": {},
  "kernelspec": {
   "display_name": "Python [conda env:py36]",
   "language": "python",
   "name": "conda-env-py36-py"
  },
  "language_info": {
   "codemirror_mode": {
    "name": "ipython",
    "version": 3
   },
   "file_extension": ".py",
   "mimetype": "text/x-python",
   "name": "python",
   "nbconvert_exporter": "python",
   "pygments_lexer": "ipython3",
   "version": "3.6.2"
  }
 },
 "nbformat": 4,
 "nbformat_minor": 1
}
