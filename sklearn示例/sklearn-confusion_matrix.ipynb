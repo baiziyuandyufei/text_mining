{
 "cells": [
  {
   "cell_type": "code",
   "execution_count": 1,
   "metadata": {
    "collapsed": true
   },
   "outputs": [],
   "source": [
    "# 导入鸢尾花数据集\n",
    "from sklearn import datasets\n",
    "iris = datasets.load_iris()\n",
    "# 鸢尾花数据矩阵\n",
    "X = iris.data\n",
    "# 各条数据的类别索引label\n",
    "y = iris.target\n",
    "# 各label对应的类别名称序列\n",
    "class_names = iris.target_names\n",
    "# 分解为训练集和测试集\n",
    "from sklearn.model_selection import train_test_split\n",
    "X_train, X_test, y_train, y_test = train_test_split(X, y, random_state=0)"
   ]
  },
  {
   "cell_type": "code",
   "execution_count": 2,
   "metadata": {
    "collapsed": true
   },
   "outputs": [],
   "source": [
    "# 使用linear SVC分类\n",
    "from sklearn import svm\n",
    "classifier = svm.SVC(kernel='linear', C=0.01)\n",
    "y_pred = classifier.fit(X_train, y_train).predict(X_test)"
   ]
  },
  {
   "cell_type": "code",
   "execution_count": 3,
   "metadata": {
    "collapsed": false
   },
   "outputs": [
    {
     "name": "stdout",
     "output_type": "stream",
     "text": [
      "[[13  0  0]\n",
      " [ 0 10  6]\n",
      " [ 0  0  9]]\n"
     ]
    }
   ],
   "source": [
    "# 计算混淆矩阵\n",
    "from sklearn.metrics import confusion_matrix\n",
    "cm = confusion_matrix(y_true=y_test, y_pred=y_pred)\n",
    "print(cm)"
   ]
  },
  {
   "cell_type": "code",
   "execution_count": 4,
   "metadata": {
    "collapsed": false
   },
   "outputs": [
    {
     "name": "stdout",
     "output_type": "stream",
     "text": [
      "[[1.    0.    0.   ]\n",
      " [0.    0.625 0.375]\n",
      " [0.    0.    1.   ]]\n"
     ]
    }
   ],
   "source": [
    "# 规范化后的混淆矩阵\n",
    "import numpy as np\n",
    "cm_normalized = cm.astype('float')/cm.sum(axis=1)[:, np.newaxis]\n",
    "print(cm_normalized)"
   ]
  },
  {
   "cell_type": "code",
   "execution_count": 5,
   "metadata": {
    "collapsed": true
   },
   "outputs": [],
   "source": [
    "# 混淆矩阵打印函数\n",
    "def print_confusion_matrix(cm, classes, normalize=False):\n",
    "    if normalize:\n",
    "        cm = cm.astype('float')/cm.astype('float')/cm.sum(axis=1)[:, np.newaxis]\n",
    "\n",
    "    print(\"%-20s\" % \"\", end='')\n",
    "    for i in range(len(classes)):\n",
    "        print(\"%-20s\" % classes[i], end='')\n",
    "    print()\n",
    "\n",
    "    for i in range(cm.shape[0]):\n",
    "        print(\"%-20s\" % classes[i], end='')\n",
    "        for j in range(cm.shape[1]):\n",
    "            print(\"%-20.2f\" % cm[i,j], end='')\n",
    "        print()"
   ]
  },
  {
   "cell_type": "code",
   "execution_count": 6,
   "metadata": {
    "collapsed": false
   },
   "outputs": [
    {
     "name": "stdout",
     "output_type": "stream",
     "text": [
      "                    setosa              versicolor          virginica           \n",
      "setosa              13.00               0.00                0.00                \n",
      "versicolor          0.00                10.00               6.00                \n",
      "virginica           0.00                0.00                9.00                \n"
     ]
    }
   ],
   "source": [
    "print_confusion_matrix(cm, class_names, normalize=False)"
   ]
  }
 ],
 "metadata": {
  "anaconda-cloud": {},
  "kernelspec": {
   "display_name": "Python [default]",
   "language": "python",
   "name": "python3"
  },
  "language_info": {
   "codemirror_mode": {
    "name": "ipython",
    "version": 3
   },
   "file_extension": ".py",
   "mimetype": "text/x-python",
   "name": "python",
   "nbconvert_exporter": "python",
   "pygments_lexer": "ipython3",
   "version": "3.5.2"
  }
 },
 "nbformat": 4,
 "nbformat_minor": 2
}
