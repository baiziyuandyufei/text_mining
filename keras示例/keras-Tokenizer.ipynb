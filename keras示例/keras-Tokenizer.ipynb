{
 "cells": [
  {
   "cell_type": "code",
   "execution_count": 1,
   "metadata": {
    "collapsed": true
   },
   "outputs": [],
   "source": [
    "import numpy as np\n",
    "# 定义文档集\n",
    "documents = ['Well done!',\n",
    "             'Good work',\n",
    "             'Great effort',\n",
    "             'nice work',\n",
    "             'Excetllent!',\n",
    "             'Weak',\n",
    "             'Poor effort!',\n",
    "             'not good',\n",
    "             'poor work',\n",
    "             'Could have done better.']\n",
    "\n",
    "# 定义类别标记\n",
    "labels = np.array([1,1,1,1,1,0,0,0,0,0])"
   ]
  },
  {
   "cell_type": "code",
   "execution_count": 2,
   "metadata": {
    "collapsed": false
   },
   "outputs": [
    {
     "name": "stderr",
     "output_type": "stream",
     "text": [
      "Using TensorFlow backend.\n"
     ]
    }
   ],
   "source": [
    "from keras.preprocessing.text import Tokenizer"
   ]
  },
  {
   "cell_type": "markdown",
   "metadata": {},
   "source": [
    "# num_words参数"
   ]
  },
  {
   "cell_type": "markdown",
   "metadata": {},
   "source": [
    "num_words参数设置最大可用的词语数量，需要注意它的值并不影响Tokenizer对象实际的词汇表大小，只会影响调用texts_to_sequences方法时可使用的词语数量。"
   ]
  },
  {
   "cell_type": "code",
   "execution_count": 3,
   "metadata": {
    "collapsed": false
   },
   "outputs": [
    {
     "name": "stdout",
     "output_type": "stream",
     "text": [
      "词汇表 {'work': 1, 'done': 2, 'good': 3, 'effort': 4, 'poor': 5, 'well': 6, 'great': 7, 'nice': 8, 'excetllent': 9, 'weak': 10, 'not': 11, 'could': 12, 'have': 13, 'better': 14}\n",
      "文本集 [[2], [1], [], [1], [], [], [], [], [1], [2]]\n"
     ]
    }
   ],
   "source": [
    "# 实例化Tokenizer对象\n",
    "tokenizer = Tokenizer(num_words=3)\n",
    "# 构建词汇表\n",
    "tokenizer.fit_on_texts(documents)\n",
    "# 输出词汇表\n",
    "print(\"词汇表\", tokenizer.word_index)\n",
    "# 向量化文本集\n",
    "encodeDocuments = tokenizer.texts_to_sequences(documents)\n",
    "# 输出文本集向量\n",
    "print(\"文本集\", encodeDocuments)"
   ]
  },
  {
   "cell_type": "code",
   "execution_count": 4,
   "metadata": {
    "collapsed": false
   },
   "outputs": [
    {
     "name": "stdout",
     "output_type": "stream",
     "text": [
      "词汇表 {'work': 1, 'done': 2, 'good': 3, 'effort': 4, 'poor': 5, 'well': 6, 'great': 7, 'nice': 8, 'excetllent': 9, 'weak': 10, 'not': 11, 'could': 12, 'have': 13, 'better': 14}\n",
      "文本集 [[6, 2], [3, 1], [7, 4], [8, 1], [9], [10], [5, 4], [11, 3], [5, 1], [12, 13, 2, 14]]\n"
     ]
    }
   ],
   "source": [
    "# 实例化Tokenizer对象\n",
    "tokenizer = Tokenizer()\n",
    "# 构建词汇表\n",
    "tokenizer.fit_on_texts(documents)\n",
    "# 输出词汇表长度\n",
    "print(\"词汇表\", tokenizer.word_index)\n",
    "# 向量化文本集\n",
    "encodeDocuments = tokenizer.texts_to_sequences(documents)\n",
    "# 输出文本集向量\n",
    "print(\"文本集\", encodeDocuments)"
   ]
  },
  {
   "cell_type": "markdown",
   "metadata": {},
   "source": [
    "查看文本集的输出结果，可以看到文本中的单词确实被替换成了它在词汇表中的索引值。"
   ]
  }
 ],
 "metadata": {
  "anaconda-cloud": {},
  "kernelspec": {
   "display_name": "Python [conda env:py36]",
   "language": "python",
   "name": "conda-env-py36-py"
  },
  "language_info": {
   "codemirror_mode": {
    "name": "ipython",
    "version": 3
   },
   "file_extension": ".py",
   "mimetype": "text/x-python",
   "name": "python",
   "nbconvert_exporter": "python",
   "pygments_lexer": "ipython3",
   "version": "3.6.2"
  }
 },
 "nbformat": 4,
 "nbformat_minor": 1
}
