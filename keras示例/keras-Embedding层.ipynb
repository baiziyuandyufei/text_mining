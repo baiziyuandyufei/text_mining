{
 "cells": [
  {
   "cell_type": "code",
   "execution_count": 1,
   "metadata": {},
   "outputs": [
    {
     "name": "stderr",
     "output_type": "stream",
     "text": [
      "Using Theano backend.\n"
     ]
    }
   ],
   "source": [
    "from keras.models import Sequential\n",
    "from keras.layers import Embedding\n",
    "import numpy as np"
   ]
  },
  {
   "cell_type": "code",
   "execution_count": 2,
   "metadata": {
    "collapsed": true
   },
   "outputs": [],
   "source": [
    "model = Sequential()\n",
    "# 模型将形状为(batch_size, input_length)的整数二维张量作为输入\n",
    "# 输入矩阵中整数(i.e. word index)的最大值小于等于999(vocabulary size).\n",
    "# 模型输出的三维张量形状为model.output_shape == (None, 10, 64), None为batch_size的大小\n",
    "# 嵌入层矩阵的维度为64\n",
    "model.add(Embedding(1000, 64, input_length=10))\n",
    "# 定义输入矩阵形状为(32,10)，索引值范围为(0,999)\n",
    "input_array = np.random.randint(1000, size=(32, 10))\n",
    "model.compile('rmsprop', 'mse')\n",
    "output_array = model.predict(input_array)\n",
    "# 经过嵌入层后的输出三维张量的形状为(32,10,64)\n",
    "assert output_array.shape == (32, 10, 64)"
   ]
  }
 ],
 "metadata": {
  "kernelspec": {
   "display_name": "Python 3",
   "language": "python",
   "name": "python3"
  },
  "language_info": {
   "codemirror_mode": {
    "name": "ipython",
    "version": 3
   },
   "file_extension": ".py",
   "mimetype": "text/x-python",
   "name": "python",
   "nbconvert_exporter": "python",
   "pygments_lexer": "ipython3",
   "version": "3.4.3"
  }
 },
 "nbformat": 4,
 "nbformat_minor": 2
}
