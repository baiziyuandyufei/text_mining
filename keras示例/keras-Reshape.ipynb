{
 "cells": [
  {
   "cell_type": "markdown",
   "metadata": {},
   "source": [
    "对输入的张量改变shape"
   ]
  },
  {
   "cell_type": "code",
   "execution_count": 1,
   "metadata": {
    "collapsed": false
   },
   "outputs": [
    {
     "name": "stderr",
     "output_type": "stream",
     "text": [
      "Using TensorFlow backend.\n"
     ]
    }
   ],
   "source": [
    "from keras.models import Sequential\n",
    "from keras.layers import Reshape"
   ]
  },
  {
   "cell_type": "code",
   "execution_count": 2,
   "metadata": {
    "collapsed": false
   },
   "outputs": [
    {
     "name": "stdout",
     "output_type": "stream",
     "text": [
      "WARNING:tensorflow:From /Users/yufei/anaconda3/envs/py36/lib/python3.6/site-packages/Keras-2.2.5-py3.6.egg/keras/backend/tensorflow_backend.py:67: The name tf.get_default_graph is deprecated. Please use tf.compat.v1.get_default_graph instead.\n",
      "\n",
      "Model: \"sequential_1\"\n",
      "_________________________________________________________________\n",
      "Layer (type)                 Output Shape              Param #   \n",
      "=================================================================\n",
      "reshape_1 (Reshape)          (None, 3, 4)              0         \n",
      "_________________________________________________________________\n",
      "reshape_2 (Reshape)          (None, 6, 2)              0         \n",
      "_________________________________________________________________\n",
      "reshape_3 (Reshape)          (None, 3, 2, 2)           0         \n",
      "_________________________________________________________________\n",
      "reshape_4 (Reshape)          (None, 2, 2, 3)           0         \n",
      "_________________________________________________________________\n",
      "reshape_5 (Reshape)          (None, 12)                0         \n",
      "=================================================================\n",
      "Total params: 0\n",
      "Trainable params: 0\n",
      "Non-trainable params: 0\n",
      "_________________________________________________________________\n"
     ]
    }
   ],
   "source": [
    "model = Sequential()\n",
    "# 改变数据形状为3行4列\n",
    "# 模型的第1层必须指定输入的维度，注意不需要指定batch的大小\n",
    "model.add(Reshape((3, 4), input_shape=(12, )))\n",
    "# 改变数据形状为6行2列\n",
    "model.add(Reshape((6, 2)))\n",
    "# 改变数据形状为 第2，3维为(2,2)，根据数据元素数量自动确定第1维大小为3\n",
    "model.add(Reshape((-1, 2, 2)))\n",
    "# 改变数据形状为 第1，2维为(2,2)，根据数据元素数量自动确定第3维大小为3\n",
    "model.add(Reshape((2, 2, -1)))\n",
    "# \n",
    "model.add(Reshape((12,)))\n",
    "model.summary()"
   ]
  }
 ],
 "metadata": {
  "anaconda-cloud": {},
  "kernelspec": {
   "display_name": "Python [conda env:py36]",
   "language": "python",
   "name": "conda-env-py36-py"
  },
  "language_info": {
   "codemirror_mode": {
    "name": "ipython",
    "version": 3
   },
   "file_extension": ".py",
   "mimetype": "text/x-python",
   "name": "python",
   "nbconvert_exporter": "python",
   "pygments_lexer": "ipython3",
   "version": "3.6.2"
  }
 },
 "nbformat": 4,
 "nbformat_minor": 1
}
