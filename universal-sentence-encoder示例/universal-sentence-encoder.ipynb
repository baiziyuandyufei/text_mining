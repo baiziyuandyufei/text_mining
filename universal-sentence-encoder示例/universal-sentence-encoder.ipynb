{
 "cells": [
  {
   "cell_type": "code",
   "execution_count": 1,
   "metadata": {},
   "outputs": [],
   "source": [
    "from absl import logging\n",
    "import tensorflow as tf\n",
    "import tensorflow_hub as hub\n",
    "import matplotlib.pyplot as plt\n",
    "import numpy as np\n",
    "import os\n",
    "import pandas as pd\n",
    "import re\n",
    "import seaborn as sns"
   ]
  },
  {
   "cell_type": "code",
   "execution_count": 2,
   "metadata": {},
   "outputs": [],
   "source": [
    "# 网络版加载模型\n",
    "# module_url = \"https://tfhub.dev/google/universal-sentence-encoder/4\"\n",
    "# model = hub.load(module_url)\n",
    "# print (\"module %s loaded\" % module_url)"
   ]
  },
  {
   "cell_type": "code",
   "execution_count": 3,
   "metadata": {},
   "outputs": [],
   "source": [
    "# 本地版加载模型 这里的路径就是刚刚第一部分额解压后的路径\n",
    "model = hub.load(\"/Users/yufei/common_data/universal-sentence-encoder/\")"
   ]
  },
  {
   "cell_type": "code",
   "execution_count": 4,
   "metadata": {},
   "outputs": [],
   "source": [
    "def embed(input):\n",
    "  return model(input)"
   ]
  },
  {
   "cell_type": "code",
   "execution_count": 5,
   "metadata": {},
   "outputs": [
    {
     "name": "stdout",
     "output_type": "stream",
     "text": [
      "Message: 大象\n",
      "Embedding size: 512\n",
      "Embedding: [0.0040102070197463036, -0.04583162069320679, -0.025189761072397232, ...]\n",
      "\n",
      "Message: 我是一个句子，我想获得我的嵌入表示\n",
      "Embedding size: 512\n",
      "Embedding: [-0.042682304978370667, -0.00967320241034031, 0.058970604091882706, ...]\n",
      "\n",
      "Message: 通用句子编码器嵌入也支持短段落对于段落长度没有严格限制，粗略地讲，段落越长，嵌入效果越差\n",
      "Embedding size: 512\n",
      "Embedding: [-0.03713136538863182, 0.00043433826067484915, 0.028166888281702995, ...]\n",
      "\n"
     ]
    }
   ],
   "source": [
    "word = \"大象\"\n",
    "sentence = \"我是一个句子，我想获得我的嵌入表示\"\n",
    "paragraph = (\n",
    "    \"通用句子编码器嵌入也支持短段落\"\n",
    "    \"对于段落长度没有严格限制，粗略地讲，\"\n",
    "    \"段落越长，嵌入效果越差\")\n",
    "messages = [word, sentence, paragraph]\n",
    "\n",
    "# Reduce logging output.\n",
    "logging.set_verbosity(logging.ERROR)\n",
    "\n",
    "message_embeddings = embed(messages)\n",
    "\n",
    "for i, message_embedding in enumerate(np.array(message_embeddings).tolist()):\n",
    "  print(\"Message: {}\".format(messages[i]))\n",
    "  print(\"Embedding size: {}\".format(len(message_embedding)))\n",
    "  message_embedding_snippet = \", \".join(\n",
    "      (str(x) for x in message_embedding[:3]))\n",
    "  print(\"Embedding: [{}, ...]\\n\".format(message_embedding_snippet))"
   ]
  }
 ],
 "metadata": {
  "kernelspec": {
   "display_name": "u-sen-encoder",
   "language": "python",
   "name": "u-sen-encoder"
  },
  "language_info": {
   "codemirror_mode": {
    "name": "ipython",
    "version": 3
   },
   "file_extension": ".py",
   "mimetype": "text/x-python",
   "name": "python",
   "nbconvert_exporter": "python",
   "pygments_lexer": "ipython3",
   "version": "3.6.2"
  }
 },
 "nbformat": 4,
 "nbformat_minor": 2
}
