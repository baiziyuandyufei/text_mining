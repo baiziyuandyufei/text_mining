{
 "cells": [
  {
   "cell_type": "code",
   "execution_count": 1,
   "metadata": {},
   "outputs": [],
   "source": [
    "import tensorflow_hub as hub\n",
    "import numpy as np\n",
    "import tensorflow_text"
   ]
  },
  {
   "cell_type": "code",
   "execution_count": 2,
   "metadata": {},
   "outputs": [],
   "source": [
    "# Some texts of different lengths.\n",
    "english_sentences = [\"dog\", \"Puppies are nice.\", \"I enjoy taking long walks along the beach with my dog.\"]\n",
    "chinese_sentences = [\"狗\",  \"小狗很好\", \"我喜欢和我的狗沿着海滩散步\"]\n",
    "japanese_sentences = [\"犬\", \"子犬はいいです\", \"私は犬と一緒にビーチを散歩するのが好きです\"]"
   ]
  },
  {
   "cell_type": "code",
   "execution_count": 3,
   "metadata": {},
   "outputs": [],
   "source": [
    "# 网络版\n",
    "# embed = hub.load(\"https://tfhub.dev/google/universal-sentence-encoder-multilingual/3\")"
   ]
  },
  {
   "cell_type": "code",
   "execution_count": 4,
   "metadata": {},
   "outputs": [],
   "source": [
    "# 本地版\n",
    "embed = hub.load(\"/Users/yufei/common_data/universal-sentence-encoder-multilingual/\")"
   ]
  },
  {
   "cell_type": "code",
   "execution_count": 5,
   "metadata": {},
   "outputs": [],
   "source": [
    "# Compute embeddings.\n",
    "en_result = embed(english_sentences)\n",
    "ja_result = embed(japanese_sentences)\n",
    "ch_result = embed(chinese_sentences)"
   ]
  },
  {
   "cell_type": "code",
   "execution_count": 6,
   "metadata": {},
   "outputs": [
    {
     "name": "stdout",
     "output_type": "stream",
     "text": [
      "汉-英相似度矩阵 = \n",
      " [[0.92495656 0.44881982 0.2560997 ]\n",
      " [0.53961337 0.6670325  0.30248624]\n",
      " [0.33009785 0.3312443  0.7208254 ]]\n",
      "汉-日相似度矩阵 = \n",
      " [[0.9571285  0.5667042  0.3111084 ]\n",
      " [0.6293711  0.8127127  0.3838814 ]\n",
      " [0.33602595 0.36059967 0.83534765]]\n"
     ]
    }
   ],
   "source": [
    "# Compute similarity matrix. Higher score indicates greater similarity.\n",
    "similarity_matrix_en = np.inner(ch_result, en_result)\n",
    "print(\"汉-英相似度矩阵 = \\n\", similarity_matrix_en)\n",
    "similarity_matrix_ja = np.inner(ch_result, ja_result)\n",
    "print(\"汉-日相似度矩阵 = \\n\", similarity_matrix_ja)"
   ]
  }
 ],
 "metadata": {
  "kernelspec": {
   "display_name": "u-sen-encoder",
   "language": "python",
   "name": "u-sen-encoder"
  },
  "language_info": {
   "codemirror_mode": {
    "name": "ipython",
    "version": 3
   },
   "file_extension": ".py",
   "mimetype": "text/x-python",
   "name": "python",
   "nbconvert_exporter": "python",
   "pygments_lexer": "ipython3",
   "version": "3.6.2"
  }
 },
 "nbformat": 4,
 "nbformat_minor": 2
}
