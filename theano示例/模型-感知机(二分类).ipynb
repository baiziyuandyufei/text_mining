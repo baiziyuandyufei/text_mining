{
 "cells": [
  {
   "cell_type": "code",
   "execution_count": 1,
   "metadata": {
    "collapsed": true
   },
   "outputs": [],
   "source": [
    "import theano\n",
    "import theano.tensor as T"
   ]
  },
  {
   "cell_type": "code",
   "execution_count": 2,
   "metadata": {
    "collapsed": true
   },
   "outputs": [],
   "source": [
    "# 绘图模块\n",
    "import numpy as np\n",
    "from matplotlib import pyplot as plt\n",
    "from matplotlib.colors import ListedColormap\n",
    "%matplotlib inline\n",
    "\n",
    "def plot_predict(x, w, b):\n",
    "        return np.dot(w, x) + b\n",
    "\n",
    "def plot_decsion_plane(X_data, y_data, w, b):\n",
    "    # 画决策面\n",
    "    colors = ['red', 'blue']\n",
    "    cmap = ListedColormap(colors[:len(np.unique(y_data))])\n",
    "    x1_min, x1_max = X_data[:, 0].min() - 1, X_data[:, 0].max() + 1\n",
    "    x2_min, x2_max = X_data[:, 1].min() - 1, X_data[:, 1].max() + 1\n",
    "    xx1, xx2 = np.meshgrid(np.arange(x1_min, x1_max, 0.02),np.arange(x2_min, x2_max, 0.02))\n",
    "    Z = plot_predict(np.array([xx1.ravel(), xx2.ravel()]), w, b)\n",
    "    Z = Z.reshape(xx1.shape)\n",
    "    plt.contourf(xx1, xx2, Z, alpha=0.4, cmap=cmap)\n",
    "    plt.xlim(xx1.min(), xx1.max())\n",
    "    plt.ylim(xx2.min(), xx2.max())\n",
    "\n",
    "    # 画样本点\n",
    "    markers = ('x', 'o')\n",
    "    for idx, ci in enumerate(np.unique(y_data)):\n",
    "        plt.scatter(x=X_data[y_data == ci, 0], y=X_data[y_data == ci, 1], alpha=0.8, c=np.atleast_2d(cmap(idx)), \n",
    "                    marker=markers[idx], label=ci)\n",
    "\n",
    "    # 画图例\n",
    "    plt.legend(loc='upper left')\n",
    "    plt.show()"
   ]
  },
  {
   "cell_type": "code",
   "execution_count": 3,
   "metadata": {
    "collapsed": true
   },
   "outputs": [],
   "source": [
    "# 定义训练数据\n",
    "X_data = np.array([[3,3],\n",
    "              [4,3],\n",
    "              [1,1]])\n",
    "y_data = np.array([1, 1, -1])\n",
    "D = (X_data, y_data)"
   ]
  },
  {
   "cell_type": "code",
   "execution_count": 4,
   "metadata": {},
   "outputs": [
    {
     "name": "stdout",
     "output_type": "stream",
     "text": [
      "初始化模型\n",
      "w= [-1.44913049 -0.39223897] b= 0.0\n",
      "iter 0\n",
      "w= [ 5.55086951  5.60776103] b= 2.0 cost=12.497347\n",
      "iter 1\n",
      "w= [ 4.55086951  4.60776103] b= 1.0 cost=13.158631\n",
      "iter 2\n",
      "w= [ 3.55086951  3.60776103] b= 0.0 cost=10.158631\n",
      "iter 3\n",
      "w= [ 2.55086951  2.60776103] b= -1.0 cost=7.158631\n",
      "iter 4\n",
      "w= [ 1.55086951  1.60776103] b= -2.0 cost=4.158631\n",
      "iter 5\n",
      "w= [ 0.55086951  0.60776103] b= -3.0 cost=1.158631\n",
      "iter 6\n",
      "w= [ 0.55086951  0.60776103] b= -3.0 cost=-0.000000\n",
      "iter 7\n",
      "w= [ 0.55086951  0.60776103] b= -3.0 cost=-0.000000\n",
      "iter 8\n",
      "w= [ 0.55086951  0.60776103] b= -3.0 cost=-0.000000\n",
      "iter 9\n",
      "w= [ 0.55086951  0.60776103] b= -3.0 cost=-0.000000\n",
      "iter 10\n",
      "w= [ 0.55086951  0.60776103] b= -3.0 cost=-0.000000\n",
      "iter 11\n",
      "w= [ 0.55086951  0.60776103] b= -3.0 cost=-0.000000\n",
      "iter 12\n",
      "w= [ 0.55086951  0.60776103] b= -3.0 cost=-0.000000\n",
      "iter 13\n",
      "w= [ 0.55086951  0.60776103] b= -3.0 cost=-0.000000\n",
      "iter 14\n",
      "w= [ 0.55086951  0.60776103] b= -3.0 cost=-0.000000\n",
      "iter 15\n",
      "w= [ 0.55086951  0.60776103] b= -3.0 cost=-0.000000\n",
      "iter 16\n",
      "w= [ 0.55086951  0.60776103] b= -3.0 cost=-0.000000\n",
      "iter 17\n",
      "w= [ 0.55086951  0.60776103] b= -3.0 cost=-0.000000\n",
      "iter 18\n",
      "w= [ 0.55086951  0.60776103] b= -3.0 cost=-0.000000\n",
      "iter 19\n",
      "w= [ 0.55086951  0.60776103] b= -3.0 cost=-0.000000\n"
     ]
    }
   ],
   "source": [
    "# 学习速率\n",
    "eta0 = 1.0\n",
    "# 最大训练迭代次数\n",
    "training_steps = 20\n",
    "\n",
    "# 随机变量生成器\n",
    "rng = np.random\n",
    "\n",
    "# 声明theano符号变量\n",
    "x = T.dmatrix(\"x\")\n",
    "y = T.dvector(\"y\")\n",
    "\n",
    "# 随机初始化权重向量w\n",
    "# w和偏置变量b都为共享变量，\n",
    "# 在训练迭代过程中（updates）能构保存它们的上一次迭代时的值plot_decsion_plane\n",
    "w = theano.shared(rng.randn(D[0].shape[1]), name=\"w\")\n",
    "# 初始化偏置项\n",
    "b = theano.shared(0., name=\"b\")\n",
    "\n",
    "print(\"初始化模型\")\n",
    "print(\"w=\", w.get_value(), end=\" \")\n",
    "print(\"b=\", b.get_value())\n",
    "\n",
    "\n",
    "# 创建theano表达式图\n",
    "p_1 = T.dot(x, w) + b                                               # 感知机预测概率公式\n",
    "prediction = T.sgn(p_1)                                             # 感知机预测阈值\n",
    "cost = -T.sum(T.dot(T.cast(T.neq(y,prediction), 'float32'),y*p_1))  # 错误分类实例驱动\n",
    "gw, gb = T.grad(cost, [w, b])                                       # 计算损失函数梯度\n",
    "\n",
    "\n",
    "# 编译\n",
    "train = theano.function(\n",
    "          inputs=[x,y],\n",
    "          outputs=[prediction, cost],\n",
    "          updates=((w, w - eta0 * gw), (b, b - eta0 * gb))) # 学习效率为1\n",
    "predict = theano.function(inputs=[x], outputs=prediction)\n",
    "\n",
    "# 训练\n",
    "for i in range(training_steps):\n",
    "    pred, cost = train(D[0], D[1])\n",
    "    print(\"iter %d\"%i)\n",
    "    print(\"w=\", w.get_value(), end=\" \")\n",
    "    print(\"b=\", b.get_value(), end=\" \")\n",
    "    print(\"cost=%f\" % cost)"
   ]
  },
  {
   "cell_type": "code",
   "execution_count": 5,
   "metadata": {},
   "outputs": [
    {
     "data": {
      "image/png": "[encoded data removed]",
      "text/plain": [
       "<matplotlib.figure.Figure at 0x824e8d0>"
      ]
     },
     "metadata": {},
     "output_type": "display_data"
    }
   ],
   "source": [
    "# 画决策面\n",
    "plot_decsion_plane(X_data, y_data, w.get_value(), b.get_value())"
   ]
  }
 ],
 "metadata": {
  "kernelspec": {
   "display_name": "Python 3",
   "language": "python",
   "name": "python3"
  },
  "language_info": {
   "codemirror_mode": {
    "name": "ipython",
    "version": 3
   },
   "file_extension": ".py",
   "mimetype": "text/x-python",
   "name": "python",
   "nbconvert_exporter": "python",
   "pygments_lexer": "ipython3",
   "version": "3.4.3"
  }
 },
 "nbformat": 4,
 "nbformat_minor": 2
}
