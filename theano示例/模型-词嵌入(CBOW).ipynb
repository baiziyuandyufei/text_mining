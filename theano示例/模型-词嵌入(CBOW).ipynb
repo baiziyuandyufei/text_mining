{
 "cells": [
  {
   "cell_type": "markdown",
   "metadata": {},
   "source": [
    "## 读取文本，分词后存入列表words"
   ]
  },
  {
   "cell_type": "code",
   "execution_count": 1,
   "metadata": {
    "collapsed": true
   },
   "outputs": [],
   "source": [
    "def get_words(fname):\n",
    "    words = []\n",
    "    with open(fname) as fin:\n",
    "      for line in fin:\n",
    "        words += [w for w in line.strip().lower().split()]\n",
    "    return words[:350000]"
   ]
  },
  {
   "cell_type": "code",
   "execution_count": 2,
   "metadata": {},
   "outputs": [
    {
     "name": "stdout",
     "output_type": "stream",
     "text": [
      "Data size 350000\n"
     ]
    }
   ],
   "source": [
    "words = get_words('./data/sharedfiles/text8')\n",
    "data_size = len(words)\n",
    "print('Data size', data_size)"
   ]
  },
  {
   "cell_type": "markdown",
   "metadata": {},
   "source": [
    "## 构建词典"
   ]
  },
  {
   "cell_type": "code",
   "execution_count": 3,
   "metadata": {
    "collapsed": true
   },
   "outputs": [],
   "source": [
    "import nltk\n",
    "import itertools\n",
    "from collections import Counter, OrderedDict, deque"
   ]
  },
  {
   "cell_type": "code",
   "execution_count": 4,
   "metadata": {
    "collapsed": true
   },
   "outputs": [],
   "source": [
    "# 常见词词频下限\n",
    "max_df=5\n",
    "# 未登录词标记\n",
    "unkown_token = '<UNK>'\n",
    "# 填充上下文标记\n",
    "pad_token = '<PAD>'\n",
    "# 词语频次序列，未登录标记初始频次-1，填充标记初始频次0\n",
    "word_freq = [[unkown_token, -1], [pad_token, 0]]\n",
    "# 统计训练文本中各词频次，扩展到词语频次序列\n",
    "word_freq.extend(nltk.FreqDist(itertools.chain(words)).most_common())\n",
    "# 将词语频次序列转成字典<词语,频次>\n",
    "word_freq = OrderedDict(word_freq)\n",
    "# 词语2索引词典\n",
    "word2idx = {unkown_token: 0, pad_token: 1}\n",
    "# 索引2词语词典\n",
    "idx2word = {0: unkown_token, 1: pad_token}\n",
    "# 填充 词语2索引词典 和 索引2词语词典，罕见词标记为未登录词\n",
    "idx = 2\n",
    "for w in word_freq:\n",
    "  f = word_freq[w]\n",
    "  if f >= max_df:\n",
    "    word2idx[w] = idx\n",
    "    idx2word[idx] = w\n",
    "    idx += 1\n",
    "  else:\n",
    "    word2idx[w] = 0 # map the rare word into the unkwon token\n",
    "    word_freq[unkown_token] += 1 # increment the number of unknown tokens"
   ]
  },
  {
   "cell_type": "markdown",
   "metadata": {},
   "source": [
    "## 索引文本"
   ]
  },
  {
   "cell_type": "code",
   "execution_count": 5,
   "metadata": {},
   "outputs": [
    {
     "name": "stdout",
     "output_type": "stream",
     "text": [
      "Most common words (+UNK) [('<UNK>', 20177), ('<PAD>', 0), ('the', 22478), ('of', 12564), ('and', 9364)]\n",
      "Sample data [340, 2628, 13, 7, 168, 3, 2797, 56, 67, 219] ['anarchism', 'originated', 'as', 'a', 'term', 'of', 'abuse', 'first', 'used', 'against']\n"
     ]
    }
   ],
   "source": [
    "# 训练数据词语全部映射为索引\n",
    "data = [word2idx[w] for w in words] \n",
    "# 节约内存，删掉words列表\n",
    "del words\n",
    "# 最常见的top5词语\n",
    "most_common_words = list(word_freq.items())[:5]\n",
    "print('Most common words (+UNK)', most_common_words)\n",
    "# 训练数据前10个词语的索引和词语\n",
    "print('Sample data', data[:10], [idx2word[i] for i in data[:10]])"
   ]
  },
  {
   "cell_type": "code",
   "execution_count": 6,
   "metadata": {},
   "outputs": [
    {
     "name": "stdout",
     "output_type": "stream",
     "text": [
      "Vocabulary size 6812\n"
     ]
    }
   ],
   "source": [
    "vocab_size = len(idx2word)\n",
    "print(\"Vocabulary size\", vocab_size)"
   ]
  },
  {
   "cell_type": "markdown",
   "metadata": {},
   "source": [
    "## 构建(上下文, 目标词)结构的训练数据"
   ]
  },
  {
   "cell_type": "code",
   "execution_count": 7,
   "metadata": {
    "collapsed": true
   },
   "outputs": [],
   "source": [
    "from six.moves import xrange  # pylint: disable=redefined-builtin\n",
    "import numpy as np"
   ]
  },
  {
   "cell_type": "code",
   "execution_count": 8,
   "metadata": {
    "collapsed": true
   },
   "outputs": [],
   "source": [
    "def get_sample(data, data_size, word_idx, pad_token, c = 1):\n",
    "\n",
    "  idx = max(0, word_idx - c)\n",
    "  context = data[idx:word_idx]\n",
    "  if word_idx + 1 < data_size:\n",
    "    context += data[word_idx + 1 : min(data_size, word_idx + c + 1)]\n",
    "  target = data[word_idx]\n",
    "  context = [w for w in context if w != target]\n",
    "  if len(context) > 0:\n",
    "    return target, context + (2 * c - len(context)) * [pad_token]\n",
    "  return None, None\n",
    "\n",
    "\n",
    "def get_data_set(data, data_size, pad_token, c=1):\n",
    "  contexts = []\n",
    "  targets = []\n",
    "  for i in xrange(data_size):\n",
    "    target, context =  get_sample(data, data_size, i, pad_token, c)\n",
    "    if not target is None:\n",
    "      contexts.append(context)\n",
    "      targets.append(target)\n",
    "\n",
    "  return np.array(contexts, dtype='int32'), np.array(targets, dtype='int32')"
   ]
  },
  {
   "cell_type": "code",
   "execution_count": 9,
   "metadata": {
    "collapsed": true
   },
   "outputs": [],
   "source": [
    "# 构建窗口大小为2的上下文构成的训练数据\n",
    "data_contexts, data_targets = get_data_set(data, data_size, word2idx[pad_token], c=2)"
   ]
  },
  {
   "cell_type": "code",
   "execution_count": 10,
   "metadata": {},
   "outputs": [
    {
     "data": {
      "text/plain": [
       "(349569, 4)"
      ]
     },
     "execution_count": 10,
     "metadata": {},
     "output_type": "execute_result"
    }
   ],
   "source": [
    "data_contexts.shape"
   ]
  },
  {
   "cell_type": "code",
   "execution_count": 11,
   "metadata": {},
   "outputs": [
    {
     "data": {
      "text/plain": [
       "(349569,)"
      ]
     },
     "execution_count": 11,
     "metadata": {},
     "output_type": "execute_result"
    }
   ],
   "source": [
    "data_targets.shape"
   ]
  },
  {
   "cell_type": "code",
   "execution_count": 12,
   "metadata": {},
   "outputs": [
    {
     "name": "stdout",
     "output_type": "stream",
     "text": [
      "训练实例数量= 349569\n",
      "['originated', 'as', '<UNK>', '<UNK>'] anarchism\n"
     ]
    }
   ],
   "source": [
    "data_size = data_contexts.shape[0]\n",
    "print(\"训练实例数量=\", data_size)\n",
    "print([idx2word[i] for i in data_contexts[0]], idx2word[data_targets[0]])"
   ]
  },
  {
   "cell_type": "markdown",
   "metadata": {},
   "source": [
    "## 定义符号变量、共享变量、预测函数和损失函数"
   ]
  },
  {
   "cell_type": "code",
   "execution_count": 13,
   "metadata": {
    "collapsed": true
   },
   "outputs": [],
   "source": [
    "import theano\n",
    "import theano.tensor as T\n",
    "import math"
   ]
  },
  {
   "cell_type": "code",
   "execution_count": 14,
   "metadata": {
    "collapsed": true
   },
   "outputs": [],
   "source": [
    "# 将数据集作为共享变量，以便传输给GPU\n",
    "data_contexts = theano.shared(data_contexts)\n",
    "data_targets = theano.shared(data_targets)"
   ]
  },
  {
   "cell_type": "code",
   "execution_count": 15,
   "metadata": {
    "collapsed": true
   },
   "outputs": [],
   "source": [
    "def CBOW(vocab_size, emb_size):\n",
    "\n",
    "    \"\"\"\n",
    "    CBOW: Function to define the CBOW model\n",
    "    parameters:\n",
    "        vocab_size: the vocabulary size\n",
    "        emb_size: dimension of the embedding vector 隐藏层神经元数量\n",
    "    return:\n",
    "        List of theano variables [context, target], represents the model input,\n",
    "        Theano function represents the loss (i.e. the cose or the objective) function,\n",
    "        List of theano (shared) variable params, represents the parameters of the model.\n",
    "    \"\"\"\n",
    "    # 上下文窗口变量\n",
    "    context = T.imatrix(name='context')\n",
    "    # 目标词变量\n",
    "    target = T.ivector(name='target')\n",
    "    # 输入层与隐藏层之间的初始权重矩阵\n",
    "    W_in_values = np.asarray(np.random.uniform(-1.0, 1.0, (vocab_size, emb_size)),\n",
    "                                dtype=theano.config.floatX)\n",
    "    # 隐藏层与输出层之间的初始权重矩阵\n",
    "    W_out_values = np.asarray(np.random.normal(scale=1.0 / math.sqrt(emb_size), size=(emb_size, vocab_size)),\n",
    "                                dtype=theano.config.floatX)\n",
    "    # 输入层与隐藏层之间的权重矩阵（共享变量，训练过程中更新）\n",
    "    W_in = theano.shared(\n",
    "            value=W_in_values,\n",
    "            name='W_in',\n",
    "            borrow=True)\n",
    "    # 隐藏层与输出层之间的权重矩阵（共享变量，训练过程中更新）\n",
    "    W_out = theano.shared(\n",
    "            value=W_out_values,\n",
    "            name='W_out',\n",
    "            borrow=True)\n",
    "    # 输入层到隐藏层的计算 input -> hidden (eq. 1)\n",
    "    h = T.mean(W_in[context], axis=1)\n",
    "    # 隐藏层到输出层的计算 hidden -> output (eq. 2)\n",
    "    u = T.dot(h, W_out)\n",
    "    # 多类别逻辑回归预测 softmax activation (eq. 3)\n",
    "    p_target_given_contex = T.nnet.softmax(u) \n",
    "    # 损失函数 loss function (eq. 4)\n",
    "    loss = -T.mean(T.log(p_target_given_contex)[T.arange(target.shape[0]), target])\n",
    "    # 待训练的参数矩阵\n",
    "    params = [W_in, W_out]\n",
    "\n",
    "    return [context, target], loss, params, p_target_given_contex"
   ]
  },
  {
   "cell_type": "code",
   "execution_count": 16,
   "metadata": {
    "collapsed": true
   },
   "outputs": [],
   "source": [
    "# 隐藏层大小\n",
    "emb_size = 128\n",
    "# 创建上下文符号变量context，目标词符号变量target，损失函数loss，模型参数params\n",
    "[context, target], loss, params, p_target_given_contex = CBOW(vocab_size, emb_size)"
   ]
  },
  {
   "cell_type": "code",
   "execution_count": 17,
   "metadata": {
    "collapsed": true
   },
   "outputs": [],
   "source": [
    "from theano import pp"
   ]
  },
  {
   "cell_type": "code",
   "execution_count": 18,
   "metadata": {},
   "outputs": [
    {
     "data": {
      "text/plain": [
       "'Softmax(((Sum{axis=[1], acc_dtype=float64}(Reshape{3}(AdvancedSubtensor1(W_in, Reshape{1}(context, TensorConstant{(1,) of -1})), join(TensorConstant{0}, Shape(context), Shape(W_in)[int64:]))) / float64(Shape(Reshape{3}(AdvancedSubtensor1(W_in, Reshape{1}(context, TensorConstant{(1,) of -1})), join(TensorConstant{0}, Shape(context), Shape(W_in)[int64:]))))[Constant{1}]) \\\\dot W_out))'"
      ]
     },
     "execution_count": 18,
     "metadata": {},
     "output_type": "execute_result"
    }
   ],
   "source": [
    "pp(p_target_given_contex)"
   ]
  },
  {
   "cell_type": "code",
   "execution_count": 19,
   "metadata": {
    "collapsed": true
   },
   "outputs": [],
   "source": [
    "from IPython.display import SVG"
   ]
  },
  {
   "cell_type": "code",
   "execution_count": 20,
   "metadata": {},
   "outputs": [
    {
     "data": {
      "image/svg+xml": [
       "<svg height=\"1168pt\" viewBox=\"0.00 0.00 1054.84 1168.00\" width=\"1055pt\" xmlns=\"http://www.w3.org/2000/svg\" xmlns:xlink=\"http://www.w3.org/1999/xlink\">\n",
       "<g class=\"graph\" id=\"graph0\" transform=\"scale(1 1) rotate(0) translate(4 1164)\">\n",
       "<title>G</title>\n",
       "<polygon fill=\"white\" points=\"-4,4 -4,-1164 1050.84,-1164 1050.84,4 -4,4\" stroke=\"none\"/>\n",
       "<!-- 321784072 -->\n",
       "<g class=\"node\" id=\"node1\"><title>321784072</title>\n",
       "<ellipse cx=\"417.843\" cy=\"-1069\" fill=\"brown\" rx=\"33.2948\" ry=\"18\" stroke=\"black\"/>\n",
       "<text font-family=\"Times New Roman,serif\" font-size=\"14.00\" text-anchor=\"middle\" x=\"417.843\" y=\"-1065.3\">Shape</text>\n",
       "</g>\n",
       "<!-- 321784296 -->\n",
       "<g class=\"node\" id=\"node3\"><title>321784296</title>\n",
       "<ellipse cx=\"83.8426\" cy=\"-982\" fill=\"#ffaaff\" rx=\"83.6854\" ry=\"18\" stroke=\"black\"/>\n",
       "<text font-family=\"Times New Roman,serif\" font-size=\"14.00\" text-anchor=\"middle\" x=\"83.8426\" y=\"-978.3\">Subtensor{int64__}</text>\n",
       "</g>\n",
       "<!-- 321784072&#45;&gt;321784296 -->\n",
       "<g class=\"edge\" id=\"edge2\"><title>321784072-&gt;321784296</title>\n",
       "<path d=\"M388.495,-1060.53C334.371,-1046.76 217.781,-1017.09 145.558,-998.706\" fill=\"none\" stroke=\"blue\"/>\n",
       "<polygon fill=\"blue\" points=\"146.227,-995.265 135.672,-996.19 144.5,-1002.05 146.227,-995.265\" stroke=\"blue\"/>\n",
       "<text font-family=\"Times New Roman,serif\" font-size=\"14.00\" text-anchor=\"middle\" x=\"350.343\" y=\"-1021.8\">0 TensorType(int64, vector)</text>\n",
       "</g>\n",
       "<!-- 321782392 -->\n",
       "<g class=\"node\" id=\"node2\"><title>321782392</title>\n",
       "<polygon fill=\"cyan\" points=\"625.343,-1160 378.343,-1160 378.343,-1124 625.343,-1124 625.343,-1160\" stroke=\"black\"/>\n",
       "<text font-family=\"Times New Roman,serif\" font-size=\"14.00\" text-anchor=\"middle\" x=\"501.843\" y=\"-1138.3\">name=W_in TensorType(float64, matrix)</text>\n",
       "</g>\n",
       "<!-- 321782392&#45;&gt;321784072 -->\n",
       "<g class=\"edge\" id=\"edge1\"><title>321782392-&gt;321784072</title>\n",
       "<path d=\"M481.509,-1123.81C469.878,-1113.98 455.195,-1101.57 442.862,-1091.15\" fill=\"none\" stroke=\"black\"/>\n",
       "<polygon fill=\"black\" points=\"445.049,-1088.41 435.152,-1084.63 440.53,-1093.76 445.049,-1088.41\" stroke=\"black\"/>\n",
       "</g>\n",
       "<!-- 321785640 -->\n",
       "<g class=\"node\" id=\"node11\"><title>321785640</title>\n",
       "<ellipse cx=\"538.843\" cy=\"-895\" fill=\"#ffaaff\" rx=\"89.0842\" ry=\"18\" stroke=\"black\"/>\n",
       "<text font-family=\"Times New Roman,serif\" font-size=\"14.00\" text-anchor=\"middle\" x=\"538.843\" y=\"-891.3\">AdvancedSubtensor1</text>\n",
       "</g>\n",
       "<!-- 321782392&#45;&gt;321785640 -->\n",
       "<g class=\"edge\" id=\"edge10\"><title>321782392-&gt;321785640</title>\n",
       "<path d=\"M504.444,-1123.77C510.787,-1081.78 527.084,-973.857 534.746,-923.123\" fill=\"none\" stroke=\"black\"/>\n",
       "<polygon fill=\"black\" points=\"538.211,-923.619 536.244,-913.209 531.29,-922.574 538.211,-923.619\" stroke=\"black\"/>\n",
       "<text font-family=\"Times New Roman,serif\" font-size=\"14.00\" text-anchor=\"middle\" x=\"523.343\" y=\"-1021.8\">0</text>\n",
       "</g>\n",
       "<!-- 321785024 -->\n",
       "<g class=\"node\" id=\"node7\"><title>321785024</title>\n",
       "<ellipse cx=\"264.843\" cy=\"-895\" fill=\"none\" rx=\"27\" ry=\"18\" stroke=\"black\"/>\n",
       "<text font-family=\"Times New Roman,serif\" font-size=\"14.00\" text-anchor=\"middle\" x=\"264.843\" y=\"-891.3\">Join</text>\n",
       "</g>\n",
       "<!-- 321784296&#45;&gt;321785024 -->\n",
       "<g class=\"edge\" id=\"edge7\"><title>321784296-&gt;321785024</title>\n",
       "<path d=\"M80.8135,-963.654C79.9838,-952.949 80.9854,-939.656 88.8426,-931 107.055,-910.937 181.778,-901.98 227.806,-898.299\" fill=\"none\" stroke=\"black\"/>\n",
       "<polygon fill=\"black\" points=\"228.29,-901.772 237.999,-897.532 227.765,-894.792 228.29,-901.772\" stroke=\"black\"/>\n",
       "<text font-family=\"Times New Roman,serif\" font-size=\"14.00\" text-anchor=\"middle\" x=\"168.343\" y=\"-934.8\">2 TensorType(int64, vector)</text>\n",
       "</g>\n",
       "<!-- 321783288 -->\n",
       "<g class=\"node\" id=\"node4\"><title>321783288</title>\n",
       "<polygon fill=\"green\" points=\"122.843,-1087 44.8426,-1087 44.8426,-1051 122.843,-1051 122.843,-1087\" stroke=\"black\"/>\n",
       "<text font-family=\"Times New Roman,serif\" font-size=\"14.00\" text-anchor=\"middle\" x=\"83.8426\" y=\"-1065.3\">val=1 int64</text>\n",
       "</g>\n",
       "<!-- 321783288&#45;&gt;321784296 -->\n",
       "<g class=\"edge\" id=\"edge3\"><title>321783288-&gt;321784296</title>\n",
       "<path d=\"M83.8426,-1050.8C83.8426,-1039.16 83.8426,-1023.55 83.8426,-1010.24\" fill=\"none\" stroke=\"black\"/>\n",
       "<polygon fill=\"black\" points=\"87.3427,-1010.18 83.8426,-1000.18 80.3427,-1010.18 87.3427,-1010.18\" stroke=\"black\"/>\n",
       "<text font-family=\"Times New Roman,serif\" font-size=\"14.00\" text-anchor=\"middle\" x=\"87.3426\" y=\"-1021.8\">1</text>\n",
       "</g>\n",
       "<!-- 321784744 -->\n",
       "<g class=\"node\" id=\"node5\"><title>321784744</title>\n",
       "<ellipse cx=\"251.843\" cy=\"-982\" fill=\"brown\" rx=\"51.9908\" ry=\"18\" stroke=\"black\"/>\n",
       "<text font-family=\"Times New Roman,serif\" font-size=\"14.00\" text-anchor=\"middle\" x=\"251.843\" y=\"-978.3\">Shape id=2</text>\n",
       "</g>\n",
       "<!-- 321784744&#45;&gt;321785024 -->\n",
       "<g class=\"edge\" id=\"edge6\"><title>321784744-&gt;321785024</title>\n",
       "<path d=\"M250.88,-963.748C250.664,-954.053 250.936,-941.772 252.843,-931 253.357,-928.094 254.073,-925.104 254.902,-922.154\" fill=\"none\" stroke=\"black\"/>\n",
       "<polygon fill=\"black\" points=\"258.291,-923.047 258.025,-912.456 251.628,-920.901 258.291,-923.047\" stroke=\"black\"/>\n",
       "<text font-family=\"Times New Roman,serif\" font-size=\"14.00\" text-anchor=\"middle\" x=\"332.343\" y=\"-934.8\">1 TensorType(int64, vector)</text>\n",
       "</g>\n",
       "<!-- 321782336 -->\n",
       "<g class=\"node\" id=\"node6\"><title>321782336</title>\n",
       "<polygon fill=\"green\" points=\"812.843,-1087 566.843,-1087 566.843,-1051 812.843,-1051 812.843,-1087\" stroke=\"black\"/>\n",
       "<text font-family=\"Times New Roman,serif\" font-size=\"14.00\" text-anchor=\"middle\" x=\"689.843\" y=\"-1065.3\">name=context TensorType(int32, matrix)</text>\n",
       "</g>\n",
       "<!-- 321782336&#45;&gt;321784744 -->\n",
       "<g class=\"edge\" id=\"edge4\"><title>321782336-&gt;321784744</title>\n",
       "<path d=\"M650.833,-1050.89C623.192,-1039.56 584.934,-1025.46 549.843,-1018 446.514,-996.04 416.888,-1018.27 312.843,-1000 308.335,-999.209 303.681,-998.225 299.047,-997.133\" fill=\"none\" stroke=\"black\"/>\n",
       "<polygon fill=\"black\" points=\"299.551,-993.651 288.998,-994.601 297.84,-1000.44 299.551,-993.651\" stroke=\"black\"/>\n",
       "</g>\n",
       "<!-- 321785304 -->\n",
       "<g class=\"node\" id=\"node9\"><title>321785304</title>\n",
       "<ellipse cx=\"689.843\" cy=\"-982\" fill=\"none\" rx=\"55.4913\" ry=\"18\" stroke=\"black\"/>\n",
       "<text font-family=\"Times New Roman,serif\" font-size=\"14.00\" text-anchor=\"middle\" x=\"689.843\" y=\"-978.3\">Reshape{1}</text>\n",
       "</g>\n",
       "<!-- 321782336&#45;&gt;321785304 -->\n",
       "<g class=\"edge\" id=\"edge8\"><title>321782336-&gt;321785304</title>\n",
       "<path d=\"M689.843,-1050.8C689.843,-1039.16 689.843,-1023.55 689.843,-1010.24\" fill=\"none\" stroke=\"blue\"/>\n",
       "<polygon fill=\"blue\" points=\"693.343,-1010.18 689.843,-1000.18 686.343,-1010.18 693.343,-1010.18\" stroke=\"blue\"/>\n",
       "<text font-family=\"Times New Roman,serif\" font-size=\"14.00\" text-anchor=\"middle\" x=\"693.343\" y=\"-1021.8\">0</text>\n",
       "</g>\n",
       "<!-- 321790192 -->\n",
       "<g class=\"node\" id=\"node12\"><title>321790192</title>\n",
       "<ellipse cx=\"420.843\" cy=\"-808\" fill=\"none\" rx=\"55.4913\" ry=\"18\" stroke=\"black\"/>\n",
       "<text font-family=\"Times New Roman,serif\" font-size=\"14.00\" text-anchor=\"middle\" x=\"420.843\" y=\"-804.3\">Reshape{3}</text>\n",
       "</g>\n",
       "<!-- 321785024&#45;&gt;321790192 -->\n",
       "<g class=\"edge\" id=\"edge13\"><title>321785024-&gt;321790192</title>\n",
       "<path d=\"M277.548,-878.572C287.301,-867.598 301.637,-853.223 316.843,-844 332.229,-834.668 350.42,-827.457 367.252,-822.073\" fill=\"none\" stroke=\"black\"/>\n",
       "<polygon fill=\"black\" points=\"368.427,-825.374 376.973,-819.112 366.387,-818.677 368.427,-825.374\" stroke=\"black\"/>\n",
       "<text font-family=\"Times New Roman,serif\" font-size=\"14.00\" text-anchor=\"middle\" x=\"396.343\" y=\"-847.8\">1 TensorType(int64, vector)</text>\n",
       "</g>\n",
       "<!-- 321782784 -->\n",
       "<g class=\"node\" id=\"node8\"><title>321782784</title>\n",
       "<polygon fill=\"green\" points=\"510.343,-1000 321.343,-1000 321.343,-964 510.343,-964 510.343,-1000\" stroke=\"black\"/>\n",
       "<text font-family=\"Times New Roman,serif\" font-size=\"14.00\" text-anchor=\"middle\" x=\"415.843\" y=\"-978.3\">val=0 TensorType(int8, scalar)</text>\n",
       "</g>\n",
       "<!-- 321782784&#45;&gt;321785024 -->\n",
       "<g class=\"edge\" id=\"edge5\"><title>321782784-&gt;321785024</title>\n",
       "<path d=\"M419.156,-963.794C420.175,-953.145 419.435,-939.861 411.843,-931 397.722,-914.52 340.456,-904.723 301.71,-899.854\" fill=\"none\" stroke=\"black\"/>\n",
       "<polygon fill=\"black\" points=\"301.669,-896.324 291.323,-898.61 300.836,-903.274 301.669,-896.324\" stroke=\"black\"/>\n",
       "<text font-family=\"Times New Roman,serif\" font-size=\"14.00\" text-anchor=\"middle\" x=\"421.343\" y=\"-934.8\">0</text>\n",
       "</g>\n",
       "<!-- 321785304&#45;&gt;321785640 -->\n",
       "<g class=\"edge\" id=\"edge11\"><title>321785304-&gt;321785640</title>\n",
       "<path d=\"M663.194,-965.999C639.081,-952.426 603.317,-932.293 576.325,-917.099\" fill=\"none\" stroke=\"black\"/>\n",
       "<polygon fill=\"black\" points=\"577.968,-914.008 567.537,-912.152 574.534,-920.108 577.968,-914.008\" stroke=\"black\"/>\n",
       "<text font-family=\"Times New Roman,serif\" font-size=\"14.00\" text-anchor=\"middle\" x=\"702.343\" y=\"-934.8\">1 TensorType(int32, vector)</text>\n",
       "</g>\n",
       "<!-- 321782560 -->\n",
       "<g class=\"node\" id=\"node10\"><title>321782560</title>\n",
       "<polygon fill=\"green\" points=\"1046.84,-1087 830.843,-1087 830.843,-1051 1046.84,-1051 1046.84,-1087\" stroke=\"black\"/>\n",
       "<text font-family=\"Times New Roman,serif\" font-size=\"14.00\" text-anchor=\"middle\" x=\"938.843\" y=\"-1065.3\">val=[-1] TensorType(int32, (True,))</text>\n",
       "</g>\n",
       "<!-- 321782560&#45;&gt;321785304 -->\n",
       "<g class=\"edge\" id=\"edge9\"><title>321782560-&gt;321785304</title>\n",
       "<path d=\"M888.753,-1050.9C844.221,-1035.7 779.626,-1013.65 736.247,-998.841\" fill=\"none\" stroke=\"black\"/>\n",
       "<polygon fill=\"black\" points=\"737.11,-995.437 726.515,-995.519 734.848,-1002.06 737.11,-995.437\" stroke=\"black\"/>\n",
       "<text font-family=\"Times New Roman,serif\" font-size=\"14.00\" text-anchor=\"middle\" x=\"832.343\" y=\"-1021.8\">1</text>\n",
       "</g>\n",
       "<!-- 321785640&#45;&gt;321790192 -->\n",
       "<g class=\"edge\" id=\"edge12\"><title>321785640-&gt;321790192</title>\n",
       "<path d=\"M520.624,-877.18C509.279,-867.062 494.166,-854.209 479.843,-844 472.514,-838.777 464.372,-833.588 456.534,-828.868\" fill=\"none\" stroke=\"blue\"/>\n",
       "<polygon fill=\"blue\" points=\"458.266,-825.826 447.875,-823.761 454.711,-831.856 458.266,-825.826\" stroke=\"blue\"/>\n",
       "<text font-family=\"Times New Roman,serif\" font-size=\"14.00\" text-anchor=\"middle\" x=\"582.343\" y=\"-847.8\">0 TensorType(float64, matrix)</text>\n",
       "</g>\n",
       "<!-- 321790472 -->\n",
       "<g class=\"node\" id=\"node13\"><title>321790472</title>\n",
       "<ellipse cx=\"306.843\" cy=\"-721\" fill=\"brown\" rx=\"51.9908\" ry=\"18\" stroke=\"black\"/>\n",
       "<text font-family=\"Times New Roman,serif\" font-size=\"14.00\" text-anchor=\"middle\" x=\"306.843\" y=\"-717.3\">Shape id=7</text>\n",
       "</g>\n",
       "<!-- 321790192&#45;&gt;321790472 -->\n",
       "<g class=\"edge\" id=\"edge14\"><title>321790192-&gt;321790472</title>\n",
       "<path d=\"M399.667,-791.211C381.751,-777.852 355.892,-758.572 336.016,-743.752\" fill=\"none\" stroke=\"black\"/>\n",
       "<polygon fill=\"black\" points=\"338.014,-740.876 327.905,-737.704 333.829,-746.488 338.014,-740.876\" stroke=\"black\"/>\n",
       "<text font-family=\"Times New Roman,serif\" font-size=\"14.00\" text-anchor=\"middle\" x=\"440.343\" y=\"-760.8\">TensorType(float64, 3D)</text>\n",
       "</g>\n",
       "<!-- 321791760 -->\n",
       "<g class=\"node\" id=\"node18\"><title>321791760</title>\n",
       "<ellipse cx=\"582.843\" cy=\"-667\" fill=\"none\" rx=\"139.175\" ry=\"18\" stroke=\"black\"/>\n",
       "<text font-family=\"Times New Roman,serif\" font-size=\"14.00\" text-anchor=\"middle\" x=\"582.843\" y=\"-663.3\">Sum{axis=[1], acc_dtype=float64}</text>\n",
       "</g>\n",
       "<!-- 321790192&#45;&gt;321791760 -->\n",
       "<g class=\"edge\" id=\"edge19\"><title>321790192-&gt;321791760</title>\n",
       "<path d=\"M464.987,-796.9C481.826,-791.503 500.421,-783.522 514.843,-772 540.798,-751.264 560.134,-717.841 571.421,-694.498\" fill=\"none\" stroke=\"black\"/>\n",
       "<polygon fill=\"black\" points=\"574.712,-695.721 575.762,-685.178 568.367,-692.766 574.712,-695.721\" stroke=\"black\"/>\n",
       "<text font-family=\"Times New Roman,serif\" font-size=\"14.00\" text-anchor=\"middle\" x=\"600.343\" y=\"-760.8\">TensorType(float64, 3D)</text>\n",
       "</g>\n",
       "<!-- 321790808 -->\n",
       "<g class=\"node\" id=\"node14\"><title>321790808</title>\n",
       "<ellipse cx=\"293.843\" cy=\"-613\" fill=\"#ffaabb\" rx=\"103.982\" ry=\"18\" stroke=\"black\"/>\n",
       "<text font-family=\"Times New Roman,serif\" font-size=\"14.00\" text-anchor=\"middle\" x=\"293.843\" y=\"-609.3\">Elemwise{Cast{float64}}</text>\n",
       "</g>\n",
       "<!-- 321790472&#45;&gt;321790808 -->\n",
       "<g class=\"edge\" id=\"edge15\"><title>321790472-&gt;321790808</title>\n",
       "<path d=\"M294.98,-703.33C291.676,-697.766 288.531,-691.358 286.843,-685 283.08,-670.831 284.293,-654.587 286.685,-641.215\" fill=\"none\" stroke=\"black\"/>\n",
       "<polygon fill=\"black\" points=\"290.158,-641.707 288.783,-631.202 283.306,-640.271 290.158,-641.707\" stroke=\"black\"/>\n",
       "<text font-family=\"Times New Roman,serif\" font-size=\"14.00\" text-anchor=\"middle\" x=\"360.843\" y=\"-663.3\">TensorType(int64, vector)</text>\n",
       "</g>\n",
       "<!-- 321791088 -->\n",
       "<g class=\"node\" id=\"node15\"><title>321791088</title>\n",
       "<ellipse cx=\"293.843\" cy=\"-526\" fill=\"#ffaaff\" rx=\"74.187\" ry=\"18\" stroke=\"black\"/>\n",
       "<text font-family=\"Times New Roman,serif\" font-size=\"14.00\" text-anchor=\"middle\" x=\"293.843\" y=\"-522.3\">Subtensor{int64}</text>\n",
       "</g>\n",
       "<!-- 321790808&#45;&gt;321791088 -->\n",
       "<g class=\"edge\" id=\"edge16\"><title>321790808-&gt;321791088</title>\n",
       "<path d=\"M293.843,-594.799C293.843,-583.163 293.843,-567.548 293.843,-554.237\" fill=\"none\" stroke=\"blue\"/>\n",
       "<polygon fill=\"blue\" points=\"297.343,-554.175 293.843,-544.175 290.343,-554.175 297.343,-554.175\" stroke=\"blue\"/>\n",
       "<text font-family=\"Times New Roman,serif\" font-size=\"14.00\" text-anchor=\"middle\" x=\"378.843\" y=\"-565.8\">0 TensorType(float64, vector)</text>\n",
       "</g>\n",
       "<!-- 321791480 -->\n",
       "<g class=\"node\" id=\"node17\"><title>321791480</title>\n",
       "<ellipse cx=\"320.843\" cy=\"-439\" fill=\"none\" rx=\"98.2828\" ry=\"18\" stroke=\"black\"/>\n",
       "<text font-family=\"Times New Roman,serif\" font-size=\"14.00\" text-anchor=\"middle\" x=\"320.843\" y=\"-435.3\">InplaceDimShuffle{x,x}</text>\n",
       "</g>\n",
       "<!-- 321791088&#45;&gt;321791480 -->\n",
       "<g class=\"edge\" id=\"edge18\"><title>321791088-&gt;321791480</title>\n",
       "<path d=\"M299.306,-507.799C303.039,-496.047 308.061,-480.238 312.316,-466.842\" fill=\"none\" stroke=\"blue\"/>\n",
       "<polygon fill=\"blue\" points=\"315.695,-467.766 315.387,-457.175 309.024,-465.647 315.695,-467.766\" stroke=\"blue\"/>\n",
       "<text font-family=\"Times New Roman,serif\" font-size=\"14.00\" text-anchor=\"middle\" x=\"387.343\" y=\"-478.8\">TensorType(float64, scalar)</text>\n",
       "</g>\n",
       "<!-- 321783680 -->\n",
       "<g class=\"node\" id=\"node16\"><title>321783680</title>\n",
       "<polygon fill=\"green\" points=\"171.843,-631 93.8426,-631 93.8426,-595 171.843,-595 171.843,-631\" stroke=\"black\"/>\n",
       "<text font-family=\"Times New Roman,serif\" font-size=\"14.00\" text-anchor=\"middle\" x=\"132.843\" y=\"-609.3\">val=1 int64</text>\n",
       "</g>\n",
       "<!-- 321783680&#45;&gt;321791088 -->\n",
       "<g class=\"edge\" id=\"edge17\"><title>321783680-&gt;321791088</title>\n",
       "<path d=\"M165.423,-594.799C191.427,-581.07 227.92,-561.804 255.361,-547.316\" fill=\"none\" stroke=\"black\"/>\n",
       "<polygon fill=\"black\" points=\"257.083,-550.365 264.292,-542.601 253.815,-544.175 257.083,-550.365\" stroke=\"black\"/>\n",
       "<text font-family=\"Times New Roman,serif\" font-size=\"14.00\" text-anchor=\"middle\" x=\"227.343\" y=\"-565.8\">1</text>\n",
       "</g>\n",
       "<!-- 321792040 -->\n",
       "<g class=\"node\" id=\"node19\"><title>321792040</title>\n",
       "<ellipse cx=\"435.843\" cy=\"-352\" fill=\"#ffaabb\" rx=\"125.378\" ry=\"18\" stroke=\"black\"/>\n",
       "<text font-family=\"Times New Roman,serif\" font-size=\"14.00\" text-anchor=\"middle\" x=\"435.843\" y=\"-348.3\">Elemwise{true_div,no_inplace}</text>\n",
       "</g>\n",
       "<!-- 321791480&#45;&gt;321792040 -->\n",
       "<g class=\"edge\" id=\"edge21\"><title>321791480-&gt;321792040</title>\n",
       "<path d=\"M319.35,-420.861C319.361,-410.238 321.194,-396.959 328.843,-388 334.854,-380.959 342.304,-375.325 350.454,-370.819\" fill=\"none\" stroke=\"black\"/>\n",
       "<polygon fill=\"black\" points=\"352.104,-373.908 359.538,-366.359 349.019,-367.625 352.104,-373.908\" stroke=\"black\"/>\n",
       "<text font-family=\"Times New Roman,serif\" font-size=\"14.00\" text-anchor=\"middle\" x=\"430.843\" y=\"-391.8\">1 TensorType(float64, (True, True))</text>\n",
       "</g>\n",
       "<!-- 321791760&#45;&gt;321792040 -->\n",
       "<g class=\"edge\" id=\"edge20\"><title>321791760-&gt;321792040</title>\n",
       "<path d=\"M572.041,-648.782C561.437,-630.201 546.843,-599.382 546.843,-570.5 546.843,-570.5 546.843,-570.5 546.843,-438 546.843,-414.923 548.552,-404.905 532.843,-388 526.821,-381.521 519.511,-376.239 511.634,-371.933\" fill=\"none\" stroke=\"black\"/>\n",
       "<polygon fill=\"black\" points=\"513.058,-368.733 502.538,-367.475 509.978,-375.019 513.058,-368.733\" stroke=\"black\"/>\n",
       "<text font-family=\"Times New Roman,serif\" font-size=\"14.00\" text-anchor=\"middle\" x=\"631.343\" y=\"-522.3\">0 TensorType(float64, matrix)</text>\n",
       "</g>\n",
       "<!-- 321792264 -->\n",
       "<g class=\"node\" id=\"node20\"><title>321792264</title>\n",
       "<polygon fill=\"none\" points=\"558.343,-283 313.343,-283 313.343,-247 558.343,-247 558.343,-283\" stroke=\"black\"/>\n",
       "<text font-family=\"Times New Roman,serif\" font-size=\"14.00\" text-anchor=\"middle\" x=\"435.843\" y=\"-261.3\">name=mean TensorType(float64, matrix)</text>\n",
       "</g>\n",
       "<!-- 321792040&#45;&gt;321792264 -->\n",
       "<g class=\"edge\" id=\"edge22\"><title>321792040-&gt;321792264</title>\n",
       "<path d=\"M435.843,-333.799C435.843,-322.163 435.843,-306.548 435.843,-293.237\" fill=\"none\" stroke=\"black\"/>\n",
       "<polygon fill=\"black\" points=\"439.343,-293.175 435.843,-283.175 432.343,-293.175 439.343,-293.175\" stroke=\"black\"/>\n",
       "<text font-family=\"Times New Roman,serif\" font-size=\"14.00\" text-anchor=\"middle\" x=\"515.343\" y=\"-304.8\">TensorType(float64, matrix)</text>\n",
       "</g>\n",
       "<!-- 321792320 -->\n",
       "<g class=\"node\" id=\"node21\"><title>321792320</title>\n",
       "<ellipse cx=\"628.843\" cy=\"-178\" fill=\"none\" rx=\"27\" ry=\"18\" stroke=\"black\"/>\n",
       "<text font-family=\"Times New Roman,serif\" font-size=\"14.00\" text-anchor=\"middle\" x=\"628.843\" y=\"-174.3\">dot</text>\n",
       "</g>\n",
       "<!-- 321792264&#45;&gt;321792320 -->\n",
       "<g class=\"edge\" id=\"edge23\"><title>321792264-&gt;321792320</title>\n",
       "<path d=\"M474.899,-246.799C511.09,-230.86 564.228,-207.457 597.658,-192.734\" fill=\"none\" stroke=\"black\"/>\n",
       "<polygon fill=\"black\" points=\"599.206,-195.877 606.947,-188.643 596.384,-189.471 599.206,-195.877\" stroke=\"black\"/>\n",
       "<text font-family=\"Times New Roman,serif\" font-size=\"14.00\" text-anchor=\"middle\" x=\"547.343\" y=\"-217.8\">0</text>\n",
       "</g>\n",
       "<!-- 321792600 -->\n",
       "<g class=\"node\" id=\"node23\"><title>321792600</title>\n",
       "<ellipse cx=\"628.843\" cy=\"-91\" fill=\"none\" rx=\"41.6928\" ry=\"18\" stroke=\"black\"/>\n",
       "<text font-family=\"Times New Roman,serif\" font-size=\"14.00\" text-anchor=\"middle\" x=\"628.843\" y=\"-87.3\">Softmax</text>\n",
       "</g>\n",
       "<!-- 321792320&#45;&gt;321792600 -->\n",
       "<g class=\"edge\" id=\"edge25\"><title>321792320-&gt;321792600</title>\n",
       "<path d=\"M628.843,-159.799C628.843,-148.163 628.843,-132.548 628.843,-119.237\" fill=\"none\" stroke=\"black\"/>\n",
       "<polygon fill=\"black\" points=\"632.343,-119.175 628.843,-109.175 625.343,-119.175 632.343,-119.175\" stroke=\"black\"/>\n",
       "<text font-family=\"Times New Roman,serif\" font-size=\"14.00\" text-anchor=\"middle\" x=\"708.343\" y=\"-130.8\">TensorType(float64, matrix)</text>\n",
       "</g>\n",
       "<!-- 321783904 -->\n",
       "<g class=\"node\" id=\"node22\"><title>321783904</title>\n",
       "<polygon fill=\"cyan\" points=\"831.343,-283 576.343,-283 576.343,-247 831.343,-247 831.343,-283\" stroke=\"black\"/>\n",
       "<text font-family=\"Times New Roman,serif\" font-size=\"14.00\" text-anchor=\"middle\" x=\"703.843\" y=\"-261.3\">name=W_out TensorType(float64, matrix)</text>\n",
       "</g>\n",
       "<!-- 321783904&#45;&gt;321792320 -->\n",
       "<g class=\"edge\" id=\"edge24\"><title>321783904-&gt;321792320</title>\n",
       "<path d=\"M688.665,-246.799C677.215,-233.822 661.4,-215.899 648.907,-201.739\" fill=\"none\" stroke=\"black\"/>\n",
       "<polygon fill=\"black\" points=\"651.233,-199.086 641.992,-193.903 645.984,-203.717 651.233,-199.086\" stroke=\"black\"/>\n",
       "<text font-family=\"Times New Roman,serif\" font-size=\"14.00\" text-anchor=\"middle\" x=\"673.343\" y=\"-217.8\">1</text>\n",
       "</g>\n",
       "<!-- 321792880 -->\n",
       "<g class=\"node\" id=\"node24\"><title>321792880</title>\n",
       "<polygon fill=\"blue\" points=\"716.343,-36 541.343,-36 541.343,-0 716.343,-0 716.343,-36\" stroke=\"black\"/>\n",
       "<text font-family=\"Times New Roman,serif\" font-size=\"14.00\" text-anchor=\"middle\" x=\"628.843\" y=\"-14.3\">TensorType(float64, matrix)</text>\n",
       "</g>\n",
       "<!-- 321792600&#45;&gt;321792880 -->\n",
       "<g class=\"edge\" id=\"edge26\"><title>321792600-&gt;321792880</title>\n",
       "<path d=\"M628.843,-72.8129C628.843,-64.7895 628.843,-55.0475 628.843,-46.0691\" fill=\"none\" stroke=\"black\"/>\n",
       "<polygon fill=\"black\" points=\"632.343,-46.0288 628.843,-36.0288 625.343,-46.0289 632.343,-46.0288\" stroke=\"black\"/>\n",
       "</g>\n",
       "</g>\n",
       "</svg>"
      ],
      "text/plain": [
       "<IPython.core.display.SVG object>"
      ]
     },
     "execution_count": 20,
     "metadata": {},
     "output_type": "execute_result"
    }
   ],
   "source": [
    "SVG(theano.printing.pydotprint(p_target_given_contex, return_image=True, format='svg'))"
   ]
  },
  {
   "cell_type": "markdown",
   "metadata": {},
   "source": [
    "## 编译函数"
   ]
  },
  {
   "cell_type": "code",
   "execution_count": 21,
   "metadata": {
    "collapsed": true
   },
   "outputs": [],
   "source": [
    "def get_train_model(data, inputs, loss, params, batch_size=32):\n",
    "\n",
    "    \"\"\"\n",
    "        trainer: Function to define the trainer of the model on the data set that bassed as the parameters of the function\n",
    "        parameters:\n",
    "            data: [(上下文数据1, 目标词1), (上下文数据2, 目标词2), ...., ]\n",
    "            inputs: [上下文符号变量, 目标词符号变量]\n",
    "            loss: 损失函数表达式\n",
    "            params: 参数矩阵共享变量列表\n",
    "        return:\n",
    "            训练模型的函数\n",
    "    \"\"\"\n",
    "    \n",
    "    # 所有的上下文共享变量\n",
    "    data_contexts = data[0]\n",
    "    # 所有目标词共享变量\n",
    "    data_targets = data[1]\n",
    "    \n",
    "    # 上下文符号变量\n",
    "    context = inputs[0]\n",
    "    # 目标词符号变量\n",
    "    target = inputs[1]\n",
    "\n",
    "    # 学习速率符号变量\n",
    "    learning_rate = T.fscalar('learning_rate') # theano input: the learning rate, the value of this input\n",
    "                                               # can be constant like 0.1 or\n",
    "                                               # it can be come from a function like a decay learning rate function\n",
    "    # mini批次的索引号\n",
    "    index = T.lscalar('index') # the index of minibatch\n",
    "\n",
    "    # 损失函数对模型参数的梯度\n",
    "    g_params = T.grad(cost=loss, wrt=params)\n",
    "    \n",
    "    # 参数更新表达式\n",
    "    updates = [\n",
    "            (param, param - learning_rate * gparam)\n",
    "            for param, gparam in zip(params, g_params)\n",
    "    ]\n",
    "\n",
    "\n",
    "    train_fun = theano.function(\n",
    "        inputs = [index, learning_rate], # 输入变量\n",
    "        outputs = loss, \n",
    "        updates = updates,               # 更新表达式\n",
    "        givens={                         # 截取的批次数据\n",
    "            context: data_contexts[index * batch_size: (index + 1) * batch_size],\n",
    "            target: data_targets[index * batch_size: (index + 1) * batch_size]\n",
    "        }\n",
    "    )\n",
    "    \n",
    "    return train_fun"
   ]
  },
  {
   "cell_type": "code",
   "execution_count": 22,
   "metadata": {
    "collapsed": true
   },
   "outputs": [],
   "source": [
    "# 一个批次batch实例数量\n",
    "batch_size = 32\n",
    "# 编译训练模型\n",
    "train_model = get_train_model([data_contexts, data_targets], [context, target], loss, params, batch_size)"
   ]
  },
  {
   "cell_type": "markdown",
   "metadata": {},
   "source": [
    "## 开始训练"
   ]
  },
  {
   "cell_type": "code",
   "execution_count": 23,
   "metadata": {
    "collapsed": true
   },
   "outputs": [],
   "source": [
    "# 一个周期epoch所需的批次batch数量\n",
    "n_train_batches = data_size // batch_size\n",
    "# 训练周期epcho数量\n",
    "n_epochs = 10\n",
    "# 所需的总迭代iteration次数\n",
    "n_iters = n_epochs * n_train_batches\n",
    "# 记录每次迭代iteration后的系统损失值\n",
    "train_loss = np.zeros(n_iters)\n",
    "# 一定迭代iteration次数后的系统平均损失值\n",
    "average_loss = 0"
   ]
  },
  {
   "cell_type": "code",
   "execution_count": 24,
   "metadata": {
    "collapsed": true
   },
   "outputs": [],
   "source": [
    "def save_params(outfile, params):\n",
    "    \"\"\"\n",
    "    保存模型参数\n",
    "    \"\"\"\n",
    "    l = []\n",
    "    for param in params:\n",
    "        l = l + [ param.get_value() ]\n",
    "    np.savez(outfile+\".npz\", *l, flush=True)\n",
    "    print(\"Saved model parameters to {}.npz\".format(outfile))"
   ]
  },
  {
   "cell_type": "code",
   "execution_count": 25,
   "metadata": {},
   "outputs": [
    {
     "name": "stdout",
     "output_type": "stream",
     "text": [
      "epoch  0 Average loss at iteration  0 :  8.88876632456\n",
      "Saved model parameters to model_i0.npz\n",
      "epoch  0 Average loss at iteration  2000 :  6.66397613981\n",
      "epoch  0 Average loss at iteration  4000 :  6.15077418158\n",
      "epoch  0 Average loss at iteration  6000 :  6.04812540631\n",
      "epoch  0 Average loss at iteration  8000 :  5.67822914481\n",
      "epoch  0 Average loss at iteration  10000 :  5.8783891267\n",
      "epoch  1 Average loss at iteration  12000 :  5.73932756927\n",
      "epoch  1 Average loss at iteration  14000 :  5.49625930611\n",
      "epoch  1 Average loss at iteration  16000 :  5.49060871426\n",
      "epoch  1 Average loss at iteration  18000 :  5.30582008819\n",
      "epoch  1 Average loss at iteration  20000 :  5.40950295226\n",
      "epoch  2 Average loss at iteration  22000 :  5.39641699863\n",
      "epoch  2 Average loss at iteration  24000 :  5.205812648\n",
      "epoch  2 Average loss at iteration  26000 :  5.21323857003\n",
      "epoch  2 Average loss at iteration  28000 :  5.16881682951\n",
      "epoch  2 Average loss at iteration  30000 :  5.0537747414\n",
      "epoch  2 Average loss at iteration  32000 :  5.13920919255\n",
      "epoch  3 Average loss at iteration  34000 :  5.15528042134\n",
      "epoch  3 Average loss at iteration  36000 :  4.98330156919\n",
      "epoch  3 Average loss at iteration  38000 :  4.97684738947\n",
      "epoch  3 Average loss at iteration  40000 :  4.8647438692\n",
      "epoch  3 Average loss at iteration  42000 :  4.9668693826\n",
      "epoch  4 Average loss at iteration  44000 :  4.9611812034\n",
      "epoch  4 Average loss at iteration  46000 :  4.80874940665\n",
      "epoch  4 Average loss at iteration  48000 :  4.83181364674\n",
      "epoch  4 Average loss at iteration  50000 :  4.80506708051\n",
      "epoch  4 Average loss at iteration  52000 :  4.70556935005\n",
      "epoch  4 Average loss at iteration  54000 :  4.79134992861\n",
      "epoch  5 Average loss at iteration  56000 :  4.82559055217\n",
      "epoch  5 Average loss at iteration  58000 :  4.65934657686\n",
      "epoch  5 Average loss at iteration  60000 :  4.67509014366\n",
      "epoch  5 Average loss at iteration  62000 :  4.56850964068\n",
      "epoch  5 Average loss at iteration  64000 :  4.65756216678\n",
      "epoch  6 Average loss at iteration  66000 :  4.67918223833\n",
      "epoch  6 Average loss at iteration  68000 :  4.55152758291\n",
      "epoch  6 Average loss at iteration  70000 :  4.55274633438\n",
      "epoch  6 Average loss at iteration  72000 :  4.5044594971\n",
      "epoch  6 Average loss at iteration  74000 :  4.46384836527\n",
      "epoch  6 Average loss at iteration  76000 :  4.54049396608\n",
      "epoch  7 Average loss at iteration  78000 :  4.57137717855\n",
      "epoch  7 Average loss at iteration  80000 :  4.42519235692\n",
      "epoch  7 Average loss at iteration  82000 :  4.43766379915\n",
      "epoch  7 Average loss at iteration  84000 :  4.3127393228\n",
      "epoch  7 Average loss at iteration  86000 :  4.4103579683\n",
      "epoch  8 Average loss at iteration  88000 :  4.46373393573\n",
      "epoch  8 Average loss at iteration  90000 :  4.35184154367\n",
      "epoch  8 Average loss at iteration  92000 :  4.33641244927\n",
      "epoch  8 Average loss at iteration  94000 :  4.28708004526\n",
      "epoch  8 Average loss at iteration  96000 :  4.25619990819\n",
      "epoch  8 Average loss at iteration  98000 :  4.30539280591\n",
      "epoch  9 Average loss at iteration  100000 :  4.34824225931\n",
      "Saved model parameters to model_i100000.npz\n",
      "epoch  9 Average loss at iteration  102000 :  4.23348241754\n",
      "epoch  9 Average loss at iteration  104000 :  4.2364422415\n",
      "epoch  9 Average loss at iteration  106000 :  4.11241392141\n",
      "epoch  9 Average loss at iteration  108000 :  4.19557523178\n"
     ]
    }
   ],
   "source": [
    "# 学习速率\n",
    "lr = 1.0\n",
    "# 遍历周期\n",
    "\n",
    "for epoch in range(n_epochs):\n",
    "    # 遍历批次\n",
    "    for minibatch_index in range(n_train_batches):\n",
    "        # 计算迭代序号\n",
    "        iteration = minibatch_index + n_train_batches * epoch\n",
    "        # 训练模型\n",
    "        curr_loss = train_model(minibatch_index, lr)\n",
    "        # 记录当前损失\n",
    "        train_loss[iteration] = curr_loss\n",
    "        # 累加损失\n",
    "        average_loss += curr_loss\n",
    "        \n",
    "        # 每2000次迭代\n",
    "        if iteration % 2000 == 0:\n",
    "            # 计算此时平均损失值\n",
    "            if iteration > 0:\n",
    "                average_loss /= 2000\n",
    "            # 输出2000次 iteration的平均损失\n",
    "            print(\"epoch \", epoch, \"Average loss at iteration \", iteration, \": \", average_loss, flush=True)\n",
    "            # 平均损失清0\n",
    "            average_loss = 0\n",
    "        \n",
    "        # 每100000次迭代 保存模型参数\n",
    "        if iteration % 100000 == 0:\n",
    "            save_params(\"model_i{}\".format(iteration), params)"
   ]
  }
 ],
 "metadata": {
  "kernelspec": {
   "display_name": "Python 3",
   "language": "python",
   "name": "python3"
  },
  "language_info": {
   "codemirror_mode": {
    "name": "ipython",
    "version": 3
   },
   "file_extension": ".py",
   "mimetype": "text/x-python",
   "name": "python",
   "nbconvert_exporter": "python",
   "pygments_lexer": "ipython3",
   "version": "3.4.3"
  }
 },
 "nbformat": 4,
 "nbformat_minor": 2
}
