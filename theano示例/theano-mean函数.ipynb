{
 "cells": [
  {
   "cell_type": "code",
   "execution_count": 1,
   "metadata": {
    "collapsed": true
   },
   "outputs": [],
   "source": [
    "import numpy as np"
   ]
  },
  {
   "cell_type": "code",
   "execution_count": 2,
   "metadata": {
    "collapsed": true
   },
   "outputs": [],
   "source": [
    "w_in_context = np.array([[[1,2,3,4],\n",
    "                          [5,6,7,8],\n",
    "                          [9,10,11,12]],\n",
    "                         [[13,15,15,16],\n",
    "                          [17,18,19,20],\n",
    "                          [21,22,23,24]],\n",
    "                         [[25,26,27,28],\n",
    "                          [29,30,31,32],\n",
    "                          [33,34,35,36]],\n",
    "                         [[37,38,39,40],\n",
    "                          [41,42,43,44],\n",
    "                          [45,46,47,48]],\n",
    "                         [[49,50,51,52],\n",
    "                          [53,54,55,56],\n",
    "                          [57,58,59,60]],\n",
    "                        ])"
   ]
  },
  {
   "cell_type": "code",
   "execution_count": 3,
   "metadata": {},
   "outputs": [
    {
     "data": {
      "text/plain": [
       "array([[[ 1,  2,  3,  4],\n",
       "        [ 5,  6,  7,  8],\n",
       "        [ 9, 10, 11, 12]],\n",
       "\n",
       "       [[13, 15, 15, 16],\n",
       "        [17, 18, 19, 20],\n",
       "        [21, 22, 23, 24]],\n",
       "\n",
       "       [[25, 26, 27, 28],\n",
       "        [29, 30, 31, 32],\n",
       "        [33, 34, 35, 36]],\n",
       "\n",
       "       [[37, 38, 39, 40],\n",
       "        [41, 42, 43, 44],\n",
       "        [45, 46, 47, 48]],\n",
       "\n",
       "       [[49, 50, 51, 52],\n",
       "        [53, 54, 55, 56],\n",
       "        [57, 58, 59, 60]]])"
      ]
     },
     "execution_count": 3,
     "metadata": {},
     "output_type": "execute_result"
    }
   ],
   "source": [
    "w_in_context"
   ]
  },
  {
   "cell_type": "code",
   "execution_count": 4,
   "metadata": {
    "collapsed": true
   },
   "outputs": [],
   "source": [
    "import theano\n",
    "import theano.tensor as T\n",
    "from IPython.display import SVG"
   ]
  },
  {
   "cell_type": "code",
   "execution_count": 5,
   "metadata": {},
   "outputs": [],
   "source": [
    "x_in = T.mean(w_in_context.astype(theano.config.floatX), axis=1)"
   ]
  },
  {
   "cell_type": "code",
   "execution_count": 6,
   "metadata": {},
   "outputs": [
    {
     "data": {
      "image/svg+xml": [
       "<svg height=\"559pt\" viewBox=\"0.00 0.00 572.99 559.00\" width=\"573pt\" xmlns=\"http://www.w3.org/2000/svg\" xmlns:xlink=\"http://www.w3.org/1999/xlink\">\n",
       "<g class=\"graph\" id=\"graph0\" transform=\"scale(1 1) rotate(0) translate(4 555)\">\n",
       "<title>G</title>\n",
       "<polygon fill=\"white\" points=\"-4,4 -4,-555 568.991,-555 568.991,4 -4,4\" stroke=\"none\"/>\n",
       "<!-- 105438736 -->\n",
       "<g class=\"node\" id=\"node1\"><title>105438736</title>\n",
       "<ellipse cx=\"218.991\" cy=\"-460\" fill=\"brown\" rx=\"33.2948\" ry=\"18\" stroke=\"black\"/>\n",
       "<text font-family=\"Times New Roman,serif\" font-size=\"14.00\" text-anchor=\"middle\" x=\"218.991\" y=\"-456.3\">Shape</text>\n",
       "</g>\n",
       "<!-- 105762944 -->\n",
       "<g class=\"node\" id=\"node3\"><title>105762944</title>\n",
       "<ellipse cx=\"103.991\" cy=\"-352\" fill=\"#ffaabb\" rx=\"103.982\" ry=\"18\" stroke=\"black\"/>\n",
       "<text font-family=\"Times New Roman,serif\" font-size=\"14.00\" text-anchor=\"middle\" x=\"103.991\" y=\"-348.3\">Elemwise{Cast{float64}}</text>\n",
       "</g>\n",
       "<!-- 105438736&#45;&gt;105762944 -->\n",
       "<g class=\"edge\" id=\"edge2\"><title>105438736-&gt;105762944</title>\n",
       "<path d=\"M185.738,-459.34C157.876,-457.633 119.601,-450.208 99.9908,-424 90.706,-411.591 91.4887,-394.28 94.6981,-379.858\" fill=\"none\" stroke=\"black\"/>\n",
       "<polygon fill=\"black\" points=\"98.1378,-380.544 97.3547,-369.978 91.3779,-378.726 98.1378,-380.544\" stroke=\"black\"/>\n",
       "<text font-family=\"Times New Roman,serif\" font-size=\"14.00\" text-anchor=\"middle\" x=\"173.991\" y=\"-402.3\">TensorType(int64, vector)</text>\n",
       "</g>\n",
       "<!-- 105438456 -->\n",
       "<g class=\"node\" id=\"node2\"><title>105438456</title>\n",
       "<polygon fill=\"green\" points=\"444.991,-551 158.991,-551 158.991,-515 444.991,-515 444.991,-551\" stroke=\"black\"/>\n",
       "<text font-family=\"Times New Roman,serif\" font-size=\"14.00\" text-anchor=\"middle\" x=\"301.991\" y=\"-529.3\">val=[[[  1.   2.   3.   4.] TensorType(float64, 3D)</text>\n",
       "</g>\n",
       "<!-- 105438456&#45;&gt;105438736 -->\n",
       "<g class=\"edge\" id=\"edge1\"><title>105438456-&gt;105438736</title>\n",
       "<path d=\"M281.899,-514.813C270.407,-504.982 255.899,-492.572 243.712,-482.147\" fill=\"none\" stroke=\"black\"/>\n",
       "<polygon fill=\"black\" points=\"245.968,-479.471 236.094,-475.631 241.418,-484.791 245.968,-479.471\" stroke=\"black\"/>\n",
       "</g>\n",
       "<!-- 105763896 -->\n",
       "<g class=\"node\" id=\"node7\"><title>105763896</title>\n",
       "<ellipse cx=\"395.991\" cy=\"-406\" fill=\"none\" rx=\"139.175\" ry=\"18\" stroke=\"black\"/>\n",
       "<text font-family=\"Times New Roman,serif\" font-size=\"14.00\" text-anchor=\"middle\" x=\"395.991\" y=\"-402.3\">Sum{axis=[1], acc_dtype=float64}</text>\n",
       "</g>\n",
       "<!-- 105438456&#45;&gt;105763896 -->\n",
       "<g class=\"edge\" id=\"edge6\"><title>105438456-&gt;105763896</title>\n",
       "<path d=\"M314.864,-514.881C330.876,-493.588 358.355,-457.048 376.841,-432.465\" fill=\"none\" stroke=\"black\"/>\n",
       "<polygon fill=\"black\" points=\"379.758,-434.409 382.971,-424.313 374.164,-430.202 379.758,-434.409\" stroke=\"black\"/>\n",
       "</g>\n",
       "<!-- 105763224 -->\n",
       "<g class=\"node\" id=\"node4\"><title>105763224</title>\n",
       "<ellipse cx=\"176.991\" cy=\"-265\" fill=\"#ffaaff\" rx=\"74.187\" ry=\"18\" stroke=\"black\"/>\n",
       "<text font-family=\"Times New Roman,serif\" font-size=\"14.00\" text-anchor=\"middle\" x=\"176.991\" y=\"-261.3\">Subtensor{int64}</text>\n",
       "</g>\n",
       "<!-- 105762944&#45;&gt;105763224 -->\n",
       "<g class=\"edge\" id=\"edge3\"><title>105762944-&gt;105763224</title>\n",
       "<path d=\"M100.12,-333.966C98.7415,-323.646 98.8144,-310.654 104.991,-301 109.309,-294.25 115.335,-288.765 122.079,-284.318\" fill=\"none\" stroke=\"blue\"/>\n",
       "<polygon fill=\"blue\" points=\"124.011,-287.244 130.932,-279.222 120.519,-281.177 124.011,-287.244\" stroke=\"blue\"/>\n",
       "<text font-family=\"Times New Roman,serif\" font-size=\"14.00\" text-anchor=\"middle\" x=\"189.991\" y=\"-304.8\">0 TensorType(float64, vector)</text>\n",
       "</g>\n",
       "<!-- 105763616 -->\n",
       "<g class=\"node\" id=\"node6\"><title>105763616</title>\n",
       "<ellipse cx=\"176.991\" cy=\"-178\" fill=\"none\" rx=\"98.2828\" ry=\"18\" stroke=\"black\"/>\n",
       "<text font-family=\"Times New Roman,serif\" font-size=\"14.00\" text-anchor=\"middle\" x=\"176.991\" y=\"-174.3\">InplaceDimShuffle{x,x}</text>\n",
       "</g>\n",
       "<!-- 105763224&#45;&gt;105763616 -->\n",
       "<g class=\"edge\" id=\"edge5\"><title>105763224-&gt;105763616</title>\n",
       "<path d=\"M176.991,-246.799C176.991,-235.163 176.991,-219.548 176.991,-206.237\" fill=\"none\" stroke=\"blue\"/>\n",
       "<polygon fill=\"blue\" points=\"180.491,-206.175 176.991,-196.175 173.491,-206.175 180.491,-206.175\" stroke=\"blue\"/>\n",
       "<text font-family=\"Times New Roman,serif\" font-size=\"14.00\" text-anchor=\"middle\" x=\"255.491\" y=\"-217.8\">TensorType(float64, scalar)</text>\n",
       "</g>\n",
       "<!-- 105438400 -->\n",
       "<g class=\"node\" id=\"node5\"><title>105438400</title>\n",
       "<polygon fill=\"green\" points=\"335.991,-370 257.991,-370 257.991,-334 335.991,-334 335.991,-370\" stroke=\"black\"/>\n",
       "<text font-family=\"Times New Roman,serif\" font-size=\"14.00\" text-anchor=\"middle\" x=\"296.991\" y=\"-348.3\">val=1 int64</text>\n",
       "</g>\n",
       "<!-- 105438400&#45;&gt;105763224 -->\n",
       "<g class=\"edge\" id=\"edge4\"><title>105438400-&gt;105763224</title>\n",
       "<path d=\"M293.101,-333.656C289.884,-322.953 284.292,-309.659 274.991,-301 265.6,-292.258 253.878,-285.673 241.841,-280.72\" fill=\"none\" stroke=\"black\"/>\n",
       "<polygon fill=\"black\" points=\"242.75,-277.323 232.158,-277.089 240.292,-283.877 242.75,-277.323\" stroke=\"black\"/>\n",
       "<text font-family=\"Times New Roman,serif\" font-size=\"14.00\" text-anchor=\"middle\" x=\"289.491\" y=\"-304.8\">1</text>\n",
       "</g>\n",
       "<!-- 105764176 -->\n",
       "<g class=\"node\" id=\"node8\"><title>105764176</title>\n",
       "<ellipse cx=\"285.991\" cy=\"-91\" fill=\"#ffaabb\" rx=\"125.378\" ry=\"18\" stroke=\"black\"/>\n",
       "<text font-family=\"Times New Roman,serif\" font-size=\"14.00\" text-anchor=\"middle\" x=\"285.991\" y=\"-87.3\">Elemwise{true_div,no_inplace}</text>\n",
       "</g>\n",
       "<!-- 105763616&#45;&gt;105764176 -->\n",
       "<g class=\"edge\" id=\"edge8\"><title>105763616-&gt;105764176</title>\n",
       "<path d=\"M172.658,-159.648C171.106,-149.207 171.158,-136.201 177.991,-127 183.227,-119.948 189.913,-114.291 197.385,-109.756\" fill=\"none\" stroke=\"black\"/>\n",
       "<polygon fill=\"black\" points=\"199.284,-112.711 206.478,-104.932 196.003,-106.527 199.284,-112.711\" stroke=\"black\"/>\n",
       "<text font-family=\"Times New Roman,serif\" font-size=\"14.00\" text-anchor=\"middle\" x=\"279.991\" y=\"-130.8\">1 TensorType(float64, (True, True))</text>\n",
       "</g>\n",
       "<!-- 105763896&#45;&gt;105764176 -->\n",
       "<g class=\"edge\" id=\"edge7\"><title>105763896-&gt;105764176</title>\n",
       "<path d=\"M395.991,-387.748C395.991,-368.622 395.991,-336.857 395.991,-309.5 395.991,-309.5 395.991,-309.5 395.991,-177 395.991,-153.923 397.672,-143.931 381.991,-127 375.948,-120.475 368.59,-115.164 360.664,-110.84\" fill=\"none\" stroke=\"black\"/>\n",
       "<polygon fill=\"black\" points=\"362.035,-107.615 351.514,-106.367 358.96,-113.904 362.035,-107.615\" stroke=\"black\"/>\n",
       "<text font-family=\"Times New Roman,serif\" font-size=\"14.00\" text-anchor=\"middle\" x=\"480.491\" y=\"-261.3\">0 TensorType(float64, matrix)</text>\n",
       "</g>\n",
       "<!-- 105764400 -->\n",
       "<g class=\"node\" id=\"node9\"><title>105764400</title>\n",
       "<polygon fill=\"blue\" points=\"408.491,-36 163.491,-36 163.491,-0 408.491,-0 408.491,-36\" stroke=\"black\"/>\n",
       "<text font-family=\"Times New Roman,serif\" font-size=\"14.00\" text-anchor=\"middle\" x=\"285.991\" y=\"-14.3\">name=mean TensorType(float64, matrix)</text>\n",
       "</g>\n",
       "<!-- 105764176&#45;&gt;105764400 -->\n",
       "<g class=\"edge\" id=\"edge9\"><title>105764176-&gt;105764400</title>\n",
       "<path d=\"M285.991,-72.8129C285.991,-64.7895 285.991,-55.0475 285.991,-46.0691\" fill=\"none\" stroke=\"black\"/>\n",
       "<polygon fill=\"black\" points=\"289.491,-46.0288 285.991,-36.0288 282.491,-46.0289 289.491,-46.0288\" stroke=\"black\"/>\n",
       "</g>\n",
       "</g>\n",
       "</svg>"
      ],
      "text/plain": [
       "<IPython.core.display.SVG object>"
      ]
     },
     "execution_count": 6,
     "metadata": {},
     "output_type": "execute_result"
    }
   ],
   "source": [
    "SVG(theano.printing.pydotprint(x_in, return_image=True, format='svg'))"
   ]
  },
  {
   "cell_type": "code",
   "execution_count": 7,
   "metadata": {},
   "outputs": [
    {
     "data": {
      "text/plain": [
       "array([[  5.        ,   6.        ,   7.        ,   8.        ],\n",
       "       [ 17.        ,  18.33333333,  19.        ,  20.        ],\n",
       "       [ 29.        ,  30.        ,  31.        ,  32.        ],\n",
       "       [ 41.        ,  42.        ,  43.        ,  44.        ],\n",
       "       [ 53.        ,  54.        ,  55.        ,  56.        ]])"
      ]
     },
     "execution_count": 7,
     "metadata": {},
     "output_type": "execute_result"
    }
   ],
   "source": [
    "x_in.eval()"
   ]
  }
 ],
 "metadata": {
  "kernelspec": {
   "display_name": "Python 3",
   "language": "python",
   "name": "python3"
  },
  "language_info": {
   "codemirror_mode": {
    "name": "ipython",
    "version": 3
   },
   "file_extension": ".py",
   "mimetype": "text/x-python",
   "name": "python",
   "nbconvert_exporter": "python",
   "pygments_lexer": "ipython3",
   "version": "3.4.3"
  }
 },
 "nbformat": 4,
 "nbformat_minor": 2
}
