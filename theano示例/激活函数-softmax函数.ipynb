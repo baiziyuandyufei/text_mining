{
 "cells": [
  {
   "cell_type": "code",
   "execution_count": 1,
   "metadata": {
    "collapsed": true
   },
   "outputs": [],
   "source": [
    "import numpy as np\n",
    "import theano.tensor as T\n",
    "import theano"
   ]
  },
  {
   "cell_type": "code",
   "execution_count": 2,
   "metadata": {
    "collapsed": true
   },
   "outputs": [],
   "source": [
    "a = np.array([[1,2,3],\n",
    "              [4,5,6],\n",
    "              [7,8,9],\n",
    "              [10,11,12],\n",
    "              [13,14,15]])"
   ]
  },
  {
   "cell_type": "code",
   "execution_count": 3,
   "metadata": {
    "collapsed": true
   },
   "outputs": [],
   "source": [
    "u = np.array(a, dtype=theano.config.floatX)"
   ]
  },
  {
   "cell_type": "code",
   "execution_count": 4,
   "metadata": {
    "collapsed": true
   },
   "outputs": [],
   "source": [
    "p_target_given_contex = T.nnet.softmax(u) "
   ]
  },
  {
   "cell_type": "code",
   "execution_count": 5,
   "metadata": {
    "collapsed": true
   },
   "outputs": [],
   "source": [
    "from IPython.display import SVG"
   ]
  },
  {
   "cell_type": "code",
   "execution_count": 6,
   "metadata": {},
   "outputs": [
    {
     "data": {
      "image/svg+xml": [
       "<svg height=\"188pt\" viewBox=\"0.00 0.00 286.00 188.00\" width=\"286pt\" xmlns=\"http://www.w3.org/2000/svg\" xmlns:xlink=\"http://www.w3.org/1999/xlink\">\n",
       "<g class=\"graph\" id=\"graph0\" transform=\"scale(1 1) rotate(0) translate(4 184)\">\n",
       "<title>G</title>\n",
       "<polygon fill=\"white\" points=\"-4,4 -4,-184 282,-184 282,4 -4,4\" stroke=\"none\"/>\n",
       "<!-- 103627968 -->\n",
       "<g class=\"node\" id=\"node1\"><title>103627968</title>\n",
       "<ellipse cx=\"139\" cy=\"-90\" fill=\"none\" rx=\"41.6928\" ry=\"18\" stroke=\"black\"/>\n",
       "<text font-family=\"Times New Roman,serif\" font-size=\"14.00\" text-anchor=\"middle\" x=\"139\" y=\"-86.3\">Softmax</text>\n",
       "</g>\n",
       "<!-- 103628304 -->\n",
       "<g class=\"node\" id=\"node3\"><title>103628304</title>\n",
       "<polygon fill=\"blue\" points=\"226.5,-36 51.5,-36 51.5,-0 226.5,-0 226.5,-36\" stroke=\"black\"/>\n",
       "<text font-family=\"Times New Roman,serif\" font-size=\"14.00\" text-anchor=\"middle\" x=\"139\" y=\"-14.3\">TensorType(float64, matrix)</text>\n",
       "</g>\n",
       "<!-- 103627968&#45;&gt;103628304 -->\n",
       "<g class=\"edge\" id=\"edge2\"><title>103627968-&gt;103628304</title>\n",
       "<path d=\"M139,-71.6966C139,-63.9827 139,-54.7125 139,-46.1124\" fill=\"none\" stroke=\"black\"/>\n",
       "<polygon fill=\"black\" points=\"142.5,-46.1043 139,-36.1043 135.5,-46.1044 142.5,-46.1043\" stroke=\"black\"/>\n",
       "</g>\n",
       "<!-- 103628024 -->\n",
       "<g class=\"node\" id=\"node2\"><title>103628024</title>\n",
       "<polygon fill=\"green\" points=\"278,-180 0,-180 0,-144 278,-144 278,-180\" stroke=\"black\"/>\n",
       "<text font-family=\"Times New Roman,serif\" font-size=\"14.00\" text-anchor=\"middle\" x=\"139\" y=\"-158.3\">val=[[  1.   2.   3.] TensorType(float64, matrix)</text>\n",
       "</g>\n",
       "<!-- 103628024&#45;&gt;103627968 -->\n",
       "<g class=\"edge\" id=\"edge1\"><title>103628024-&gt;103627968</title>\n",
       "<path d=\"M139,-143.697C139,-135.983 139,-126.712 139,-118.112\" fill=\"none\" stroke=\"black\"/>\n",
       "<polygon fill=\"black\" points=\"142.5,-118.104 139,-108.104 135.5,-118.104 142.5,-118.104\" stroke=\"black\"/>\n",
       "</g>\n",
       "</g>\n",
       "</svg>"
      ],
      "text/plain": [
       "<IPython.core.display.SVG object>"
      ]
     },
     "execution_count": 6,
     "metadata": {},
     "output_type": "execute_result"
    }
   ],
   "source": [
    "SVG(theano.printing.pydotprint(p_target_given_contex, return_image=True, format='svg'))"
   ]
  },
  {
   "cell_type": "code",
   "execution_count": 7,
   "metadata": {},
   "outputs": [
    {
     "data": {
      "text/plain": [
       "array([[ 0.09003057,  0.24472847,  0.66524096],\n",
       "       [ 0.09003057,  0.24472847,  0.66524096],\n",
       "       [ 0.09003057,  0.24472847,  0.66524096],\n",
       "       [ 0.09003057,  0.24472847,  0.66524096],\n",
       "       [ 0.09003057,  0.24472847,  0.66524096]])"
      ]
     },
     "execution_count": 7,
     "metadata": {},
     "output_type": "execute_result"
    }
   ],
   "source": [
    "p_target_given_contex.eval()"
   ]
  },
  {
   "cell_type": "code",
   "execution_count": 8,
   "metadata": {},
   "outputs": [
    {
     "data": {
      "text/plain": [
       "array([[ 1,  2,  3],\n",
       "       [ 4,  5,  6],\n",
       "       [ 7,  8,  9],\n",
       "       [10, 11, 12],\n",
       "       [13, 14, 15]])"
      ]
     },
     "execution_count": 8,
     "metadata": {},
     "output_type": "execute_result"
    }
   ],
   "source": [
    "a"
   ]
  },
  {
   "cell_type": "code",
   "execution_count": 9,
   "metadata": {},
   "outputs": [
    {
     "data": {
      "text/plain": [
       "array([[ 3],\n",
       "       [ 6],\n",
       "       [ 9],\n",
       "       [12],\n",
       "       [15]])"
      ]
     },
     "execution_count": 9,
     "metadata": {},
     "output_type": "execute_result"
    }
   ],
   "source": [
    "max = np.max(a,axis=1).reshape((a.shape[0],1))\n",
    "max"
   ]
  },
  {
   "cell_type": "code",
   "execution_count": 10,
   "metadata": {},
   "outputs": [
    {
     "data": {
      "text/plain": [
       "array([[-2, -1,  0],\n",
       "       [-2, -1,  0],\n",
       "       [-2, -1,  0],\n",
       "       [-2, -1,  0],\n",
       "       [-2, -1,  0]])"
      ]
     },
     "execution_count": 10,
     "metadata": {},
     "output_type": "execute_result"
    }
   ],
   "source": [
    "a-max"
   ]
  },
  {
   "cell_type": "code",
   "execution_count": 11,
   "metadata": {},
   "outputs": [
    {
     "data": {
      "text/plain": [
       "array([[ 0.13533528,  0.36787944,  1.        ],\n",
       "       [ 0.13533528,  0.36787944,  1.        ],\n",
       "       [ 0.13533528,  0.36787944,  1.        ],\n",
       "       [ 0.13533528,  0.36787944,  1.        ],\n",
       "       [ 0.13533528,  0.36787944,  1.        ]])"
      ]
     },
     "execution_count": 11,
     "metadata": {},
     "output_type": "execute_result"
    }
   ],
   "source": [
    "e_x = np.exp(a-max)\n",
    "e_x"
   ]
  },
  {
   "cell_type": "code",
   "execution_count": 12,
   "metadata": {},
   "outputs": [
    {
     "data": {
      "text/plain": [
       "array([[ 1.50321472],\n",
       "       [ 1.50321472],\n",
       "       [ 1.50321472],\n",
       "       [ 1.50321472],\n",
       "       [ 1.50321472]])"
      ]
     },
     "execution_count": 12,
     "metadata": {},
     "output_type": "execute_result"
    }
   ],
   "source": [
    "sum = np.sum(e_x, axis=1).reshape((a.shape[0],1))\n",
    "sum"
   ]
  },
  {
   "cell_type": "code",
   "execution_count": 13,
   "metadata": {},
   "outputs": [
    {
     "data": {
      "text/plain": [
       "array([[ 0.09003057,  0.24472847,  0.66524096],\n",
       "       [ 0.09003057,  0.24472847,  0.66524096],\n",
       "       [ 0.09003057,  0.24472847,  0.66524096],\n",
       "       [ 0.09003057,  0.24472847,  0.66524096],\n",
       "       [ 0.09003057,  0.24472847,  0.66524096]])"
      ]
     },
     "execution_count": 13,
     "metadata": {},
     "output_type": "execute_result"
    }
   ],
   "source": [
    "e_x/sum"
   ]
  }
 ],
 "metadata": {
  "kernelspec": {
   "display_name": "Python 3",
   "language": "python",
   "name": "python3"
  },
  "language_info": {
   "codemirror_mode": {
    "name": "ipython",
    "version": 3
   },
   "file_extension": ".py",
   "mimetype": "text/x-python",
   "name": "python",
   "nbconvert_exporter": "python",
   "pygments_lexer": "ipython3",
   "version": "3.4.3"
  }
 },
 "nbformat": 4,
 "nbformat_minor": 2
}
