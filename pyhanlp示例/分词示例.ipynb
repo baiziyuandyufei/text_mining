{
 "cells": [
  {
   "cell_type": "code",
   "execution_count": 1,
   "metadata": {},
   "outputs": [],
   "source": [
    "texts = ['薄冰小学英语语法（最新修订版） 10000多名读者热评！', \n",
    "         '初中英语语法专练（第4版）', \n",
    "         '大学英语四六级晨读经典365 （第4版） 春日激情篇',\n",
    "         '2019年秋季 黄冈小状元·作业本 二年级数学（上）R人教版', \n",
    "         '五三 数学 高中知识清单 高中必备工具书 第7次修订（全彩版）2020版 曲一线科学备考', \n",
    "         '2020考研数学一张宇高数18讲+线代9讲+概率论9讲+数学一1000题(5册) 张宇36讲', \n",
    "         'C程序设计语言（原书第2版·新版 典藏版）', \n",
    "         'Python编程 从入门到实践', \n",
    "         'Java项目开发实战入门', \n",
    "]"
   ]
  },
  {
   "cell_type": "code",
   "execution_count": 2,
   "metadata": {},
   "outputs": [],
   "source": [
    "from pyhanlp import *\n",
    "NLPTokenizer = JClass(\"com.hankcs.hanlp.tokenizer.NLPTokenizer\")"
   ]
  },
  {
   "cell_type": "code",
   "execution_count": 3,
   "metadata": {},
   "outputs": [
    {
     "name": "stdout",
     "output_type": "stream",
     "text": [
      "薄冰 小学 英语语法 （ 最新 修订版） 10000 多 名 读者 热 评 ！\n",
      "初中英语 语法 专 练 （ 第 4 版 ）\n",
      "大学 英语 四 六 级 晨读 经典 365 （第4版） 春日 激情 篇\n",
      "2019年 秋季 黄冈小状元 · 作业本 二年级 数学 （ 上 ） R人教版\n",
      "五三 数学 高中 知识 清单 高中 必备 工具书 第7次 修订 （ 全彩版 ） 2020版 曲一线 科学 备考\n",
      "2020 考研 数学 一 张宇 高 数 18 讲 + 线 代 9 讲 + 概率论 9 讲 + 数学 一 1000 题 ( 5册) 张宇 36 讲\n",
      "C程序设计 语言 （ 原 书 第2 版 · 新版 典藏版 ）\n",
      "Python 编程 从入门 到 实践\n",
      "Java 项目 开发 实战 入门\n"
     ]
    }
   ],
   "source": [
    "texts_seg = [[w.word for w in NLPTokenizer.segment(sen)] for sen in texts]\n",
    "for text_seg in texts_seg:\n",
    "    print(u' '.join(text_seg))"
   ]
  }
 ],
 "metadata": {
  "kernelspec": {
   "display_name": "Python 3",
   "language": "python",
   "name": "python3"
  },
  "language_info": {
   "codemirror_mode": {
    "name": "ipython",
    "version": 3
   },
   "file_extension": ".py",
   "mimetype": "text/x-python",
   "name": "python",
   "nbconvert_exporter": "python",
   "pygments_lexer": "ipython3",
   "version": "3.7.0"
  }
 },
 "nbformat": 4,
 "nbformat_minor": 2
}
