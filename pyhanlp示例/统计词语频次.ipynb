{
 "cells": [
  {
   "cell_type": "code",
   "execution_count": 1,
   "metadata": {},
   "outputs": [],
   "source": [
    "texts = ['薄冰 小学 英语语法 （ 最新 修订版） 10000 多 名 读者 热 评 ！', \n",
    "         '初中英语 语法 专 练 （ 第 4 版 ）', \n",
    "         '大学 英语 四 六 级 晨读 经典 365 （第4版） 春日 激情 篇', \n",
    "         '2019年 秋季 黄冈小状元 · 作业本 二年级 数学 （ 上 ） R人教版', \n",
    "         '五三 数学 高中 知识 清单 高中 必备 工具书 第7次 修订 （ 全彩版 ） 2020版 曲一线 科学 备考', \n",
    "         '2020 考研 数学 一 张宇 高 数 18 讲 + 线 代 9 讲 + 概率论 9 讲 + 数学 一 1000 题 ( 5册) 张宇 36 讲', \n",
    "         'C程序设计 语言 （ 原 书 第2 版 · 新版 典藏版 ）', \n",
    "         'Python 编程 从入门 到 实践', \n",
    "         'Java 项目 开发 实战 入门]']"
   ]
  },
  {
   "cell_type": "code",
   "execution_count": 7,
   "metadata": {},
   "outputs": [],
   "source": [
    "from sklearn.feature_extraction.text import TfidfVectorizer\n",
    "tf_idf_vector = TfidfVectorizer()"
   ]
  },
  {
   "cell_type": "code",
   "execution_count": 14,
   "metadata": {},
   "outputs": [
    {
     "name": "stdout",
     "output_type": "stream",
     "text": [
      "薄冰\t小学\t英语语法\t最新\t修订版\t10000\t读者\t初中英语\t语法\t大学\t英语\t晨读\t经典\t365\t第4版\t春日\t激情\t2019年\t秋季\t黄冈小状元\t作业本\t二年级\t数学\tr人教版\t五三\t高中\t知识\t清单\t必备\t工具书\t第7次\t修订\t全彩版\t2020版\t曲一线\t科学\t备考\t2020\t考研\t张宇\t18\t概率论\t1000\t5册\t36\tc程序设计\t语言\t第2\t新版\t典藏版\tpython\t编程\t从入门\t实践\tjava\t项目\t开发\t实战\t入门\n"
     ]
    }
   ],
   "source": [
    "tf_idf_vector.fit(texts)\n",
    "print(u'\\t'.join(tf_idf_vector.vocabulary_.keys()))"
   ]
  }
 ],
 "metadata": {
  "kernelspec": {
   "display_name": "Python 3",
   "language": "python",
   "name": "python3"
  },
  "language_info": {
   "codemirror_mode": {
    "name": "ipython",
    "version": 3
   },
   "file_extension": ".py",
   "mimetype": "text/x-python",
   "name": "python",
   "nbconvert_exporter": "python",
   "pygments_lexer": "ipython3",
   "version": "3.7.0"
  }
 },
 "nbformat": 4,
 "nbformat_minor": 2
}
