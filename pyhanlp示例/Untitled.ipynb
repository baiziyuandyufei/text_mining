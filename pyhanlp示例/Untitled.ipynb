{
 "cells": [
  {
   "cell_type": "code",
   "execution_count": 1,
   "metadata": {},
   "outputs": [],
   "source": [
    "# 加载实词分词器\n",
    "from pyhanlp import *\n",
    "Term = JClass(\"com.hankcs.hanlp.seg.common.Term\")\n",
    "NotionalTokenizer = JClass(\"com.hankcs.hanlp.tokenizer.NotionalTokenizer\")"
   ]
  },
  {
   "cell_type": "code",
   "execution_count": 2,
   "metadata": {},
   "outputs": [],
   "source": [
    "# 通用预处理（训练语料和预测语料通用）\n",
    "def preprocess(text):\n",
    "    # 全部字母转小写\n",
    "    text =text.lower()\n",
    "    word_li = []\n",
    "    #  NotionalTokenizer.segment中有去除停用词的操作\n",
    "    for term in NotionalTokenizer.segment(text):\n",
    "        word = str(term.word)\n",
    "        pos = str(term.nature)\n",
    "        # 去掉时间词\n",
    "        if pos == u't':\n",
    "            continue\n",
    "        # 取掉单字词（这样的词的出现有可能是因为分词系统未登录词导致的）\n",
    "        if len(word) == 1:\n",
    "            continue\n",
    "        word_li.append(word)\n",
    "    return word_li"
   ]
  },
  {
   "cell_type": "code",
   "execution_count": 3,
   "metadata": {},
   "outputs": [
    {
     "name": "stdout",
     "output_type": "stream",
     "text": [
      "['增长', '吉利汽车', '汽车销量', '数据', '帝豪', '势头', '强劲', '全线', '飙升']\n",
      "['我国', '汽车', '产销', '增速', '有所', '提升']\n",
      "['销量', '出炉', '沃尔沃', '全球', '销量', '得益于', '中国', '市场', '增长']\n",
      "['销量', '环比', '下降', '比亚迪', '转型']\n",
      "['新能源', '汽车销量', '同比', '增长']\n",
      "['新能源', '汽车销量', '同比', '增长']\n",
      "['比亚迪', '销量', '同比', '增长', '新能源', '销量', '翻番']\n",
      "['二手车', '销售', '报告', '销量', '出现', '波动', '国产车', '交易量', '走高']\n",
      "['送来', '惊喜', '产销', '增长', '两位数', '中国', '汽车']\n"
     ]
    }
   ],
   "source": [
    "# 测试去掉时间词\n",
    "text_li = [u'「增长」吉利汽车4月汽车销量数据 新帝豪、博越势头强劲全线飙升',\n",
    "           u'1至4月我国汽车产销增速有所提升',\n",
    "           u'4月销量出炉，沃尔沃全球销量大涨得益于中国市场的增长',\n",
    "           u'4月销量环比下降了13.4%，比亚迪难掩转型之难！',\n",
    "           u'4月新能源汽车销量 同比增长138.4%',\n",
    "           u'4月新能源汽车销量同比增长138.4%',\n",
    "           u'比亚迪4月销量同比增长20% 新能源车销量翻番',\n",
    "           u'车置宝4月二手车销售报告：美系车销量出现波动 国产车交易量走高',\n",
    "           u'中汽协送来小惊喜，4月产销增长都是两位数！｜中国汽车报']\n",
    "for text in text_li:\n",
    "    print(preprocess(text))"
   ]
  }
 ],
 "metadata": {
  "kernelspec": {
   "display_name": "Python 3",
   "language": "python",
   "name": "python3"
  },
  "language_info": {
   "codemirror_mode": {
    "name": "ipython",
    "version": 3
   },
   "file_extension": ".py",
   "mimetype": "text/x-python",
   "name": "python",
   "nbconvert_exporter": "python",
   "pygments_lexer": "ipython3",
   "version": "3.7.0"
  }
 },
 "nbformat": 4,
 "nbformat_minor": 2
}
