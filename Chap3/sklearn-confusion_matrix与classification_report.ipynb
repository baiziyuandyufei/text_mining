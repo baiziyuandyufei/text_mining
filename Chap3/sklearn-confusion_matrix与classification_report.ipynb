{
 "cells": [
  {
   "cell_type": "markdown",
   "metadata": {},
   "source": [
    "# confusion_matrix"
   ]
  },
  {
   "cell_type": "code",
   "execution_count": 1,
   "metadata": {
    "collapsed": true
   },
   "outputs": [],
   "source": [
    "from sklearn.metrics import confusion_matrix"
   ]
  },
  {
   "cell_type": "code",
   "execution_count": 2,
   "metadata": {
    "collapsed": false
   },
   "outputs": [],
   "source": [
    "y_true = [-1, 0, 1, 1, -1]\n",
    "y_pred = [-1, -1, 1, 0, -1]"
   ]
  },
  {
   "cell_type": "code",
   "execution_count": 3,
   "metadata": {
    "collapsed": false
   },
   "outputs": [
    {
     "data": {
      "text/plain": [
       "array([[2, 0, 0],\n",
       "       [1, 0, 0],\n",
       "       [0, 1, 1]])"
      ]
     },
     "execution_count": 3,
     "metadata": {},
     "output_type": "execute_result"
    }
   ],
   "source": [
    "confusion_matrix(y_true, y_pred)"
   ]
  },
  {
   "cell_type": "markdown",
   "metadata": {},
   "source": [
    "列号表示预测类别号，行号表示实际类别号。主对角线上的元素表示各个类别的tp值，去掉某一主对角线元素后对其所在列求和表示该对角线元素对应类别的fp值，对其所在行求和表示对应类别的fn值。混淆矩阵中行以及列对应的类别整数依次是实际值去重后排序后对应的类别整数值，因此第0行对应的实际类别是-1，第1行对应的实际类别是0，第2行对应的实际类别是1，第0列对应的预测类别是-1，第1列对应的预测类别是0，第2列对应的预测类别是1。主对角线元素的和表示预测类别和实际类别一致的总实例数量，该值表示微平均计算公式中的分子值，矩阵中所有元素的和表示微平均计算公式的分母值。"
   ]
  },
  {
   "cell_type": "markdown",
   "metadata": {},
   "source": [
    "# classification_report"
   ]
  },
  {
   "cell_type": "code",
   "execution_count": 4,
   "metadata": {
    "collapsed": false
   },
   "outputs": [],
   "source": [
    "from sklearn.metrics import classification_report"
   ]
  },
  {
   "cell_type": "code",
   "execution_count": 5,
   "metadata": {
    "collapsed": false
   },
   "outputs": [
    {
     "name": "stdout",
     "output_type": "stream",
     "text": [
      "              precision    recall  f1-score   support\n",
      "\n",
      "     class-0       0.67      1.00      0.80         2\n",
      "     class-1       0.00      0.00      0.00         1\n",
      "     class-2       1.00      0.50      0.67         2\n",
      "\n",
      "   micro avg       0.60      0.60      0.60         5\n",
      "   macro avg       0.56      0.50      0.49         5\n",
      "weighted avg       0.67      0.60      0.59         5\n",
      "\n"
     ]
    }
   ],
   "source": [
    "print(classification_report(y_true=y_true, y_pred=y_pred, target_names=['class-0', 'class-1', 'class-2']))"
   ]
  },
  {
   "cell_type": "markdown",
   "metadata": {},
   "source": [
    "对于class-0来说，tp=2, fp=1, fn=0, p=2/(2+1)=0.67, r=2/(2+0)=1, f=(2*0.67*1)/(0.67+1)=0.8\n",
    "对于class-1来说，tp=0, fp=1, fn=1, p=0(0+1)=0, r=0/(0+1)=0, f=0\n",
    "对于class-2来说，tp=1, fp=0, fn=1, p=1/(1+0)=1, r=1/(1+1)=0.5, f=(2*0.5*1)/(1+0.5)=0.67\n",
    "macro_avg为各列平均值 (0.67+0+1)/3=0.56,...\n",
    "micro_avg为 (2+1)/(2+1+1+1)=0.6"
   ]
  }
 ],
 "metadata": {
  "anaconda-cloud": {},
  "kernelspec": {
   "display_name": "Python [default]",
   "language": "python",
   "name": "python3"
  },
  "language_info": {
   "codemirror_mode": {
    "name": "ipython",
    "version": 3
   },
   "file_extension": ".py",
   "mimetype": "text/x-python",
   "name": "python",
   "nbconvert_exporter": "python",
   "pygments_lexer": "ipython3",
   "version": "3.5.2"
  }
 },
 "nbformat": 4,
 "nbformat_minor": 1
}
