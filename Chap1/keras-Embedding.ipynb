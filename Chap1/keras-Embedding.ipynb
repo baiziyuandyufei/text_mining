{
 "cells": [
  {
   "cell_type": "markdown",
   "metadata": {},
   "source": [
    "# Embedding层文本集向量化"
   ]
  },
  {
   "cell_type": "markdown",
   "metadata": {},
   "source": [
    "## 1. 将文本集变换为词索引向量矩阵"
   ]
  },
  {
   "cell_type": "markdown",
   "metadata": {},
   "source": [
    "### 1.1 定义文本集"
   ]
  },
  {
   "cell_type": "code",
   "execution_count": 1,
   "metadata": {
    "collapsed": true
   },
   "outputs": [],
   "source": [
    "# 定义文档集\n",
    "documents = ['Well done!',\n",
    "             'Good work',\n",
    "             'Great effort',\n",
    "             'nice work',\n",
    "             'Excetllent!',\n",
    "             'Weak',\n",
    "             'Poor effort!',\n",
    "             'not good',\n",
    "             'poor work',\n",
    "             'Could have done better.']"
   ]
  },
  {
   "cell_type": "markdown",
   "metadata": {},
   "source": [
    "### 1.2 文本集词索引向量化"
   ]
  },
  {
   "cell_type": "code",
   "execution_count": 2,
   "metadata": {
    "collapsed": false
   },
   "outputs": [
    {
     "name": "stderr",
     "output_type": "stream",
     "text": [
      "Using TensorFlow backend.\n"
     ]
    },
    {
     "name": "stdout",
     "output_type": "stream",
     "text": [
      "文本集\n",
      " [[6, 2], [3, 1], [7, 4], [8, 1], [9], [10], [5, 4], [11, 3], [5, 1], [12, 13, 2, 14]]\n"
     ]
    }
   ],
   "source": [
    "from keras.preprocessing.text import Tokenizer\n",
    "# 实例化Tokenizer对象\n",
    "tokenizer = Tokenizer()\n",
    "# 构建词汇表\n",
    "tokenizer.fit_on_texts(documents)\n",
    "# 向量化文本集\n",
    "encodeDocuments = tokenizer.texts_to_sequences(documents)\n",
    "# 输出文本集向量\n",
    "print(\"文本集\\n\", encodeDocuments)"
   ]
  },
  {
   "cell_type": "code",
   "execution_count": 3,
   "metadata": {
    "collapsed": false
   },
   "outputs": [
    {
     "name": "stdout",
     "output_type": "stream",
     "text": [
      "文本集\n",
      " [[ 6  2  0  0]\n",
      " [ 3  1  0  0]\n",
      " [ 7  4  0  0]\n",
      " [ 8  1  0  0]\n",
      " [ 9  0  0  0]\n",
      " [10  0  0  0]\n",
      " [ 5  4  0  0]\n",
      " [11  3  0  0]\n",
      " [ 5  1  0  0]\n",
      " [12 13  2 14]]\n"
     ]
    }
   ],
   "source": [
    "# 固定句子长度为4个单词\n",
    "from keras.preprocessing.sequence import pad_sequences\n",
    "max_length = 4\n",
    "paddedDocuments = pad_sequences(encodeDocuments, maxlen=max_length, padding='post')\n",
    "print(\"文本集\\n\", paddedDocuments)"
   ]
  },
  {
   "cell_type": "markdown",
   "metadata": {},
   "source": [
    "## 2. 设计嵌入层"
   ]
  },
  {
   "cell_type": "code",
   "execution_count": 4,
   "metadata": {
    "collapsed": true
   },
   "outputs": [],
   "source": [
    "from keras.models import Sequential\n",
    "from keras.layers.embeddings import Embedding"
   ]
  },
  {
   "cell_type": "code",
   "execution_count": 5,
   "metadata": {
    "collapsed": false
   },
   "outputs": [
    {
     "name": "stdout",
     "output_type": "stream",
     "text": [
      "WARNING:tensorflow:From /Users/yufei/anaconda3/envs/py36/lib/python3.6/site-packages/Keras-2.2.5-py3.6.egg/keras/backend/tensorflow_backend.py:67: The name tf.get_default_graph is deprecated. Please use tf.compat.v1.get_default_graph instead.\n",
      "\n",
      "Model: \"sequential_1\"\n",
      "_________________________________________________________________\n",
      "Layer (type)                 Output Shape              Param #   \n",
      "=================================================================\n",
      "embedding_1 (Embedding)      (None, 4, 8)              112       \n",
      "=================================================================\n",
      "Total params: 112\n",
      "Trainable params: 112\n",
      "Non-trainable params: 0\n",
      "_________________________________________________________________\n"
     ]
    }
   ],
   "source": [
    "model = Sequential()\n",
    "model.add(Embedding(input_dim=len(tokenizer.word_index),  # 输入的文本集构建的词索引的最大值，也就是嵌入层参数矩阵的行数\n",
    "                    output_dim=8,  # 输出时每个词语的维度，这个值就是嵌入层参数矩阵的列数\n",
    "                    input_length=max_length, # 输入时一篇文本的单词数，也就是词索引矩阵的列数\n",
    "                    trainable=True))  # 由于这里嵌入层参数矩阵没有使用词嵌入模型，因此嵌入层参数也就是每个词的词向量需要模型进行训练。\n",
    "model.summary()"
   ]
  },
  {
   "cell_type": "code",
   "execution_count": 6,
   "metadata": {
    "collapsed": false
   },
   "outputs": [
    {
     "name": "stdout",
     "output_type": "stream",
     "text": [
      "1篇文本所含的词语数量:  4\n",
      "One-Hot表示1个词所需的维度:  14\n",
      "词汇表长度:  14\n"
     ]
    }
   ],
   "source": [
    "print(\"1篇文本所含的词语数量: \", model.get_layer('embedding_1').input_length)\n",
    "print(\"One-Hot表示1个词所需的维度: \", model.get_layer('embedding_1').input_dim)\n",
    "print(\"词汇表长度: \", len(tokenizer.word_index))"
   ]
  }
 ],
 "metadata": {
  "anaconda-cloud": {},
  "kernelspec": {
   "display_name": "Python [conda env:py36]",
   "language": "python",
   "name": "conda-env-py36-py"
  },
  "language_info": {
   "codemirror_mode": {
    "name": "ipython",
    "version": 3
   },
   "file_extension": ".py",
   "mimetype": "text/x-python",
   "name": "python",
   "nbconvert_exporter": "python",
   "pygments_lexer": "ipython3",
   "version": "3.6.2"
  }
 },
 "nbformat": 4,
 "nbformat_minor": 1
}
