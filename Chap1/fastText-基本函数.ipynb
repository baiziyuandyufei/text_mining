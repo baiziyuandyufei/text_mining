{
 "cells": [
  {
   "cell_type": "markdown",
   "metadata": {},
   "source": [
    "# fasttext基本函数"
   ]
  },
  {
   "cell_type": "markdown",
   "metadata": {},
   "source": [
    "## 1.1 加载fasttext词语向量并打印fasttext模型的帮助文件"
   ]
  },
  {
   "cell_type": "markdown",
   "metadata": {},
   "source": [
    "fasttext使用C++写的，官网提供了Python的接口https://github.com/facebookresearch/fastText/tree/master/python 。还有一个使用 fastText的Python库叫做pyfasttext,但是它已经不再维护了https://github.com/vrasneur/pyfasttext 。"
   ]
  },
  {
   "cell_type": "code",
   "execution_count": 1,
   "metadata": {},
   "outputs": [],
   "source": [
    "from fastText import load_model\n",
    "fasttext_model = load_model(r'../data/zhwik9_50d.bin')"
   ]
  },
  {
   "cell_type": "markdown",
   "metadata": {},
   "source": [
    "## 1.2 fasttext模型基本方法演示"
   ]
  },
  {
   "cell_type": "code",
   "execution_count": 2,
   "metadata": {},
   "outputs": [
    {
     "name": "stdout",
     "output_type": "stream",
     "text": [
      "词汇表长度= 388539\n",
      "词汇表前100个词\n",
      " ['</s>', '，', '的', '。', '*', '年', '、', '|', '（', '）', '=', '==', '在', \"'''\", '是', ':', '：', '日', '為', '.', '-', '一', '和', '(', ')', '===', '有', '》', '《', '國', '人', '中', '||', '了', '/', '於', '大', '會', '後', '「', '」', '學', '時', '與', '之', '被', '1', '上', '以', '2', '也', '而', '他', '第', '及', '“', '”', '不', '個', '由', ',', '軍', '为', '地', '·', '**', '等', '三', '來', '區', '發', '；', '其', '3', '站', '到', '但', '長', '成', '香港', '戰', '名', '對', '灣', '多', '台', '所', '動', '#', '內', '至', '位', '並', '家', '用', '生', '或', '業', '員', '美']\n",
      "词语向量维度= 50\n",
      "\"是\"字在词汇表中以及词语向量矩阵中的索引id 14\n",
      "词语\"是\"的向量长度= 22.646149\n",
      "比较两种获取词语\"是\"向量的方法是否一致? False\n"
     ]
    }
   ],
   "source": [
    "# 获取词汇表\n",
    "words = fasttext_model.get_words()\n",
    "# 打印词汇表长度\n",
    "print(\"词汇表长度=\", len(words))\n",
    "# 打印词汇表前100个词\n",
    "print(\"词汇表前100个词\\n\", words[:100])\n",
    "# 打印词语向量的维度\n",
    "print(\"词语向量维度=\",fasttext_model.get_dimension())\n",
    "# 获取“是”字在词汇表中以及词语向量矩阵中的索引id\n",
    "print('\"是\"字在词汇表中以及词语向量矩阵中的索引id', fasttext_model.get_word_id(\"是\"))\n",
    "# 通过id获取词语\"是\"向量\n",
    "vec_by_id = fasttext_model.get_input_vector(5)\n",
    "# 打印向量长度\n",
    "import numpy as np\n",
    "print('词语\"是\"的向量长度=', np.linalg.norm(vec_by_id))\n",
    "# fasttext向量库中的词语向量不是单位向量，如果使用余弦相似度查找最相似的词，则需要事先对词语向量进行归一化处理\n",
    "# 通过词语获取词语“是”的词语向量\n",
    "vec_by_word = fasttext_model.get_word_vector(\"是\")\n",
    "print('比较两种获取词语\"是\"向量的方法是否一致?', np.linalg.norm(vec_by_id) == np.linalg.norm(vec_by_word))"
   ]
  },
  {
   "cell_type": "markdown",
   "metadata": {},
   "source": [
    "# 2. 计算与\"直升机\"最相似的词语列表"
   ]
  },
  {
   "cell_type": "markdown",
   "metadata": {},
   "source": [
    "## 2.1 首先对fasttext词语向量矩阵的每个词向量（行向量）归一化"
   ]
  },
  {
   "cell_type": "code",
   "execution_count": 3,
   "metadata": {},
   "outputs": [
    {
     "name": "stdout",
     "output_type": "stream",
     "text": [
      "input_vec与model_vec一致吗? False\n",
      "0.9999999\n"
     ]
    }
   ],
   "source": [
    "# 获取整个fasttext向量矩阵\n",
    "fasttext_vec = fasttext_model.get_input_matrix()[:len(fasttext_model.get_words())]\n",
    "# 验证读取处的向量矩阵是否正确\n",
    "input_vec = fasttext_vec[fasttext_model.get_word_id(\"的\")]\n",
    "model_vec = fasttext_model.get_word_vector(\"的\")\n",
    "print(\"input_vec与model_vec一致吗?\", np.linalg.norm(input_vec) == np.linalg.norm(model_vec))\n",
    "# 对fasttext向量矩阵的每个词向量（行向量）归一化\n",
    "fasttext_vec = (fasttext_vec.T/np.linalg.norm(fasttext_vec,axis=1)).T\n",
    "# 获取“的”的词语向量\n",
    "word_vec = fasttext_vec[fasttext_model.get_word_id(\"的\")]\n",
    "# 输出“的”的向量长度\n",
    "print(np.linalg.norm(word_vec))"
   ]
  },
  {
   "cell_type": "markdown",
   "metadata": {},
   "source": [
    "## 2.2 检索与\"直升机\"相关的词"
   ]
  },
  {
   "cell_type": "code",
   "execution_count": 4,
   "metadata": {},
   "outputs": [
    {
     "name": "stdout",
     "output_type": "stream",
     "text": [
      "[('直升机', 1.0), ('运输机', 0.8783453), ('飞机', 0.8404097), ('轰炸机', 0.83333534), ('侦察机', 0.8327074), ('预警机', 0.8304924), ('水上飞机', 0.8284873), ('歼击机', 0.82263386), ('战机', 0.8117472), ('战斗机', 0.8116504)]\n",
      "[('运输机', 0.8783453), ('飞机', 0.8404097), ('轰炸机', 0.83333534), ('侦察机', 0.8327074), ('预警机', 0.8304924), ('水上飞机', 0.8284873), ('歼击机', 0.82263386), ('战机', 0.8117472), ('战斗机', 0.8116504), ('舰载机', 0.79990345)]\n"
     ]
    }
   ],
   "source": [
    "# 获取直升机的向量\n",
    "word_vec = fasttext_vec[fasttext_model.get_word_id(\"直升机\")]\n",
    "# 计算直升机向量与库中每个词的相似度\n",
    "sim_vec = np.dot(word_vec, fasttext_vec.T)\n",
    "# 按相似度排序词语\n",
    "sorted_sim_vec = sorted(zip(fasttext_model.get_words(), sim_vec), key=lambda x:x[1], reverse=True)\n",
    "# 获取与直升机最相似的top10词语列表，\n",
    "print(sorted_sim_vec[:10])\n",
    "# 把词语直升机自己去除掉\n",
    "print(sorted_sim_vec[1:10+1])"
   ]
  }
 ],
 "metadata": {
  "anaconda-cloud": {},
  "kernelspec": {
   "display_name": "Python 3",
   "language": "python",
   "name": "python3"
  },
  "language_info": {
   "codemirror_mode": {
    "name": "ipython",
    "version": 3
   },
   "file_extension": ".py",
   "mimetype": "text/x-python",
   "name": "python",
   "nbconvert_exporter": "python",
   "pygments_lexer": "ipython3",
   "version": "3.4.3"
  }
 },
 "nbformat": 4,
 "nbformat_minor": 2
}
