{
 "cells": [
  {
   "cell_type": "markdown",
   "metadata": {},
   "source": [
    "# fasttext基本函数"
   ]
  },
  {
   "cell_type": "markdown",
   "metadata": {},
   "source": [
    "## 1.1 加载fasttext词语向量并打印fasttext模型的帮助文件"
   ]
  },
  {
   "cell_type": "markdown",
   "metadata": {},
   "source": [
    "fasttext使用C++写的，官网提供了Python的接口https://github.com/facebookresearch/fastText/tree/master/python 。还有一个使用 fastText的Python库叫做pyfasttext,但是它已经不再维护了https://github.com/vrasneur/pyfasttext 。"
   ]
  },
  {
   "cell_type": "code",
   "execution_count": 1,
   "metadata": {},
   "outputs": [
    {
     "name": "stderr",
     "output_type": "stream",
     "text": [
      "Warning : `load_model` does not return WordVectorModel or SupervisedModel any more, but a `FastText` object which is very similar.\n"
     ]
    }
   ],
   "source": [
    "from fasttext import load_model\n",
    "fasttext_model = load_model(r'../data/zhwik9_50d.bin')"
   ]
  },
  {
   "cell_type": "markdown",
   "metadata": {},
   "source": [
    "## 1.2 fasttext模型基本方法演示"
   ]
  },
  {
   "cell_type": "code",
   "execution_count": 2,
   "metadata": {},
   "outputs": [
    {
     "name": "stdout",
     "output_type": "stream",
     "text": [
      "词汇表长度= 388539\n",
      "词汇表前100个词\n",
      " ['</s>', '，', '的', '。', '*', '年', '、', '|', '（', '）', '=', '==', '在', \"'''\", '是', ':', '：', '日', '為', '.', '-', '一', '和', '(', ')', '===', '有', '》', '《', '國', '人', '中', '||', '了', '/', '於', '大', '會', '後', '「', '」', '學', '時', '與', '之', '被', '1', '上', '以', '2', '也', '而', '他', '第', '及', '“', '”', '不', '個', '由', ',', '軍', '为', '地', '·', '**', '等', '三', '來', '區', '發', '；', '其', '3', '站', '到', '但', '長', '成', '香港', '戰', '名', '對', '灣', '多', '台', '所', '動', '#', '內', '至', '位', '並', '家', '用', '生', '或', '業', '員', '美']\n",
      "词语向量维度= 50\n",
      "\"是\"字在词汇表中以及词语向量矩阵中的索引id 14\n",
      "词语\"是\"的向量长度= 22.646149\n",
      "比较两种获取词语\"是\"向量的方法是否一致? False\n"
     ]
    }
   ],
   "source": [
    "# 获取词汇表\n",
    "words = fasttext_model.get_words()\n",
    "# 打印词汇表长度\n",
    "print(\"词汇表长度=\", len(words))\n",
    "# 打印词汇表前100个词\n",
    "print(\"词汇表前100个词\\n\", words[:100])\n",
    "# 打印词语向量的维度\n",
    "print(\"词语向量维度=\",fasttext_model.get_dimension())\n",
    "# 获取“是”字在词汇表中以及词语向量矩阵中的索引id\n",
    "print('\"是\"字在词汇表中以及词语向量矩阵中的索引id', fasttext_model.get_word_id(\"是\"))\n",
    "# 通过id获取词语\"是\"向量\n",
    "vec_by_id = fasttext_model.get_input_vector(5)\n",
    "# 打印向量长度\n",
    "import numpy as np\n",
    "print('词语\"是\"的向量长度=', np.linalg.norm(vec_by_id))\n",
    "# fasttext向量库中的词语向量不是单位向量，如果使用余弦相似度查找最相似的词，则需要事先对词语向量进行归一化处理\n",
    "# 通过词语获取词语“是”的词语向量\n",
    "vec_by_word = fasttext_model.get_word_vector(\"是\")\n",
    "print('比较两种获取词语\"是\"向量的方法是否一致?', np.linalg.norm(vec_by_id) == np.linalg.norm(vec_by_word))\n",
    "# "
   ]
  },
  {
   "cell_type": "code",
   "execution_count": 3,
   "metadata": {},
   "outputs": [
    {
     "name": "stdout",
     "output_type": "stream",
     "text": [
      "-1\n",
      "[ 0.36256477  0.12375081  0.29147643 -0.2192123  -0.16156188  0.25483456\n",
      " -0.0277852   0.55959374 -0.06606597  0.22467642  0.26630133 -0.13127701\n",
      "  0.31652862  0.42660102 -0.01866162  0.17935805  0.09900611  0.01846829\n",
      "  0.09246888  0.6870774  -0.4183331   0.41609448 -0.16267012  0.34119338\n",
      " -0.1752281  -0.03070263  0.1477551  -0.3367023  -0.3773943   0.27427137\n",
      " -0.38912344  0.33512458  0.45055687  0.46485138  0.31447107 -0.05983833\n",
      "  0.06599759  0.5063113   0.58797824 -0.2618081   0.09573542  0.04462562\n",
      "  0.37142098  0.19427656 -0.46338224 -0.72496235 -0.17386505 -0.12799999\n",
      " -0.01984766 -0.5378562 ]\n",
      "7719\n",
      "[ 0.6157421  -1.1648073  -2.3966808   2.8488302   2.9575002  -1.1108973\n",
      " -1.0432658  -5.1005516  -1.4390897   3.5673742   1.217943   -0.9156345\n",
      " -1.6891124   0.39747515  1.2977676   1.8068545  -2.9513726  -1.9914167\n",
      " -1.4273882   1.0622628  -0.5614652   2.6885154   4.658714   -2.3616557\n",
      " -5.2193947  -1.5232208   0.33401304  1.3388796  -1.2307413  -1.6024656\n",
      " -2.8755054   0.8250541   2.4806623   0.62591827  1.1033599   0.72848666\n",
      " -1.5005505   2.8866396   1.8469687  -3.6143842   1.1019754   1.3857433\n",
      "  2.0739079  -2.3939512  -1.3813599  -2.1153755  -1.0603731   0.16769205\n",
      "  0.98525536 -4.952486  ]\n",
      "31052\n",
      "[ 0.66089743 -1.5015893   1.8873591   1.9742606  -1.6488829  -2.4180942\n",
      " -0.01271176 -1.4978447  -1.8650798   0.76702935  1.5678442  -0.09596476\n",
      "  0.6726059  -1.6687593  -0.95540166  1.7873292   0.9622799  -0.8418894\n",
      "  0.34095028  1.5154858   0.2334794   2.3935537  -0.5841304   2.1122327\n",
      " -1.2485323   1.0289443   1.2409596  -0.6709003  -1.0693026  -2.2080178\n",
      " -2.2965503  -1.4215013  -2.4782808   3.6326284   2.3294733  -0.48913026\n",
      " -4.84534    -1.1266168  -0.06319377 -0.14698607 -0.7993619  -2.1127892\n",
      "  1.2138665   1.8035569   1.0584353   0.05338521  1.1027354  -2.7444077\n",
      "  0.91275907 -2.926537  ]\n"
     ]
    }
   ],
   "source": [
    "print(fasttext_model.get_word_id(\"冲疝\"))\n",
    "print(fasttext_model.get_word_vector(\"冲疝\"))\n",
    "print(fasttext_model.get_word_id(\"冲\"))\n",
    "print(fasttext_model.get_word_vector(\"冲\"))\n",
    "print(fasttext_model.get_word_id(\"疝\"))\n",
    "print(fasttext_model.get_word_vector(\"疝\"))"
   ]
  },
  {
   "cell_type": "markdown",
   "metadata": {},
   "source": [
    "# 2. 计算与\"直升机\"最相似的词语列表"
   ]
  },
  {
   "cell_type": "markdown",
   "metadata": {},
   "source": [
    "## 2.1 首先对fasttext词语向量矩阵的每个词向量（行向量）归一化"
   ]
  },
  {
   "cell_type": "code",
   "execution_count": 4,
   "metadata": {},
   "outputs": [
    {
     "name": "stdout",
     "output_type": "stream",
     "text": [
      "input_vec与model_vec一致吗? False\n",
      "0.9999999\n"
     ]
    }
   ],
   "source": [
    "# 获取整个fasttext向量矩阵\n",
    "fasttext_vec = fasttext_model.get_input_matrix()[:len(fasttext_model.get_words())]\n",
    "# 验证读取处的向量矩阵是否正确\n",
    "input_vec = fasttext_vec[fasttext_model.get_word_id(\"的\")]\n",
    "model_vec = fasttext_model.get_word_vector(\"的\")\n",
    "print(\"input_vec与model_vec一致吗?\", np.linalg.norm(input_vec) == np.linalg.norm(model_vec))\n",
    "# 对fasttext向量矩阵的每个词向量（行向量）归一化\n",
    "fasttext_vec = (fasttext_vec.T/np.linalg.norm(fasttext_vec,axis=1)).T\n",
    "# 获取“的”的词语向量\n",
    "word_vec = fasttext_vec[fasttext_model.get_word_id(\"的\")]\n",
    "# 输出“的”的向量长度\n",
    "print(np.linalg.norm(word_vec))"
   ]
  },
  {
   "cell_type": "markdown",
   "metadata": {},
   "source": [
    "## 2.2 检索与\"直升机\"相关的词"
   ]
  },
  {
   "cell_type": "code",
   "execution_count": 5,
   "metadata": {},
   "outputs": [
    {
     "name": "stdout",
     "output_type": "stream",
     "text": [
      "[('直升机', 0.99999994), ('运输机', 0.8783453), ('飞机', 0.8404097), ('轰炸机', 0.83333534), ('侦察机', 0.83270746), ('预警机', 0.8304924), ('水上飞机', 0.8284872), ('歼击机', 0.822634), ('战机', 0.8117472), ('战斗机', 0.81165034)]\n",
      "[('运输机', 0.8783453), ('飞机', 0.8404097), ('轰炸机', 0.83333534), ('侦察机', 0.83270746), ('预警机', 0.8304924), ('水上飞机', 0.8284872), ('歼击机', 0.822634), ('战机', 0.8117472), ('战斗机', 0.81165034), ('舰载机', 0.7999036)]\n"
     ]
    }
   ],
   "source": [
    "# 获取直升机的向量\n",
    "word_vec = fasttext_vec[fasttext_model.get_word_id(\"直升机\")]\n",
    "# 计算直升机向量与库中每个词的相似度\n",
    "sim_vec = np.dot(word_vec, fasttext_vec.T)\n",
    "# 按相似度排序词语\n",
    "sorted_sim_vec = sorted(zip(fasttext_model.get_words(), sim_vec), key=lambda x:x[1], reverse=True)\n",
    "# 获取与直升机最相似的top10词语列表，\n",
    "print(sorted_sim_vec[:10])\n",
    "# 把词语直升机自己去除掉\n",
    "print(sorted_sim_vec[1:10+1])"
   ]
  }
 ],
 "metadata": {
  "anaconda-cloud": {},
  "kernelspec": {
   "display_name": "py36",
   "language": "python",
   "name": "py36"
  },
  "language_info": {
   "codemirror_mode": {
    "name": "ipython",
    "version": 3
   },
   "file_extension": ".py",
   "mimetype": "text/x-python",
   "name": "python",
   "nbconvert_exporter": "python",
   "pygments_lexer": "ipython3",
   "version": "3.6.2"
  }
 },
 "nbformat": 4,
 "nbformat_minor": 2
}
