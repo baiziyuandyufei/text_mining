{
 "cells": [
  {
   "cell_type": "code",
   "execution_count": 1,
   "metadata": {},
   "outputs": [
    {
     "name": "stderr",
     "output_type": "stream",
     "text": [
      "Using Theano backend.\n"
     ]
    }
   ],
   "source": [
    "from keras.models import Sequential\n",
    "from keras.layers.core import Dense, Lambda\n",
    "from keras.layers.embeddings import Embedding\n",
    "import keras.backend as K"
   ]
  },
  {
   "cell_type": "code",
   "execution_count": 2,
   "metadata": {},
   "outputs": [
    {
     "name": "stdout",
     "output_type": "stream",
     "text": [
      "Model: \"sequential_1\"\n",
      "_________________________________________________________________\n",
      "Layer (type)                 Output Shape              Param #   \n",
      "=================================================================\n",
      "embedding_1 (Embedding)      (None, 2, 300)            1500000   \n",
      "_________________________________________________________________\n",
      "lambda_1 (Lambda)            (None, 300)               0         \n",
      "_________________________________________________________________\n",
      "dense_1 (Dense)              (None, 5000)              1505000   \n",
      "=================================================================\n",
      "Total params: 3,005,000\n",
      "Trainable params: 3,005,000\n",
      "Non-trainable params: 0\n",
      "_________________________________________________________________\n"
     ]
    }
   ],
   "source": [
    "# 词汇表长度，也就是词嵌入矩阵的行数\n",
    "vocab_size = 5000\n",
    "# 投影层的输出维度\n",
    "embed_size = 300\n",
    "# 上下文窗口的大小\n",
    "window_size = 1\n",
    "\n",
    "# 实例化模型\n",
    "model = Sequential()\n",
    "# 添加嵌入层\n",
    "model.add(Embedding(input_dim=vocab_size,   # 输入时每个词用One-Hot向量表示，因此输入矩阵维度为词汇表的大小5000\n",
    "                    output_dim=embed_size,  # 嵌入层输出的维度为所要得到的词嵌入的词语向量维度300\n",
    "                    embeddings_initializer='glorot_uniform',  # 词嵌入矩阵元素值初始化方法\n",
    "                    input_length=window_size*2))  # 输入矩阵的行数为\n",
    "# 投影层\n",
    "model.add(Lambda(lambda x: K.mean(x, axis=1),   # 加和窗口内的每个词向量求平均\n",
    "                 output_shape=(embed_size,)))   # 投影层输出维度为词嵌入矩阵的维度300\n",
    "# 输出层\n",
    "model.add(Dense(vocab_size,  # 中间词属于词典中每个词的概率，因此输出维度为词汇表大小5000\n",
    "                kernel_initializer='glorot_uniform', \n",
    "                activation='softmax'))\n",
    "model.summary()"
   ]
  },
  {
   "cell_type": "code",
   "execution_count": 3,
   "metadata": {},
   "outputs": [
    {
     "data": {
      "text/plain": [
       "(5000, 300)"
      ]
     },
     "execution_count": 3,
     "metadata": {},
     "output_type": "execute_result"
    }
   ],
   "source": [
    "# 查看嵌入层的参数矩阵，也就是词嵌入模型矩阵形状\n",
    "model.get_layer('embedding_1').get_weights()[0].shape"
   ]
  },
  {
   "cell_type": "code",
   "execution_count": 4,
   "metadata": {
    "collapsed": true
   },
   "outputs": [],
   "source": [
    "from keras.utils import plot_model"
   ]
  },
  {
   "cell_type": "code",
   "execution_count": 5,
   "metadata": {
    "scrolled": true
   },
   "outputs": [
    {
     "data": {
      "image/png": "[encoded data removed]",
      "text/plain": [
       "<IPython.core.display.Image object>"
      ]
     },
     "execution_count": 5,
     "metadata": {},
     "output_type": "execute_result"
    }
   ],
   "source": [
    "plot_model(model, to_file='./cbow.png', show_shapes=True)"
   ]
  }
 ],
 "metadata": {
  "anaconda-cloud": {},
  "kernelspec": {
   "display_name": "Python 3",
   "language": "python",
   "name": "python3"
  },
  "language_info": {
   "codemirror_mode": {
    "name": "ipython",
    "version": 3
   },
   "file_extension": ".py",
   "mimetype": "text/x-python",
   "name": "python",
   "nbconvert_exporter": "python",
   "pygments_lexer": "ipython3",
   "version": "3.4.3"
  }
 },
 "nbformat": 4,
 "nbformat_minor": 1
}
