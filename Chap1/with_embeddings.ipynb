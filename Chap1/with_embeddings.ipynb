{
 "cells": [
  {
   "cell_type": "markdown",
   "metadata": {},
   "source": [
    "# 使用GloVe预训练词向量模型的情感分类"
   ]
  },
  {
   "cell_type": "code",
   "execution_count": 1,
   "metadata": {
    "collapsed": true
   },
   "outputs": [],
   "source": [
    "import numpy as np\n",
    "# 定义文档集\n",
    "documents = ['Well done!',\n",
    "             'Good work',\n",
    "             'Great effort',\n",
    "             'nice work',\n",
    "             'Excetllent!',\n",
    "             'Weak',\n",
    "             'Poor effort!',\n",
    "             'not good',\n",
    "             'poor work',\n",
    "             'Could have done better.']\n",
    "\n",
    "# 定义类别标记\n",
    "labels = np.array([1,1,1,1,1,0,0,0,0,0])"
   ]
  },
  {
   "cell_type": "markdown",
   "metadata": {},
   "source": [
    "## texts_to_sequences索引单词"
   ]
  },
  {
   "cell_type": "markdown",
   "metadata": {},
   "source": [
    "由于本例使用的是预训练词向量模型作为词嵌入层参数矩阵，因此使用Tokenizer实例来索引单词，以便后边查找词嵌入模型得到词嵌入向量，并构建嵌入层矩阵。"
   ]
  },
  {
   "cell_type": "code",
   "execution_count": 2,
   "metadata": {
    "collapsed": false
   },
   "outputs": [
    {
     "name": "stderr",
     "output_type": "stream",
     "text": [
      "Using TensorFlow backend.\n"
     ]
    }
   ],
   "source": [
    "from keras.preprocessing.text import Tokenizer"
   ]
  },
  {
   "cell_type": "code",
   "execution_count": 3,
   "metadata": {
    "collapsed": false
   },
   "outputs": [
    {
     "name": "stdout",
     "output_type": "stream",
     "text": [
      "[[6, 2], [3, 1], [7, 4], [8, 1], [9], [10], [5, 4], [11, 3], [5, 1], [12, 13, 2, 14]]\n"
     ]
    }
   ],
   "source": [
    "# 实例化Tokenizer对象\n",
    "tokenizer = Tokenizer()\n",
    "# 构建词汇表\n",
    "tokenizer.fit_on_texts(documents)\n",
    "# 输出词汇表长度\n",
    "vocab_size = len(tokenizer.word_index) + 1\n",
    "# 向量化文本集\n",
    "encodeDocuments = tokenizer.texts_to_sequences(documents)\n",
    "# 输出文本集向量\n",
    "print(encodeDocuments)"
   ]
  },
  {
   "cell_type": "markdown",
   "metadata": {},
   "source": [
    "## 固定句子长度"
   ]
  },
  {
   "cell_type": "code",
   "execution_count": 4,
   "metadata": {
    "collapsed": true
   },
   "outputs": [],
   "source": [
    "from keras.preprocessing.sequence import pad_sequences"
   ]
  },
  {
   "cell_type": "code",
   "execution_count": 5,
   "metadata": {
    "collapsed": false
   },
   "outputs": [
    {
     "name": "stdout",
     "output_type": "stream",
     "text": [
      "[[ 6  2  0  0]\n",
      " [ 3  1  0  0]\n",
      " [ 7  4  0  0]\n",
      " [ 8  1  0  0]\n",
      " [ 9  0  0  0]\n",
      " [10  0  0  0]\n",
      " [ 5  4  0  0]\n",
      " [11  3  0  0]\n",
      " [ 5  1  0  0]\n",
      " [12 13  2 14]]\n"
     ]
    }
   ],
   "source": [
    "max_length = 4\n",
    "paddedDocuments = pad_sequences(encodeDocuments, maxlen=max_length, padding='post')\n",
    "print(paddedDocuments)"
   ]
  },
  {
   "cell_type": "markdown",
   "metadata": {},
   "source": [
    "## 加载GloVec模型"
   ]
  },
  {
   "cell_type": "code",
   "execution_count": 6,
   "metadata": {
    "collapsed": false
   },
   "outputs": [
    {
     "name": "stdout",
     "output_type": "stream",
     "text": [
      "400000\n"
     ]
    }
   ],
   "source": [
    "# 加载GloVec模型\n",
    "inMemoryGlove = dict()\n",
    "f = open('../data/glove.6B.100d.txt')\n",
    "for line in f:\n",
    "    values = line.split()\n",
    "    word = values[0]\n",
    "    coefficients = np.asarray(values[1:], dtype='float32')\n",
    "    inMemoryGlove[word] = coefficients\n",
    "f.close()\n",
    "print(len(inMemoryGlove))"
   ]
  },
  {
   "cell_type": "markdown",
   "metadata": {},
   "source": [
    "## 查询GloVec模型构建嵌入层参数矩阵"
   ]
  },
  {
   "cell_type": "code",
   "execution_count": 7,
   "metadata": {
    "collapsed": false
   },
   "outputs": [],
   "source": [
    "# 实例化参数矩阵\n",
    "trainingToEmbeddings = np.zeros((vocab_size, 100))\n",
    "# 读入向量\n",
    "for word, i in tokenizer.word_index.items():\n",
    "    gloveVector = inMemoryGlove.get(word)\n",
    "    if gloveVector is not None:\n",
    "        trainingToEmbeddings[i] = gloveVector"
   ]
  },
  {
   "cell_type": "markdown",
   "metadata": {},
   "source": [
    "## 构造网络模型并编译"
   ]
  },
  {
   "cell_type": "code",
   "execution_count": 8,
   "metadata": {
    "collapsed": true
   },
   "outputs": [],
   "source": [
    "from keras.models import Sequential\n",
    "from keras.layers import Dense\n",
    "from keras.layers import Flatten\n",
    "from keras.layers.embeddings import Embedding"
   ]
  },
  {
   "cell_type": "code",
   "execution_count": 9,
   "metadata": {
    "collapsed": false
   },
   "outputs": [
    {
     "name": "stdout",
     "output_type": "stream",
     "text": [
      "WARNING:tensorflow:From /Users/yufei/anaconda3/envs/py36/lib/python3.6/site-packages/Keras-2.2.5-py3.6.egg/keras/backend/tensorflow_backend.py:67: The name tf.get_default_graph is deprecated. Please use tf.compat.v1.get_default_graph instead.\n",
      "\n",
      "WARNING:tensorflow:From /Users/yufei/anaconda3/envs/py36/lib/python3.6/site-packages/Keras-2.2.5-py3.6.egg/keras/optimizers.py:793: The name tf.train.Optimizer is deprecated. Please use tf.compat.v1.train.Optimizer instead.\n",
      "\n",
      "WARNING:tensorflow:From /Users/yufei/anaconda3/envs/py36/lib/python3.6/site-packages/tensorflow_core/python/ops/nn_impl.py:183: where (from tensorflow.python.ops.array_ops) is deprecated and will be removed in a future version.\n",
      "Instructions for updating:\n",
      "Use tf.where in 2.0, which has the same broadcast rule as np.where\n",
      "Model: \"sequential_1\"\n",
      "_________________________________________________________________\n",
      "Layer (type)                 Output Shape              Param #   \n",
      "=================================================================\n",
      "embedding_1 (Embedding)      (None, 4, 100)            1500      \n",
      "_________________________________________________________________\n",
      "flatten_1 (Flatten)          (None, 400)               0         \n",
      "_________________________________________________________________\n",
      "dense_1 (Dense)              (None, 1)                 401       \n",
      "=================================================================\n",
      "Total params: 1,901\n",
      "Trainable params: 401\n",
      "Non-trainable params: 1,500\n",
      "_________________________________________________________________\n"
     ]
    }
   ],
   "source": [
    "model = Sequential()\n",
    "model.add(Embedding(vocab_size, \n",
    "                    100,  # 由于读入的GloVe向量模型维度为100，所以嵌入层输出维度为100\n",
    "                    weights=[trainingToEmbeddings],  #  用构建的参数矩阵初始化嵌入层参数\n",
    "                    input_length=max_length, \n",
    "                    trainable=False))  # 嵌入层参数矩阵不再随着训练改变\n",
    "model.add(Flatten())\n",
    "model.add(Dense(1, activation='sigmoid'))\n",
    "model.compile(optimizer='adam', loss='binary_crossentropy', metrics=['accuracy'])\n",
    "model.summary()"
   ]
  },
  {
   "cell_type": "markdown",
   "metadata": {},
   "source": [
    "## 训练"
   ]
  },
  {
   "cell_type": "code",
   "execution_count": 10,
   "metadata": {
    "collapsed": false
   },
   "outputs": [
    {
     "name": "stdout",
     "output_type": "stream",
     "text": [
      "Train on 8 samples, validate on 2 samples\n",
      "Epoch 1/100\n",
      "8/8 [==============================] - 0s 23ms/step - loss: 0.6925 - acc: 0.3750 - val_loss: 1.0201 - val_acc: 0.0000e+00\n",
      "Epoch 2/100\n",
      "8/8 [==============================] - 0s 266us/step - loss: 0.6849 - acc: 0.5000 - val_loss: 1.0267 - val_acc: 0.0000e+00\n",
      "Epoch 3/100\n",
      "8/8 [==============================] - 0s 282us/step - loss: 0.6763 - acc: 0.5000 - val_loss: 1.0340 - val_acc: 0.0000e+00\n",
      "Epoch 4/100\n",
      "8/8 [==============================] - 0s 273us/step - loss: 0.6664 - acc: 0.6250 - val_loss: 1.0404 - val_acc: 0.0000e+00\n",
      "Epoch 5/100\n",
      "8/8 [==============================] - 0s 251us/step - loss: 0.6573 - acc: 0.6250 - val_loss: 1.0466 - val_acc: 0.0000e+00\n",
      "Epoch 6/100\n",
      "8/8 [==============================] - 0s 656us/step - loss: 0.6478 - acc: 0.6250 - val_loss: 1.0521 - val_acc: 0.0000e+00\n",
      "Epoch 7/100\n",
      "8/8 [==============================] - 0s 309us/step - loss: 0.6388 - acc: 0.6250 - val_loss: 1.0571 - val_acc: 0.0000e+00\n",
      "Epoch 8/100\n",
      "8/8 [==============================] - 0s 250us/step - loss: 0.6296 - acc: 0.6250 - val_loss: 1.0614 - val_acc: 0.0000e+00\n",
      "Epoch 9/100\n",
      "8/8 [==============================] - 0s 240us/step - loss: 0.6207 - acc: 0.6250 - val_loss: 1.0650 - val_acc: 0.0000e+00\n",
      "Epoch 10/100\n",
      "8/8 [==============================] - 0s 270us/step - loss: 0.6119 - acc: 0.6250 - val_loss: 1.0680 - val_acc: 0.0000e+00\n",
      "Epoch 11/100\n",
      "8/8 [==============================] - 0s 628us/step - loss: 0.6032 - acc: 0.6250 - val_loss: 1.0702 - val_acc: 0.0000e+00\n",
      "Epoch 12/100\n",
      "8/8 [==============================] - 0s 314us/step - loss: 0.5947 - acc: 0.6250 - val_loss: 1.0719 - val_acc: 0.0000e+00\n",
      "Epoch 13/100\n",
      "8/8 [==============================] - 0s 350us/step - loss: 0.5864 - acc: 0.6250 - val_loss: 1.0728 - val_acc: 0.0000e+00\n",
      "Epoch 14/100\n",
      "8/8 [==============================] - 0s 326us/step - loss: 0.5782 - acc: 0.6250 - val_loss: 1.0732 - val_acc: 0.0000e+00\n",
      "Epoch 15/100\n",
      "8/8 [==============================] - 0s 413us/step - loss: 0.5700 - acc: 0.6250 - val_loss: 1.0728 - val_acc: 0.0000e+00\n",
      "Epoch 16/100\n",
      "8/8 [==============================] - 0s 369us/step - loss: 0.5621 - acc: 0.6250 - val_loss: 1.0719 - val_acc: 0.0000e+00\n",
      "Epoch 17/100\n",
      "8/8 [==============================] - 0s 297us/step - loss: 0.5543 - acc: 0.6250 - val_loss: 1.0703 - val_acc: 0.0000e+00\n",
      "Epoch 18/100\n",
      "8/8 [==============================] - 0s 214us/step - loss: 0.5465 - acc: 0.7500 - val_loss: 1.0682 - val_acc: 0.0000e+00\n",
      "Epoch 19/100\n",
      "8/8 [==============================] - 0s 214us/step - loss: 0.5390 - acc: 0.7500 - val_loss: 1.0656 - val_acc: 0.0000e+00\n",
      "Epoch 20/100\n",
      "8/8 [==============================] - 0s 553us/step - loss: 0.5316 - acc: 0.7500 - val_loss: 1.0625 - val_acc: 0.0000e+00\n",
      "Epoch 21/100\n",
      "8/8 [==============================] - 0s 313us/step - loss: 0.5243 - acc: 0.7500 - val_loss: 1.0589 - val_acc: 0.0000e+00\n",
      "Epoch 22/100\n",
      "8/8 [==============================] - 0s 381us/step - loss: 0.5171 - acc: 0.7500 - val_loss: 1.0550 - val_acc: 0.0000e+00\n",
      "Epoch 23/100\n",
      "8/8 [==============================] - 0s 308us/step - loss: 0.5101 - acc: 0.7500 - val_loss: 1.0507 - val_acc: 0.0000e+00\n",
      "Epoch 24/100\n",
      "8/8 [==============================] - 0s 291us/step - loss: 0.5032 - acc: 0.8750 - val_loss: 1.0462 - val_acc: 0.0000e+00\n",
      "Epoch 25/100\n",
      "8/8 [==============================] - 0s 478us/step - loss: 0.4964 - acc: 0.8750 - val_loss: 1.0415 - val_acc: 0.0000e+00\n",
      "Epoch 26/100\n",
      "8/8 [==============================] - 0s 322us/step - loss: 0.4898 - acc: 1.0000 - val_loss: 1.0367 - val_acc: 0.0000e+00\n",
      "Epoch 27/100\n",
      "8/8 [==============================] - 0s 286us/step - loss: 0.4834 - acc: 1.0000 - val_loss: 1.0317 - val_acc: 0.0000e+00\n",
      "Epoch 28/100\n",
      "8/8 [==============================] - 0s 220us/step - loss: 0.4770 - acc: 1.0000 - val_loss: 1.0268 - val_acc: 0.0000e+00\n",
      "Epoch 29/100\n",
      "8/8 [==============================] - 0s 609us/step - loss: 0.4708 - acc: 1.0000 - val_loss: 1.0219 - val_acc: 0.0000e+00\n",
      "Epoch 30/100\n",
      "8/8 [==============================] - 0s 322us/step - loss: 0.4647 - acc: 1.0000 - val_loss: 1.0170 - val_acc: 0.0000e+00\n",
      "Epoch 31/100\n",
      "8/8 [==============================] - 0s 304us/step - loss: 0.4587 - acc: 1.0000 - val_loss: 1.0122 - val_acc: 0.0000e+00\n",
      "Epoch 32/100\n",
      "8/8 [==============================] - 0s 330us/step - loss: 0.4527 - acc: 1.0000 - val_loss: 1.0075 - val_acc: 0.0000e+00\n",
      "Epoch 33/100\n",
      "8/8 [==============================] - 0s 335us/step - loss: 0.4469 - acc: 1.0000 - val_loss: 1.0030 - val_acc: 0.0000e+00\n",
      "Epoch 34/100\n",
      "8/8 [==============================] - 0s 309us/step - loss: 0.4412 - acc: 1.0000 - val_loss: 0.9987 - val_acc: 0.0000e+00\n",
      "Epoch 35/100\n",
      "8/8 [==============================] - 0s 334us/step - loss: 0.4357 - acc: 1.0000 - val_loss: 0.9946 - val_acc: 0.0000e+00\n",
      "Epoch 36/100\n",
      "8/8 [==============================] - 0s 261us/step - loss: 0.4303 - acc: 1.0000 - val_loss: 0.9908 - val_acc: 0.0000e+00\n",
      "Epoch 37/100\n",
      "8/8 [==============================] - 0s 263us/step - loss: 0.4249 - acc: 1.0000 - val_loss: 0.9872 - val_acc: 0.0000e+00\n",
      "Epoch 38/100\n",
      "8/8 [==============================] - 0s 692us/step - loss: 0.4197 - acc: 1.0000 - val_loss: 0.9837 - val_acc: 0.0000e+00\n",
      "Epoch 39/100\n",
      "8/8 [==============================] - 0s 358us/step - loss: 0.4146 - acc: 1.0000 - val_loss: 0.9806 - val_acc: 0.0000e+00\n",
      "Epoch 40/100\n",
      "8/8 [==============================] - 0s 345us/step - loss: 0.4096 - acc: 1.0000 - val_loss: 0.9776 - val_acc: 0.0000e+00\n",
      "Epoch 41/100\n",
      "8/8 [==============================] - 0s 310us/step - loss: 0.4047 - acc: 1.0000 - val_loss: 0.9748 - val_acc: 0.0000e+00\n",
      "Epoch 42/100\n",
      "8/8 [==============================] - 0s 1ms/step - loss: 0.3999 - acc: 1.0000 - val_loss: 0.9722 - val_acc: 0.0000e+00\n",
      "Epoch 43/100\n",
      "8/8 [==============================] - 0s 394us/step - loss: 0.3951 - acc: 1.0000 - val_loss: 0.9698 - val_acc: 0.0000e+00\n",
      "Epoch 44/100\n",
      "8/8 [==============================] - 0s 280us/step - loss: 0.3905 - acc: 1.0000 - val_loss: 0.9675 - val_acc: 0.0000e+00\n",
      "Epoch 45/100\n",
      "8/8 [==============================] - 0s 228us/step - loss: 0.3859 - acc: 1.0000 - val_loss: 0.9654 - val_acc: 0.0000e+00\n",
      "Epoch 46/100\n",
      "8/8 [==============================] - 0s 585us/step - loss: 0.3814 - acc: 1.0000 - val_loss: 0.9634 - val_acc: 0.0000e+00\n",
      "Epoch 47/100\n",
      "8/8 [==============================] - 0s 289us/step - loss: 0.3770 - acc: 1.0000 - val_loss: 0.9615 - val_acc: 0.0000e+00\n",
      "Epoch 48/100\n",
      "8/8 [==============================] - 0s 277us/step - loss: 0.3728 - acc: 1.0000 - val_loss: 0.9596 - val_acc: 0.5000\n",
      "Epoch 49/100\n",
      "8/8 [==============================] - 0s 263us/step - loss: 0.3685 - acc: 1.0000 - val_loss: 0.9579 - val_acc: 0.5000\n",
      "Epoch 50/100\n",
      "8/8 [==============================] - 0s 350us/step - loss: 0.3644 - acc: 1.0000 - val_loss: 0.9561 - val_acc: 0.5000\n",
      "Epoch 51/100\n",
      "8/8 [==============================] - 0s 441us/step - loss: 0.3604 - acc: 1.0000 - val_loss: 0.9544 - val_acc: 0.5000\n",
      "Epoch 52/100\n",
      "8/8 [==============================] - 0s 261us/step - loss: 0.3564 - acc: 1.0000 - val_loss: 0.9527 - val_acc: 0.5000\n",
      "Epoch 53/100\n",
      "8/8 [==============================] - 0s 258us/step - loss: 0.3525 - acc: 1.0000 - val_loss: 0.9510 - val_acc: 0.5000\n",
      "Epoch 54/100\n",
      "8/8 [==============================] - 0s 267us/step - loss: 0.3487 - acc: 1.0000 - val_loss: 0.9492 - val_acc: 0.5000\n",
      "Epoch 55/100\n",
      "8/8 [==============================] - 0s 310us/step - loss: 0.3450 - acc: 1.0000 - val_loss: 0.9475 - val_acc: 0.5000\n",
      "Epoch 56/100\n",
      "8/8 [==============================] - 0s 355us/step - loss: 0.3413 - acc: 1.0000 - val_loss: 0.9457 - val_acc: 0.5000\n",
      "Epoch 57/100\n",
      "8/8 [==============================] - 0s 290us/step - loss: 0.3377 - acc: 1.0000 - val_loss: 0.9439 - val_acc: 0.5000\n",
      "Epoch 58/100\n",
      "8/8 [==============================] - 0s 287us/step - loss: 0.3342 - acc: 1.0000 - val_loss: 0.9420 - val_acc: 0.5000\n",
      "Epoch 59/100\n",
      "8/8 [==============================] - 0s 209us/step - loss: 0.3308 - acc: 1.0000 - val_loss: 0.9401 - val_acc: 0.5000\n",
      "Epoch 60/100\n",
      "8/8 [==============================] - 0s 281us/step - loss: 0.3274 - acc: 1.0000 - val_loss: 0.9382 - val_acc: 0.5000\n",
      "Epoch 61/100\n",
      "8/8 [==============================] - 0s 294us/step - loss: 0.3241 - acc: 1.0000 - val_loss: 0.9362 - val_acc: 0.5000\n",
      "Epoch 62/100\n",
      "8/8 [==============================] - 0s 301us/step - loss: 0.3208 - acc: 1.0000 - val_loss: 0.9342 - val_acc: 0.5000\n",
      "Epoch 63/100\n",
      "8/8 [==============================] - 0s 238us/step - loss: 0.3176 - acc: 1.0000 - val_loss: 0.9322 - val_acc: 0.5000\n",
      "Epoch 64/100\n",
      "8/8 [==============================] - 0s 349us/step - loss: 0.3145 - acc: 1.0000 - val_loss: 0.9301 - val_acc: 0.5000\n",
      "Epoch 65/100\n",
      "8/8 [==============================] - 0s 321us/step - loss: 0.3114 - acc: 1.0000 - val_loss: 0.9281 - val_acc: 0.5000\n",
      "Epoch 66/100\n",
      "8/8 [==============================] - 0s 349us/step - loss: 0.3084 - acc: 1.0000 - val_loss: 0.9260 - val_acc: 0.5000\n",
      "Epoch 67/100\n",
      "8/8 [==============================] - 0s 259us/step - loss: 0.3054 - acc: 1.0000 - val_loss: 0.9239 - val_acc: 0.5000\n",
      "Epoch 68/100\n",
      "8/8 [==============================] - 0s 219us/step - loss: 0.3025 - acc: 1.0000 - val_loss: 0.9219 - val_acc: 0.5000\n",
      "Epoch 69/100\n",
      "8/8 [==============================] - 0s 425us/step - loss: 0.2996 - acc: 1.0000 - val_loss: 0.9198 - val_acc: 0.5000\n",
      "Epoch 70/100\n",
      "8/8 [==============================] - 0s 262us/step - loss: 0.2968 - acc: 1.0000 - val_loss: 0.9178 - val_acc: 0.5000\n",
      "Epoch 71/100\n",
      "8/8 [==============================] - 0s 269us/step - loss: 0.2940 - acc: 1.0000 - val_loss: 0.9157 - val_acc: 0.5000\n",
      "Epoch 72/100\n",
      "8/8 [==============================] - 0s 208us/step - loss: 0.2913 - acc: 1.0000 - val_loss: 0.9137 - val_acc: 0.5000\n",
      "Epoch 73/100\n",
      "8/8 [==============================] - 0s 198us/step - loss: 0.2887 - acc: 1.0000 - val_loss: 0.9118 - val_acc: 0.5000\n",
      "Epoch 74/100\n",
      "8/8 [==============================] - 0s 205us/step - loss: 0.2861 - acc: 1.0000 - val_loss: 0.9098 - val_acc: 0.5000\n",
      "Epoch 75/100\n",
      "8/8 [==============================] - 0s 304us/step - loss: 0.2835 - acc: 1.0000 - val_loss: 0.9079 - val_acc: 0.5000\n",
      "Epoch 76/100\n",
      "8/8 [==============================] - 0s 447us/step - loss: 0.2810 - acc: 1.0000 - val_loss: 0.9061 - val_acc: 0.5000\n",
      "Epoch 77/100\n",
      "8/8 [==============================] - 0s 281us/step - loss: 0.2785 - acc: 1.0000 - val_loss: 0.9043 - val_acc: 0.5000\n",
      "Epoch 78/100\n",
      "8/8 [==============================] - 0s 330us/step - loss: 0.2761 - acc: 1.0000 - val_loss: 0.9025 - val_acc: 0.5000\n",
      "Epoch 79/100\n",
      "8/8 [==============================] - 0s 344us/step - loss: 0.2737 - acc: 1.0000 - val_loss: 0.9007 - val_acc: 0.5000\n",
      "Epoch 80/100\n",
      "8/8 [==============================] - 0s 340us/step - loss: 0.2713 - acc: 1.0000 - val_loss: 0.8990 - val_acc: 0.5000\n",
      "Epoch 81/100\n",
      "8/8 [==============================] - 0s 304us/step - loss: 0.2690 - acc: 1.0000 - val_loss: 0.8973 - val_acc: 0.5000\n",
      "Epoch 82/100\n",
      "8/8 [==============================] - 0s 245us/step - loss: 0.2668 - acc: 1.0000 - val_loss: 0.8957 - val_acc: 0.5000\n",
      "Epoch 83/100\n",
      "8/8 [==============================] - 0s 316us/step - loss: 0.2646 - acc: 1.0000 - val_loss: 0.8941 - val_acc: 0.5000\n",
      "Epoch 84/100\n",
      "8/8 [==============================] - 0s 302us/step - loss: 0.2624 - acc: 1.0000 - val_loss: 0.8925 - val_acc: 0.5000\n",
      "Epoch 85/100\n",
      "8/8 [==============================] - 0s 286us/step - loss: 0.2602 - acc: 1.0000 - val_loss: 0.8909 - val_acc: 0.5000\n",
      "Epoch 86/100\n",
      "8/8 [==============================] - 0s 364us/step - loss: 0.2581 - acc: 1.0000 - val_loss: 0.8894 - val_acc: 0.5000\n",
      "Epoch 87/100\n",
      "8/8 [==============================] - 0s 318us/step - loss: 0.2560 - acc: 1.0000 - val_loss: 0.8879 - val_acc: 0.5000\n",
      "Epoch 88/100\n",
      "8/8 [==============================] - 0s 287us/step - loss: 0.2540 - acc: 1.0000 - val_loss: 0.8864 - val_acc: 0.5000\n",
      "Epoch 89/100\n",
      "8/8 [==============================] - 0s 308us/step - loss: 0.2519 - acc: 1.0000 - val_loss: 0.8849 - val_acc: 0.5000\n",
      "Epoch 90/100\n",
      "8/8 [==============================] - 0s 385us/step - loss: 0.2500 - acc: 1.0000 - val_loss: 0.8834 - val_acc: 0.5000\n",
      "Epoch 91/100\n",
      "8/8 [==============================] - 0s 249us/step - loss: 0.2480 - acc: 1.0000 - val_loss: 0.8820 - val_acc: 0.5000\n",
      "Epoch 92/100\n",
      "8/8 [==============================] - 0s 333us/step - loss: 0.2461 - acc: 1.0000 - val_loss: 0.8805 - val_acc: 0.5000\n",
      "Epoch 93/100\n",
      "8/8 [==============================] - 0s 332us/step - loss: 0.2442 - acc: 1.0000 - val_loss: 0.8791 - val_acc: 0.5000\n",
      "Epoch 94/100\n",
      "8/8 [==============================] - 0s 341us/step - loss: 0.2424 - acc: 1.0000 - val_loss: 0.8777 - val_acc: 0.5000\n",
      "Epoch 95/100\n",
      "8/8 [==============================] - 0s 250us/step - loss: 0.2405 - acc: 1.0000 - val_loss: 0.8763 - val_acc: 0.5000\n",
      "Epoch 96/100\n",
      "8/8 [==============================] - 0s 258us/step - loss: 0.2387 - acc: 1.0000 - val_loss: 0.8749 - val_acc: 0.5000\n",
      "Epoch 97/100\n",
      "8/8 [==============================] - 0s 375us/step - loss: 0.2370 - acc: 1.0000 - val_loss: 0.8735 - val_acc: 0.5000\n",
      "Epoch 98/100\n",
      "8/8 [==============================] - 0s 233us/step - loss: 0.2352 - acc: 1.0000 - val_loss: 0.8721 - val_acc: 0.5000\n",
      "Epoch 99/100\n",
      "8/8 [==============================] - 0s 303us/step - loss: 0.2335 - acc: 1.0000 - val_loss: 0.8707 - val_acc: 0.5000\n",
      "Epoch 100/100\n",
      "8/8 [==============================] - 0s 276us/step - loss: 0.2318 - acc: 1.0000 - val_loss: 0.8694 - val_acc: 0.5000\n"
     ]
    },
    {
     "data": {
      "text/plain": [
       "<keras.callbacks.History at 0x135115c18>"
      ]
     },
     "execution_count": 10,
     "metadata": {},
     "output_type": "execute_result"
    }
   ],
   "source": [
    "model.fit(paddedDocuments, labels, \n",
    "          epochs=100, \n",
    "          validation_split=0.2,\n",
    "          verbose=1)"
   ]
  },
  {
   "cell_type": "markdown",
   "metadata": {},
   "source": [
    "## 评估"
   ]
  },
  {
   "cell_type": "markdown",
   "metadata": {},
   "source": [
    "注意这个示例中没有分训练集和验证集，因为数据量太少了。如果分成训练集和验证集，则验证集的准确率为0。"
   ]
  },
  {
   "cell_type": "code",
   "execution_count": 11,
   "metadata": {
    "collapsed": false
   },
   "outputs": [
    {
     "name": "stdout",
     "output_type": "stream",
     "text": [
      "Accuracy: 89.999998\n"
     ]
    }
   ],
   "source": [
    "loss, accuracy = model.evaluate(paddedDocuments, labels, verbose=0)\n",
    "print('Accuracy: %f' % (accuracy * 100))"
   ]
  }
 ],
 "metadata": {
  "anaconda-cloud": {},
  "kernelspec": {
   "display_name": "Python [conda env:py36]",
   "language": "python",
   "name": "conda-env-py36-py"
  },
  "language_info": {
   "codemirror_mode": {
    "name": "ipython",
    "version": 3
   },
   "file_extension": ".py",
   "mimetype": "text/x-python",
   "name": "python",
   "nbconvert_exporter": "python",
   "pygments_lexer": "ipython3",
   "version": "3.6.2"
  }
 },
 "nbformat": 4,
 "nbformat_minor": 1
}
