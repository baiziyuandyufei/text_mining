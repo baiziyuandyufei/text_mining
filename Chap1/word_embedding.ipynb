{
 "cells": [
  {
   "cell_type": "code",
   "execution_count": 1,
   "metadata": {
    "collapsed": true
   },
   "outputs": [],
   "source": [
    "zh_word_set = set(['青蛙', '树蛙', '蟾蜍', '蜥蜴'])\n",
    "en_word_set = set(['frog', 'treefrog', 'toad', 'lizard'])"
   ]
  },
  {
   "cell_type": "code",
   "execution_count": 2,
   "metadata": {
    "collapsed": true
   },
   "outputs": [],
   "source": [
    "import numpy as np"
   ]
  },
  {
   "cell_type": "code",
   "execution_count": 3,
   "metadata": {
    "collapsed": false
   },
   "outputs": [
    {
     "name": "stdout",
     "output_type": "stream",
     "text": [
      "dict_keys(['青蛙', '蜥蜴', '蟾蜍', '树蛙'])\n"
     ]
    }
   ],
   "source": [
    "# 加载中文词语向量\n",
    "zh_word_vec_dict = dict()\n",
    "with open('../data/cc.zh.300.vec') as infile:\n",
    "    for line in infile:\n",
    "        values = line.split()\n",
    "        word = values[0]\n",
    "        coefficients = np.asarray(values[1:], dtype='float32')\n",
    "        if word in zh_word_set:\n",
    "            zh_word_vec_dict[word] = coefficients\n",
    "print(zh_word_vec_dict.keys())"
   ]
  },
  {
   "cell_type": "code",
   "execution_count": 4,
   "metadata": {
    "collapsed": false
   },
   "outputs": [
    {
     "name": "stdout",
     "output_type": "stream",
     "text": [
      "dict_keys(['frog', 'lizard', 'toad', 'treefrog'])\n"
     ]
    }
   ],
   "source": [
    "# 加载英文词向量\n",
    "en_word_vec_dict = dict()\n",
    "with open('../data/cc.en.300.vec') as infile:\n",
    "    for line in infile:\n",
    "        values = line.split()\n",
    "        word = values[0]\n",
    "        coefficients = np.asarray(values[1:], dtype='float32')\n",
    "        if word in en_word_set:\n",
    "            en_word_vec_dict[word] = coefficients\n",
    "print(en_word_vec_dict.keys())    "
   ]
  },
  {
   "cell_type": "code",
   "execution_count": 5,
   "metadata": {
    "collapsed": false
   },
   "outputs": [
    {
     "name": "stdout",
     "output_type": "stream",
     "text": [
      "(4, 300)\n"
     ]
    }
   ],
   "source": [
    "# 构建中文词向量矩阵\n",
    "zh_word_matrix = np.zeros((len(zh_word_vec_dict), 300))\n",
    "i = 0\n",
    "for word, vector in zh_word_vec_dict.items():\n",
    "    zh_word_matrix[i] = vector\n",
    "    i += 1\n",
    "print(zh_word_matrix.shape)"
   ]
  },
  {
   "cell_type": "code",
   "execution_count": 6,
   "metadata": {
    "collapsed": false
   },
   "outputs": [
    {
     "name": "stdout",
     "output_type": "stream",
     "text": [
      "(4, 300)\n"
     ]
    }
   ],
   "source": [
    "# 构建英文词向量矩阵\n",
    "en_word_matrix = np.zeros((len(en_word_vec_dict), 300))\n",
    "i = 0\n",
    "for word, vector in en_word_vec_dict.items():\n",
    "    en_word_matrix[i] = vector\n",
    "    i += 1\n",
    "print(en_word_matrix.shape)"
   ]
  },
  {
   "cell_type": "code",
   "execution_count": 7,
   "metadata": {
    "collapsed": true
   },
   "outputs": [],
   "source": [
    "from sklearn.decomposition import PCA\n",
    "pca = PCA(n_components=2)"
   ]
  },
  {
   "cell_type": "code",
   "execution_count": 8,
   "metadata": {
    "collapsed": false
   },
   "outputs": [
    {
     "name": "stdout",
     "output_type": "stream",
     "text": [
      "(4, 2)\n",
      "(4, 2)\n"
     ]
    }
   ],
   "source": [
    "zh_r = pca.fit(zh_word_matrix).transform(zh_word_matrix)\n",
    "print(zh_r.shape)\n",
    "en_r = pca.fit(en_word_matrix).transform(en_word_matrix)\n",
    "print(en_r.shape)"
   ]
  },
  {
   "cell_type": "code",
   "execution_count": 9,
   "metadata": {
    "collapsed": true
   },
   "outputs": [],
   "source": [
    "%matplotlib inline\n",
    "import matplotlib.pyplot as plt"
   ]
  },
  {
   "cell_type": "code",
   "execution_count": 10,
   "metadata": {
    "collapsed": false
   },
   "outputs": [
    {
     "data": {
      "image/png": "[encoded data removed]",
      "text/plain": [
       "<Figure size 432x288 with 2 Axes>"
      ]
     },
     "metadata": {
      "needs_background": "light"
     },
     "output_type": "display_data"
    }
   ],
   "source": [
    "plt.figure()\n",
    "plt.subplot(1, 2, 1)\n",
    "plt.title('Chinese words')\n",
    "plt.scatter(zh_r[:, 0], zh_r[:, 1], color='black')\n",
    "plt.subplot(1, 2, 2)\n",
    "plt.title('English words')\n",
    "plt.scatter(en_r[:, 0], en_r[:, 1], color='black')\n",
    "plt.show()"
   ]
  }
 ],
 "metadata": {
  "anaconda-cloud": {},
  "kernelspec": {
   "display_name": "Python [conda env:py36]",
   "language": "python",
   "name": "conda-env-py36-py"
  },
  "language_info": {
   "codemirror_mode": {
    "name": "ipython",
    "version": 3
   },
   "file_extension": ".py",
   "mimetype": "text/x-python",
   "name": "python",
   "nbconvert_exporter": "python",
   "pygments_lexer": "ipython3",
   "version": "3.6.2"
  }
 },
 "nbformat": 4,
 "nbformat_minor": 1
}
