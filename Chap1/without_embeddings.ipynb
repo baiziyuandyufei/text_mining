{
 "cells": [
  {
   "cell_type": "markdown",
   "metadata": {},
   "source": [
    "# 不使用预训练词向量模型的情感分类"
   ]
  },
  {
   "cell_type": "code",
   "execution_count": 1,
   "metadata": {
    "collapsed": true
   },
   "outputs": [],
   "source": [
    "import numpy as np"
   ]
  },
  {
   "cell_type": "code",
   "execution_count": 2,
   "metadata": {
    "collapsed": false
   },
   "outputs": [],
   "source": [
    "# 定义文档集\n",
    "documents = ['Well done!',\n",
    "             'Good work',\n",
    "             'Great effort',\n",
    "             'nice work',\n",
    "             'Excellent!',\n",
    "             'Weak',\n",
    "             'Poor effort!',\n",
    "             'not good',\n",
    "             'poor work',\n",
    "             'Could have done better.']\n",
    "\n",
    "# 定义类别标记\n",
    "labels = np.array([1,1,1,1,1,0,0,0,0,0])"
   ]
  },
  {
   "cell_type": "markdown",
   "metadata": {},
   "source": [
    "## One-Hot编码词向量"
   ]
  },
  {
   "cell_type": "code",
   "execution_count": 3,
   "metadata": {
    "collapsed": false
   },
   "outputs": [
    {
     "name": "stderr",
     "output_type": "stream",
     "text": [
      "Using TensorFlow backend.\n"
     ]
    }
   ],
   "source": [
    "from keras.preprocessing.text import one_hot"
   ]
  },
  {
   "cell_type": "markdown",
   "metadata": {},
   "source": [
    "这是一个对hashing_trick函数的包装器，该函数使用 hash将词语映射为一个索引，但不保证映射单一性。"
   ]
  },
  {
   "cell_type": "code",
   "execution_count": 4,
   "metadata": {
    "collapsed": false
   },
   "outputs": [
    {
     "name": "stdout",
     "output_type": "stream",
     "text": [
      "[[15, 30], [28, 1], [4, 2], [39, 1], [37], [22], [28, 2], [10, 28], [28, 1], [5, 42, 30, 40]]\n"
     ]
    }
   ],
   "source": [
    "vocab_size = 50\n",
    "encodeDocuments = [one_hot(doc, vocab_size) for doc in documents]\n",
    "print(encodeDocuments)"
   ]
  },
  {
   "cell_type": "markdown",
   "metadata": {},
   "source": [
    "显然，一个句子中有几个单词，经过one_hot方法后就会得到几个索引数值。"
   ]
  },
  {
   "cell_type": "markdown",
   "metadata": {},
   "source": [
    "## 固定句子长度"
   ]
  },
  {
   "cell_type": "code",
   "execution_count": 5,
   "metadata": {
    "collapsed": true
   },
   "outputs": [],
   "source": [
    "from keras.preprocessing.sequence import pad_sequences"
   ]
  },
  {
   "cell_type": "code",
   "execution_count": 6,
   "metadata": {
    "collapsed": false
   },
   "outputs": [
    {
     "name": "stdout",
     "output_type": "stream",
     "text": [
      "[[15 30  0  0]\n",
      " [28  1  0  0]\n",
      " [ 4  2  0  0]\n",
      " [39  1  0  0]\n",
      " [37  0  0  0]\n",
      " [22  0  0  0]\n",
      " [28  2  0  0]\n",
      " [10 28  0  0]\n",
      " [28  1  0  0]\n",
      " [ 5 42 30 40]]\n"
     ]
    }
   ],
   "source": [
    "max_length = 4\n",
    "# 从后边填充截断\n",
    "paddedDocuments = pad_sequences(encodeDocuments, maxlen=max_length, padding='post')\n",
    "print(paddedDocuments)"
   ]
  },
  {
   "cell_type": "markdown",
   "metadata": {},
   "source": [
    "## 构造网络模型并编译"
   ]
  },
  {
   "cell_type": "code",
   "execution_count": 7,
   "metadata": {
    "collapsed": true
   },
   "outputs": [],
   "source": [
    "from keras.models import Sequential\n",
    "from keras.layers import Dense\n",
    "from keras.layers import Flatten\n",
    "from keras.layers.embeddings import Embedding"
   ]
  },
  {
   "cell_type": "code",
   "execution_count": 8,
   "metadata": {
    "collapsed": false
   },
   "outputs": [
    {
     "name": "stdout",
     "output_type": "stream",
     "text": [
      "_________________________________________________________________\n",
      "Layer (type)                 Output Shape              Param #   \n",
      "=================================================================\n",
      "embedding_1 (Embedding)      (None, 4, 8)              400       \n",
      "_________________________________________________________________\n",
      "flatten_1 (Flatten)          (None, 32)                0         \n",
      "_________________________________________________________________\n",
      "dense_1 (Dense)              (None, 1)                 33        \n",
      "=================================================================\n",
      "Total params: 433\n",
      "Trainable params: 433\n",
      "Non-trainable params: 0\n",
      "_________________________________________________________________\n",
      "None\n"
     ]
    }
   ],
   "source": [
    "model = Sequential()\n",
    "# 添加嵌入层\n",
    "model.add(Embedding(vocab_size,                # 词汇表大小决定嵌入层参数矩阵的行数\n",
    "                    8,                         # 输出每个词语的维度为8 \n",
    "                    input_length=max_length))  # 输入矩阵一个句子向量含有的词语数即列数\n",
    "# 扁平化\n",
    "model.add(Flatten())\n",
    "# 输出层\n",
    "model.add(Dense(1, activation='sigmoid'))\n",
    "# 编译模型\n",
    "model.compile(optimizer='adam',              # 优化方法\n",
    "              loss='binary_crossentropy',    # 损失函数\n",
    "              metrics=['acc'])               # 效果评估方法\n",
    "print(model.summary())"
   ]
  },
  {
   "cell_type": "markdown",
   "metadata": {},
   "source": [
    "## 训练"
   ]
  },
  {
   "cell_type": "code",
   "execution_count": 9,
   "metadata": {
    "collapsed": false
   },
   "outputs": [
    {
     "data": {
      "text/plain": [
       "<keras.callbacks.History at 0x11cfc47b8>"
      ]
     },
     "execution_count": 9,
     "metadata": {},
     "output_type": "execute_result"
    }
   ],
   "source": [
    "# 注意epochs数量增加则精度会提高，但是会有过拟合风险\n",
    "model.fit(paddedDocuments, labels, epochs=50, verbose=0)"
   ]
  },
  {
   "cell_type": "markdown",
   "metadata": {},
   "source": [
    "## 评估"
   ]
  },
  {
   "cell_type": "code",
   "execution_count": 10,
   "metadata": {
    "collapsed": false
   },
   "outputs": [
    {
     "name": "stdout",
     "output_type": "stream",
     "text": [
      "Accuracy: 89.999998\n"
     ]
    }
   ],
   "source": [
    "loss, accuracy = model.evaluate(paddedDocuments, labels, verbose=0)\n",
    "print('Accuracy: %f' % (accuracy*100))"
   ]
  }
 ],
 "metadata": {
  "anaconda-cloud": {},
  "kernelspec": {
   "display_name": "Python [conda env:py36]",
   "language": "python",
   "name": "conda-env-py36-py"
  },
  "language_info": {
   "codemirror_mode": {
    "name": "ipython",
    "version": 3
   },
   "file_extension": ".py",
   "mimetype": "text/x-python",
   "name": "python",
   "nbconvert_exporter": "python",
   "pygments_lexer": "ipython3",
   "version": "3.6.2"
  }
 },
 "nbformat": 4,
 "nbformat_minor": 1
}
