{
 "cells": [
  {
   "cell_type": "code",
   "execution_count": 1,
   "metadata": {
    "collapsed": true
   },
   "outputs": [],
   "source": [
    "import tensorflow as tf"
   ]
  },
  {
   "cell_type": "code",
   "execution_count": 2,
   "metadata": {},
   "outputs": [
    {
     "name": "stdout",
     "output_type": "stream",
     "text": [
      "相加：7\n",
      "相乘：12\n"
     ]
    }
   ],
   "source": [
    "# 占位符a\n",
    "a = tf.placeholder(tf.int16)\n",
    "# 占位符b\n",
    "b = tf.placeholder(tf.int16)\n",
    "# 操作\n",
    "add = tf.add(a, b)\n",
    "# 操作\n",
    "mul = tf.multiply(a, b)\n",
    "with tf.Session() as sess:\n",
    "    print(\"相加：%i\" % sess.run(add, feed_dict={a: 3, b: 4}))\n",
    "    print(\"相乘：%i\" % sess.run(mul, feed_dict={a: 3, b: 4}))"
   ]
  },
  {
   "cell_type": "code",
   "execution_count": 3,
   "metadata": {},
   "outputs": [
    {
     "name": "stdout",
     "output_type": "stream",
     "text": [
      "[12, 7]\n"
     ]
    }
   ],
   "source": [
    "# 一次运行多个节点并取出结果\n",
    "with tf.Session() as sess:\n",
    "    print(sess.run([mul, add], feed_dict={a: 3, b:4}))"
   ]
  }
 ],
 "metadata": {
  "kernelspec": {
   "display_name": "py36",
   "language": "python",
   "name": "py36"
  },
  "language_info": {
   "codemirror_mode": {
    "name": "ipython",
    "version": 3
   },
   "file_extension": ".py",
   "mimetype": "text/x-python",
   "name": "python",
   "nbconvert_exporter": "python",
   "pygments_lexer": "ipython3",
   "version": "3.6.2"
  }
 },
 "nbformat": 4,
 "nbformat_minor": 2
}
