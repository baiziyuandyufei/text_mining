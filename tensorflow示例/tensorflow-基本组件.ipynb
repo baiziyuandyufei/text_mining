{
 "cells": [
  {
   "cell_type": "code",
   "execution_count": 1,
   "metadata": {
    "collapsed": true
   },
   "outputs": [],
   "source": [
    "import tensorflow as tf\n",
    "import numpy as np"
   ]
  },
  {
   "cell_type": "code",
   "execution_count": 2,
   "metadata": {
    "collapsed": true
   },
   "outputs": [],
   "source": [
    "# 定义一个图对象，存储数据流的计算图\n",
    "graph = tf.Graph()\n",
    "# 定义一个绘画，用计算图作为输入\n",
    "session = tf.InteractiveSession(graph=graph)"
   ]
  },
  {
   "cell_type": "code",
   "execution_count": 3,
   "metadata": {
    "collapsed": false
   },
   "outputs": [],
   "source": [
    "# 计算 h = sigmoid(wx+b)，定义各张量和占位符以及操作，它们将被tensorflow自动添加到计算图中作为节点\n",
    "# 输入定义1方法1: 通过占位符占位符，使用Python代码提供输入数据\n",
    "# x = tf.placeholder(shape=[1, 10], dtype=tf.float32, name='x')\n",
    "# 输入定义1方法2: 将数据加载为张量\n",
    "# x = tf.constant(value = [[0.1, 0.2, 0.3, 0.4, 0.5, 0.6, 0.7, 0.8, 0.9, 1.0]], dtype=tf.float32, name='x')\n",
    "# 输入定义1方法3: 搭建输入管道\n",
    "# 定义变量W，初始化器为tf.random_uniform\n",
    "W = tf.Variable(tf.random_uniform(shape=[10, 5], minval=-0.1, maxval=0.1, dtype=tf.float32, name='W'))\n",
    "# 定义变量b，初始化器为tf.zeros\n",
    "b = tf.Variable(tf.zeros(shape=[5], dtype=tf.float32, name='b'))\n",
    "# 定义操作（函数），h是一个张量\n",
    "h = tf.nn.sigmoid(tf.matmul(x, W) + b)"
   ]
  },
  {
   "cell_type": "code",
   "execution_count": 4,
   "metadata": {
    "collapsed": true
   },
   "outputs": [],
   "source": [
    "# 运行初始化操作\n",
    "tf.global_variables_initializer().run()"
   ]
  },
  {
   "cell_type": "code",
   "execution_count": 5,
   "metadata": {
    "collapsed": false
   },
   "outputs": [
    {
     "data": {
      "text/plain": [
       "array([[0.47711766, 0.5155275 , 0.5562218 , 0.51757175, 0.49101245]],\n",
       "      dtype=float32)"
      ]
     },
     "execution_count": 5,
     "metadata": {},
     "output_type": "execute_result"
    }
   ],
   "source": [
    "# 运行会话，并传入输入占位符x的值，它将执行计算图\n",
    "session.run(h, feed_dict={x:np.random.rand(1, 10)})  "
   ]
  },
  {
   "cell_type": "code",
   "execution_count": 6,
   "metadata": {
    "collapsed": true
   },
   "outputs": [],
   "source": [
    "# 关闭绘画\n",
    "session.close()"
   ]
  }
 ],
 "metadata": {
  "anaconda-cloud": {},
  "kernelspec": {
   "display_name": "Python [conda env:py36]",
   "language": "python",
   "name": "conda-env-py36-py"
  },
  "language_info": {
   "codemirror_mode": {
    "name": "ipython",
    "version": 3
   },
   "file_extension": ".py",
   "mimetype": "text/x-python",
   "name": "python",
   "nbconvert_exporter": "python",
   "pygments_lexer": "ipython3",
   "version": "3.6.2"
  }
 },
 "nbformat": 4,
 "nbformat_minor": 1
}
