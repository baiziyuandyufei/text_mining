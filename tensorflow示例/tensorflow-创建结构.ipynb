{
 "cells": [
  {
   "cell_type": "code",
   "execution_count": 1,
   "metadata": {
    "collapsed": true
   },
   "outputs": [],
   "source": [
    "import tensorflow as tf\n",
    "import numpy as np"
   ]
  },
  {
   "cell_type": "code",
   "execution_count": 2,
   "metadata": {
    "collapsed": true
   },
   "outputs": [],
   "source": [
    "# 创建数据\n",
    "x_data = np.random.rand(100).astype(np.float32)\n",
    "y_data = x_data*0.1+0.3"
   ]
  },
  {
   "cell_type": "code",
   "execution_count": 3,
   "metadata": {
    "collapsed": false
   },
   "outputs": [
    {
     "name": "stdout",
     "output_type": "stream",
     "text": [
      "WARNING:tensorflow:From /Users/yufei/anaconda3/envs/py36/lib/python3.6/site-packages/tensorflow_core/python/util/tf_should_use.py:198: initialize_all_variables (from tensorflow.python.ops.variables) is deprecated and will be removed after 2017-03-02.\n",
      "Instructions for updating:\n",
      "Use `tf.global_variables_initializer` instead.\n"
     ]
    }
   ],
   "source": [
    "# 创建tensorflow结构\n",
    "Weights = tf.Variable(tf.random_uniform([1], -1.0, 1.0))\n",
    "biases = tf.Variable(tf.zeros([1]))\n",
    "y = Weights*x_data + biases\n",
    "# 定义损失函数\n",
    "loss = tf.reduce_mean(tf.square(y-y_data))\n",
    "# 定义优化器\n",
    "optimizer = tf.train.GradientDescentOptimizer(0.5)  # 学习效率\n",
    "# 定义训练函数\n",
    "train = optimizer.minimize(loss)\n",
    "# 定义初始化函数\n",
    "init = tf.initialize_all_variables()"
   ]
  },
  {
   "cell_type": "code",
   "execution_count": 4,
   "metadata": {
    "collapsed": false
   },
   "outputs": [
    {
     "name": "stdout",
     "output_type": "stream",
     "text": [
      "0 [0.3816126] [0.19608977]\n",
      "20 [0.17465356] [0.25616148]\n",
      "40 [0.12187475] [0.2871546]\n",
      "60 [0.10640967] [0.2962361]\n",
      "80 [0.10187815] [0.29889712]\n",
      "100 [0.10055033] [0.29967684]\n",
      "120 [0.10016128] [0.2999053]\n",
      "140 [0.10004726] [0.29997227]\n",
      "160 [0.10001384] [0.29999188]\n",
      "180 [0.10000407] [0.29999763]\n",
      "200 [0.1000012] [0.2999993]\n"
     ]
    }
   ],
   "source": [
    "# 创建会话\n",
    "sess = tf.Session()\n",
    "# 初始化参数\n",
    "sess.run(init)\n",
    "# 迭代训练\n",
    "for step in range(201):\n",
    "    # 进行一次训练\n",
    "    sess.run(train)\n",
    "    if step % 20 ==0:\n",
    "        # 输出步骤序号，输出权重，输出偏置\n",
    "        print(step, sess.run(Weights), sess.run(biases))"
   ]
  }
 ],
 "metadata": {
  "anaconda-cloud": {},
  "kernelspec": {
   "display_name": "Python [conda env:py36]",
   "language": "python",
   "name": "conda-env-py36-py"
  },
  "language_info": {
   "codemirror_mode": {
    "name": "ipython",
    "version": 3
   },
   "file_extension": ".py",
   "mimetype": "text/x-python",
   "name": "python",
   "nbconvert_exporter": "python",
   "pygments_lexer": "ipython3",
   "version": "3.6.2"
  }
 },
 "nbformat": 4,
 "nbformat_minor": 1
}
