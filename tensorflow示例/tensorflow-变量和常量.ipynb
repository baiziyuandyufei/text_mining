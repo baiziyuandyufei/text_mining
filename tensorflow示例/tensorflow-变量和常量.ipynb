{
 "cells": [
  {
   "cell_type": "code",
   "execution_count": 1,
   "metadata": {
    "collapsed": true
   },
   "outputs": [],
   "source": [
    "import tensorflow as tf"
   ]
  },
  {
   "cell_type": "markdown",
   "metadata": {},
   "source": [
    "## 1. 定义常量、常量表达式并运算表达式"
   ]
  },
  {
   "cell_type": "markdown",
   "metadata": {},
   "source": [
    "### 1.1 定义常量"
   ]
  },
  {
   "cell_type": "code",
   "execution_count": 2,
   "metadata": {
    "collapsed": true
   },
   "outputs": [],
   "source": [
    "# 0维常量张量（标量）\n",
    "one = tf.constant(1)\n",
    "# 0维常量张量（标量）\n",
    "a = tf.constant(1)\n",
    "# 0维常量张量（标量）\n",
    "b = tf.constant(2)\n",
    "# 1维常量张量（向量）\n",
    "V1 = tf.constant([1., 2.])\n",
    "# 1维常量张量（向量）\n",
    "V2 = tf.constant([3., 4.])\n",
    "M = tf.constant([[1., 2.]])\n",
    "# 2维常量张量\n",
    "N = tf.constant([[1., 2.], \n",
    "                 [3., 4.]])\n",
    "# 3维常量张量\n",
    "K = tf.constant([\n",
    "        [1., 2.],\n",
    "        [3., 4.]\n",
    "    ])"
   ]
  },
  {
   "cell_type": "markdown",
   "metadata": {},
   "source": [
    "### 1.2 定义常量表达式"
   ]
  },
  {
   "cell_type": "code",
   "execution_count": 3,
   "metadata": {
    "collapsed": true
   },
   "outputs": [],
   "source": [
    "d = a*b\n",
    "# 矩阵对应位置元素相乘\n",
    "M2 = M*M\n",
    "# 矩阵乘法\n",
    "NN = tf.matmul(N, N)"
   ]
  },
  {
   "cell_type": "markdown",
   "metadata": {},
   "source": [
    "### 1.3 运算表达式"
   ]
  },
  {
   "cell_type": "code",
   "execution_count": 4,
   "metadata": {
    "collapsed": false
   },
   "outputs": [
    {
     "name": "stdout",
     "output_type": "stream",
     "text": [
      "NN = \n",
      " [[ 7. 10.]\n",
      " [15. 22.]]\n",
      "M2 = \n",
      " [[1. 4.]]\n"
     ]
    }
   ],
   "source": [
    "# 创建会话\n",
    "with tf.Session() as sess:\n",
    "    # sess.run(表达式或变量或常量)，返回numpy数组\n",
    "    print(\"NN = \\n\", sess.run(NN))\n",
    "    # 相当于sess.run(表达式或变量或常量)，返回numpy数组\n",
    "    print(\"M2 = \\n\", M2.eval())"
   ]
  },
  {
   "cell_type": "markdown",
   "metadata": {},
   "source": [
    "## 2. 定义变量、变量表达式并运算表达式"
   ]
  },
  {
   "cell_type": "markdown",
   "metadata": {},
   "source": [
    "### 2.1 定义变量"
   ]
  },
  {
   "cell_type": "code",
   "execution_count": 5,
   "metadata": {
    "collapsed": false
   },
   "outputs": [
    {
     "name": "stdout",
     "output_type": "stream",
     "text": [
      "W =  0\n"
     ]
    }
   ],
   "source": [
    "# 创建交互式会话，之后可以直接使用 张量.eval()来运算表达式。这是创建会话的第2种方式\n",
    "sess = tf.InteractiveSession()\n",
    "# 定义变量并初始化\n",
    "W = tf.Variable(0, name='Weight')\n",
    "sess.run(tf.global_variables_initializer())\n",
    "print(\"W = \", W.eval())"
   ]
  },
  {
   "cell_type": "markdown",
   "metadata": {},
   "source": [
    "### 2.2 定义变量表达式并运算表达式"
   ]
  },
  {
   "cell_type": "code",
   "execution_count": 6,
   "metadata": {
    "collapsed": false
   },
   "outputs": [
    {
     "name": "stdout",
     "output_type": "stream",
     "text": [
      "W= 0\n",
      "W+=a 后，W= 1\n"
     ]
    }
   ],
   "source": [
    "print(\"W=\", W.eval())\n",
    "# 定义变量+=常量的表达式\n",
    "W = W + a\n",
    "# 查看W的值\n",
    "print(\"W+=a 后，W=\", W.eval())"
   ]
  },
  {
   "cell_type": "markdown",
   "metadata": {},
   "source": [
    "### 2.3 给变量重新赋值"
   ]
  },
  {
   "cell_type": "code",
   "execution_count": 7,
   "metadata": {
    "collapsed": false
   },
   "outputs": [
    {
     "name": "stdout",
     "output_type": "stream",
     "text": [
      "update=  6\n"
     ]
    }
   ],
   "source": [
    "# 方法1: 通过assign方法赋值\n",
    "state = tf.Variable(5)\n",
    "sess.run(tf.global_variables_initializer())\n",
    "new_value = tf.add(state, 1)\n",
    "update = tf.assign(state, new_value)\n",
    "print(\"update= \", update.eval())"
   ]
  },
  {
   "cell_type": "code",
   "execution_count": 8,
   "metadata": {
    "collapsed": false
   },
   "outputs": [
    {
     "name": "stdout",
     "output_type": "stream",
     "text": [
      "d和b的值分别为 [2, 2]\n",
      "E的值为 4\n",
      "d重新赋值为4后后，E的值 10\n"
     ]
    }
   ],
   "source": [
    "# 方法2: 通过run()方法的feed_dict参数\n",
    "E = tf.add(d, b)\n",
    "print(\"d和b的值分别为\", sess.run([d, b]))\n",
    "print(\"E的值为\", sess.run(E))\n",
    "print(\"d重新赋值为4后后，E的值\", sess.run(E, feed_dict={d: 8.}))"
   ]
  }
 ],
 "metadata": {
  "anaconda-cloud": {},
  "kernelspec": {
   "display_name": "Python [conda env:py36]",
   "language": "python",
   "name": "conda-env-py36-py"
  },
  "language_info": {
   "codemirror_mode": {
    "name": "ipython",
    "version": 3
   },
   "file_extension": ".py",
   "mimetype": "text/x-python",
   "name": "python",
   "nbconvert_exporter": "python",
   "pygments_lexer": "ipython3",
   "version": "3.6.2"
  }
 },
 "nbformat": 4,
 "nbformat_minor": 1
}
