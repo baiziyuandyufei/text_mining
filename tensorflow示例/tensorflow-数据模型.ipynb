{
 "cells": [
  {
   "cell_type": "code",
   "execution_count": 1,
   "metadata": {
    "collapsed": true
   },
   "outputs": [],
   "source": [
    "import tensorflow as tf"
   ]
  },
  {
   "cell_type": "markdown",
   "metadata": {},
   "source": [
    "## 阶"
   ]
  },
  {
   "cell_type": "code",
   "execution_count": 2,
   "metadata": {},
   "outputs": [],
   "source": [
    "# 标量\n",
    "scalar = tf.constant(100)\n",
    "# 向量\n",
    "vector = tf.constant([1,2,3,4,5])\n",
    "# 矩阵\n",
    "matrix = tf.constant([[1,2,3],\n",
    "                      [4,5,6]])\n",
    "# 立方阵\n",
    "cube_matrix = tf.constant([[[1], [2], [3]],\n",
    "                           [[4], [5], [6]],\n",
    "                           [[7], [8], [9]]])"
   ]
  },
  {
   "cell_type": "markdown",
   "metadata": {},
   "source": [
    "## 形状"
   ]
  },
  {
   "cell_type": "code",
   "execution_count": 3,
   "metadata": {},
   "outputs": [
    {
     "name": "stdout",
     "output_type": "stream",
     "text": [
      "()\n",
      "(5,)\n",
      "(2, 3)\n",
      "(3, 3, 1)\n"
     ]
    }
   ],
   "source": [
    "print(scalar.get_shape())\n",
    "print(vector.get_shape())\n",
    "print(matrix.get_shape())\n",
    "print(cube_matrix.get_shape())"
   ]
  },
  {
   "cell_type": "code",
   "execution_count": 4,
   "metadata": {
    "collapsed": true
   },
   "outputs": [],
   "source": [
    "import numpy as np"
   ]
  },
  {
   "cell_type": "code",
   "execution_count": 5,
   "metadata": {},
   "outputs": [
    {
     "name": "stdout",
     "output_type": "stream",
     "text": [
      "(10,)\n",
      "[ 1  2  3  4  5  6  7  8  9 10]\n"
     ]
    }
   ],
   "source": [
    "tensor_1d = np.array([1, 2, 3, 4, 5, 6, 7, 8, 9, 10])\n",
    "tensor_1d = tf.constant(tensor_1d)\n",
    "with tf.Session() as sess:\n",
    "    print(tensor_1d.get_shape())\n",
    "    print(sess.run(tensor_1d))"
   ]
  },
  {
   "cell_type": "code",
   "execution_count": 6,
   "metadata": {},
   "outputs": [
    {
     "name": "stdout",
     "output_type": "stream",
     "text": [
      "(3, 3)\n",
      "[[1 2 3]\n",
      " [4 5 6]\n",
      " [7 8 9]]\n"
     ]
    }
   ],
   "source": [
    "tensor_2d = np.array([(1, 2, 3),\n",
    "                      (4, 5, 6),\n",
    "                      (7, 8, 9)])\n",
    "tensor_2d = tf.Variable(tensor_2d)\n",
    "with tf.Session() as sess:\n",
    "    sess.run(tf.global_variables_initializer())\n",
    "    print(tensor_2d.get_shape())\n",
    "    print(sess.run(tensor_2d))"
   ]
  },
  {
   "cell_type": "code",
   "execution_count": 7,
   "metadata": {},
   "outputs": [
    {
     "name": "stdout",
     "output_type": "stream",
     "text": [
      "[1 2 3 4 5]\n"
     ]
    }
   ],
   "source": [
    "interactive_session = tf.InteractiveSession()\n",
    "tensor = np.array([1, 2, 3, 4, 5])\n",
    "tensor = tf.constant(tensor)\n",
    "print(tensor.eval())\n",
    "interactive_session.close()"
   ]
  },
  {
   "cell_type": "code",
   "execution_count": 8,
   "metadata": {},
   "outputs": [
    {
     "name": "stdout",
     "output_type": "stream",
     "text": [
      "(3, 3, 3)\n",
      "[[[ 0.  1.  2.]\n",
      "  [ 3.  4.  5.]\n",
      "  [ 6.  7.  8.]]\n",
      "\n",
      " [[ 9. 10. 11.]\n",
      "  [12. 13. 14.]\n",
      "  [15. 16. 17.]]\n",
      "\n",
      " [[18. 19. 20.]\n",
      "  [21. 22. 23.]\n",
      "  [24. 25. 26.]]]\n"
     ]
    }
   ],
   "source": [
    "tensor_3d = np.array([[[0, 1, 2],\n",
    "                       [3, 4, 5],\n",
    "                       [6, 7, 8]],\n",
    "                      [[9, 10, 11],\n",
    "                       [12, 13, 14],\n",
    "                       [15, 16, 17]],\n",
    "                      [[18, 19, 20],\n",
    "                       [21, 22, 23],\n",
    "                       [24, 25, 26]]])\n",
    "tensor_3d = tf.convert_to_tensor(tensor_3d, dtype=tf.float64)\n",
    "with tf.Session() as sess:\n",
    "    print(tensor_3d.get_shape())\n",
    "    print(sess.run(tensor_3d))"
   ]
  }
 ],
 "metadata": {
  "kernelspec": {
   "display_name": "Python [conda env:py36]",
   "language": "python",
   "name": "conda-env-py36-py"
  },
  "language_info": {
   "codemirror_mode": {
    "name": "ipython",
    "version": 3
   },
   "file_extension": ".py",
   "mimetype": "text/x-python",
   "name": "python",
   "nbconvert_exporter": "python",
   "pygments_lexer": "ipython3",
   "version": "3.6.8"
  }
 },
 "nbformat": 4,
 "nbformat_minor": 2
}
