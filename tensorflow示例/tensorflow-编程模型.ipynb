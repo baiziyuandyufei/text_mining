{
 "cells": [
  {
   "cell_type": "code",
   "execution_count": 1,
   "metadata": {},
   "outputs": [
    {
     "name": "stdout",
     "output_type": "stream",
     "text": [
      "[2.]\n"
     ]
    }
   ],
   "source": [
    "# TensorFlow库被导入为tf\n",
    "import tensorflow as tf\n",
    "# 创建一个对象session，该对象包含计算图\n",
    "with tf.Session() as session:\n",
    "    # 通过占位符定义输入变量x,第1个参数是数据类型，第2个参数是占位符形状，第3个参数是变量名\n",
    "    x = tf.placeholder(tf.float32, [1], name=\"x\")\n",
    "    # 通过占位符定义输出变量y\n",
    "    y = tf.placeholder(tf.float32, [1], name=\"y\")\n",
    "    # 定义了一个常数\n",
    "    z = tf.constant(1.0)\n",
    "    #  定义计算模型\n",
    "    y = x * z\n",
    "    # 变量x_in的值\n",
    "    x_in = [2]\n",
    "    # 执行计算图，第1个参数是待计算的图元素列表，第2个参数表示参与运算的参数及其真正取值，返回每个图元素的输出值\n",
    "    y_output = session.run(y, {x: x_in})\n",
    "    # 打印结果\n",
    "    print(y_output)"
   ]
  }
 ],
 "metadata": {
  "anaconda-cloud": {},
  "kernelspec": {
   "display_name": "Python [conda env:py36]",
   "language": "python",
   "name": "conda-env-py36-py"
  },
  "language_info": {
   "codemirror_mode": {
    "name": "ipython",
    "version": 3
   },
   "file_extension": ".py",
   "mimetype": "text/x-python",
   "name": "python",
   "nbconvert_exporter": "python",
   "pygments_lexer": "ipython3",
   "version": "3.6.8"
  }
 },
 "nbformat": 4,
 "nbformat_minor": 2
}
